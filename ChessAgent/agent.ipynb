{
 "cells": [
  {
   "cell_type": "markdown",
   "metadata": {},
   "source": [
    "# Hay internet?"
   ]
  },
  {
   "cell_type": "code",
   "execution_count": 1,
   "metadata": {},
   "outputs": [
    {
     "data": {
      "text/plain": [
       "True"
      ]
     },
     "execution_count": 1,
     "metadata": {},
     "output_type": "execute_result"
    }
   ],
   "source": [
    "import requests\n",
    "requests.get('http://www.google.com',timeout=10).ok"
   ]
  },
  {
   "cell_type": "markdown",
   "metadata": {},
   "source": [
    "# Actualiza el Enviroment"
   ]
  },
  {
   "cell_type": "code",
   "execution_count": null,
   "metadata": {},
   "outputs": [
    {
     "name": "stdout",
     "output_type": "stream",
     "text": [
      "Collecting kaggle-environments\n",
      "  Downloading kaggle_environments-1.16.5-py2.py3-none-any.whl.metadata (10 kB)\n",
      "Collecting Chessnut>=0.3.1 (from kaggle-environments)\n",
      "  Downloading Chessnut-0.3.1.tar.gz (11 kB)\n",
      "  Preparing metadata (setup.py): started\n",
      "  Preparing metadata (setup.py): finished with status 'done'\n",
      "Collecting Flask>=1.1.2 (from kaggle-environments)\n",
      "  Downloading flask-3.1.0-py3-none-any.whl.metadata (2.7 kB)\n",
      "Collecting gymnasium==0.29.0 (from kaggle-environments)\n",
      "  Downloading gymnasium-0.29.0-py3-none-any.whl.metadata (10 kB)\n",
      "Requirement already satisfied: jsonschema>=3.0.1 in c:\\users\\jjaavviieerroperro\\appdata\\local\\programs\\python\\python312\\lib\\site-packages (from kaggle-environments) (4.23.0)\n",
      "Requirement already satisfied: numpy>=1.19.5 in c:\\users\\jjaavviieerroperro\\appdata\\local\\programs\\python\\python312\\lib\\site-packages (from kaggle-environments) (2.0.2)\n",
      "Collecting pettingzoo==1.24.0 (from kaggle-environments)\n",
      "  Downloading pettingzoo-1.24.0-py3-none-any.whl.metadata (8.1 kB)\n",
      "Requirement already satisfied: requests>=2.25.1 in c:\\users\\jjaavviieerroperro\\appdata\\local\\programs\\python\\python312\\lib\\site-packages (from kaggle-environments) (2.32.3)\n",
      "Requirement already satisfied: scipy>=1.11.2 in c:\\users\\jjaavviieerroperro\\appdata\\local\\programs\\python\\python312\\lib\\site-packages (from kaggle-environments) (1.14.1)\n",
      "Collecting shimmy>=1.2.1 (from kaggle-environments)\n",
      "  Downloading Shimmy-2.0.0-py3-none-any.whl.metadata (3.5 kB)\n",
      "Collecting stable-baselines3==2.1.0 (from kaggle-environments)\n",
      "  Downloading stable_baselines3-2.1.0-py3-none-any.whl.metadata (5.2 kB)\n",
      "Collecting transformers>=4.33.1 (from kaggle-environments)\n",
      "  Downloading transformers-4.46.3-py3-none-any.whl.metadata (44 kB)\n",
      "Collecting cloudpickle>=1.2.0 (from gymnasium==0.29.0->kaggle-environments)\n",
      "  Downloading cloudpickle-3.1.0-py3-none-any.whl.metadata (7.0 kB)\n",
      "Requirement already satisfied: typing-extensions>=4.3.0 in c:\\users\\jjaavviieerroperro\\appdata\\local\\programs\\python\\python312\\lib\\site-packages (from gymnasium==0.29.0->kaggle-environments) (4.12.2)\n",
      "Collecting farama-notifications>=0.0.1 (from gymnasium==0.29.0->kaggle-environments)\n",
      "  Downloading Farama_Notifications-0.0.4-py3-none-any.whl.metadata (558 bytes)\n",
      "Collecting torch>=1.13 (from stable-baselines3==2.1.0->kaggle-environments)\n",
      "  Downloading torch-2.5.1-cp312-cp312-win_amd64.whl.metadata (28 kB)\n",
      "Requirement already satisfied: pandas in c:\\users\\jjaavviieerroperro\\appdata\\local\\programs\\python\\python312\\lib\\site-packages (from stable-baselines3==2.1.0->kaggle-environments) (2.2.3)\n",
      "Requirement already satisfied: matplotlib in c:\\users\\jjaavviieerroperro\\appdata\\local\\programs\\python\\python312\\lib\\site-packages (from stable-baselines3==2.1.0->kaggle-environments) (3.9.2)\n",
      "Requirement already satisfied: Werkzeug>=3.1 in c:\\users\\jjaavviieerroperro\\appdata\\local\\programs\\python\\python312\\lib\\site-packages (from Flask>=1.1.2->kaggle-environments) (3.1.3)\n",
      "Requirement already satisfied: Jinja2>=3.1.2 in c:\\users\\jjaavviieerroperro\\appdata\\local\\programs\\python\\python312\\lib\\site-packages (from Flask>=1.1.2->kaggle-environments) (3.1.4)\n",
      "Collecting itsdangerous>=2.2 (from Flask>=1.1.2->kaggle-environments)\n",
      "  Downloading itsdangerous-2.2.0-py3-none-any.whl.metadata (1.9 kB)\n",
      "Requirement already satisfied: click>=8.1.3 in c:\\users\\jjaavviieerroperro\\appdata\\local\\programs\\python\\python312\\lib\\site-packages (from Flask>=1.1.2->kaggle-environments) (8.1.7)\n",
      "Requirement already satisfied: blinker>=1.9 in c:\\users\\jjaavviieerroperro\\appdata\\local\\programs\\python\\python312\\lib\\site-packages (from Flask>=1.1.2->kaggle-environments) (1.9.0)\n",
      "Requirement already satisfied: attrs>=22.2.0 in c:\\users\\jjaavviieerroperro\\appdata\\local\\programs\\python\\python312\\lib\\site-packages (from jsonschema>=3.0.1->kaggle-environments) (24.2.0)\n",
      "Requirement already satisfied: jsonschema-specifications>=2023.03.6 in c:\\users\\jjaavviieerroperro\\appdata\\local\\programs\\python\\python312\\lib\\site-packages (from jsonschema>=3.0.1->kaggle-environments) (2023.12.1)\n",
      "Requirement already satisfied: referencing>=0.28.4 in c:\\users\\jjaavviieerroperro\\appdata\\local\\programs\\python\\python312\\lib\\site-packages (from jsonschema>=3.0.1->kaggle-environments) (0.35.1)\n",
      "Requirement already satisfied: rpds-py>=0.7.1 in c:\\users\\jjaavviieerroperro\\appdata\\local\\programs\\python\\python312\\lib\\site-packages (from jsonschema>=3.0.1->kaggle-environments) (0.20.0)\n",
      "Requirement already satisfied: charset-normalizer<4,>=2 in c:\\users\\jjaavviieerroperro\\appdata\\local\\programs\\python\\python312\\lib\\site-packages (from requests>=2.25.1->kaggle-environments) (3.3.2)\n",
      "Requirement already satisfied: idna<4,>=2.5 in c:\\users\\jjaavviieerroperro\\appdata\\local\\programs\\python\\python312\\lib\\site-packages (from requests>=2.25.1->kaggle-environments) (3.8)\n",
      "Requirement already satisfied: urllib3<3,>=1.21.1 in c:\\users\\jjaavviieerroperro\\appdata\\local\\programs\\python\\python312\\lib\\site-packages (from requests>=2.25.1->kaggle-environments) (2.2.2)\n",
      "Requirement already satisfied: certifi>=2017.4.17 in c:\\users\\jjaavviieerroperro\\appdata\\local\\programs\\python\\python312\\lib\\site-packages (from requests>=2.25.1->kaggle-environments) (2024.8.30)\n",
      "INFO: pip is looking at multiple versions of shimmy to determine which version is compatible with other requirements. This could take a while.\n",
      "Collecting shimmy>=1.2.1 (from kaggle-environments)\n",
      "  Downloading Shimmy-1.3.0-py3-none-any.whl.metadata (3.7 kB)\n",
      "Collecting filelock (from transformers>=4.33.1->kaggle-environments)\n",
      "  Downloading filelock-3.16.1-py3-none-any.whl.metadata (2.9 kB)\n",
      "Collecting huggingface-hub<1.0,>=0.23.2 (from transformers>=4.33.1->kaggle-environments)\n",
      "  Downloading huggingface_hub-0.26.2-py3-none-any.whl.metadata (13 kB)\n",
      "Requirement already satisfied: packaging>=20.0 in c:\\users\\jjaavviieerroperro\\appdata\\local\\programs\\python\\python312\\lib\\site-packages (from transformers>=4.33.1->kaggle-environments) (24.1)\n",
      "Requirement already satisfied: pyyaml>=5.1 in c:\\users\\jjaavviieerroperro\\appdata\\local\\programs\\python\\python312\\lib\\site-packages (from transformers>=4.33.1->kaggle-environments) (6.0.2)\n",
      "Collecting regex!=2019.12.17 (from transformers>=4.33.1->kaggle-environments)\n",
      "  Downloading regex-2024.11.6-cp312-cp312-win_amd64.whl.metadata (41 kB)\n",
      "Collecting tokenizers<0.21,>=0.20 (from transformers>=4.33.1->kaggle-environments)\n",
      "  Downloading tokenizers-0.20.3-cp312-none-win_amd64.whl.metadata (6.9 kB)\n",
      "Collecting safetensors>=0.4.1 (from transformers>=4.33.1->kaggle-environments)\n",
      "  Downloading safetensors-0.4.5-cp312-none-win_amd64.whl.metadata (3.9 kB)\n",
      "Requirement already satisfied: tqdm>=4.27 in c:\\users\\jjaavviieerroperro\\appdata\\local\\programs\\python\\python312\\lib\\site-packages (from transformers>=4.33.1->kaggle-environments) (4.67.0)\n",
      "Requirement already satisfied: colorama in c:\\users\\jjaavviieerroperro\\appdata\\local\\programs\\python\\python312\\lib\\site-packages (from click>=8.1.3->Flask>=1.1.2->kaggle-environments) (0.4.6)\n",
      "Collecting fsspec>=2023.5.0 (from huggingface-hub<1.0,>=0.23.2->transformers>=4.33.1->kaggle-environments)\n",
      "  Downloading fsspec-2024.10.0-py3-none-any.whl.metadata (11 kB)\n",
      "Requirement already satisfied: MarkupSafe>=2.0 in c:\\users\\jjaavviieerroperro\\appdata\\local\\programs\\python\\python312\\lib\\site-packages (from Jinja2>=3.1.2->Flask>=1.1.2->kaggle-environments) (2.1.5)\n",
      "Requirement already satisfied: networkx in c:\\users\\jjaavviieerroperro\\appdata\\local\\programs\\python\\python312\\lib\\site-packages (from torch>=1.13->stable-baselines3==2.1.0->kaggle-environments) (3.4.2)\n",
      "Requirement already satisfied: setuptools in c:\\users\\jjaavviieerroperro\\appdata\\local\\programs\\python\\python312\\lib\\site-packages (from torch>=1.13->stable-baselines3==2.1.0->kaggle-environments) (74.1.2)\n",
      "Collecting sympy==1.13.1 (from torch>=1.13->stable-baselines3==2.1.0->kaggle-environments)\n",
      "  Downloading sympy-1.13.1-py3-none-any.whl.metadata (12 kB)\n",
      "Collecting mpmath<1.4,>=1.1.0 (from sympy==1.13.1->torch>=1.13->stable-baselines3==2.1.0->kaggle-environments)\n",
      "  Downloading mpmath-1.3.0-py3-none-any.whl.metadata (8.6 kB)\n",
      "Requirement already satisfied: contourpy>=1.0.1 in c:\\users\\jjaavviieerroperro\\appdata\\local\\programs\\python\\python312\\lib\\site-packages (from matplotlib->stable-baselines3==2.1.0->kaggle-environments) (1.3.0)\n",
      "Requirement already satisfied: cycler>=0.10 in c:\\users\\jjaavviieerroperro\\appdata\\local\\programs\\python\\python312\\lib\\site-packages (from matplotlib->stable-baselines3==2.1.0->kaggle-environments) (0.12.1)\n",
      "Requirement already satisfied: fonttools>=4.22.0 in c:\\users\\jjaavviieerroperro\\appdata\\local\\programs\\python\\python312\\lib\\site-packages (from matplotlib->stable-baselines3==2.1.0->kaggle-environments) (4.54.1)\n",
      "Requirement already satisfied: kiwisolver>=1.3.1 in c:\\users\\jjaavviieerroperro\\appdata\\local\\programs\\python\\python312\\lib\\site-packages (from matplotlib->stable-baselines3==2.1.0->kaggle-environments) (1.4.7)\n",
      "Requirement already satisfied: pillow>=8 in c:\\users\\jjaavviieerroperro\\appdata\\local\\programs\\python\\python312\\lib\\site-packages (from matplotlib->stable-baselines3==2.1.0->kaggle-environments) (10.4.0)\n",
      "Requirement already satisfied: pyparsing>=2.3.1 in c:\\users\\jjaavviieerroperro\\appdata\\local\\programs\\python\\python312\\lib\\site-packages (from matplotlib->stable-baselines3==2.1.0->kaggle-environments) (3.1.4)\n",
      "Requirement already satisfied: python-dateutil>=2.7 in c:\\users\\jjaavviieerroperro\\appdata\\local\\programs\\python\\python312\\lib\\site-packages (from matplotlib->stable-baselines3==2.1.0->kaggle-environments) (2.9.0.post0)\n",
      "Requirement already satisfied: pytz>=2020.1 in c:\\users\\jjaavviieerroperro\\appdata\\local\\programs\\python\\python312\\lib\\site-packages (from pandas->stable-baselines3==2.1.0->kaggle-environments) (2024.2)\n",
      "Requirement already satisfied: tzdata>=2022.7 in c:\\users\\jjaavviieerroperro\\appdata\\local\\programs\\python\\python312\\lib\\site-packages (from pandas->stable-baselines3==2.1.0->kaggle-environments) (2024.2)\n",
      "Requirement already satisfied: six>=1.5 in c:\\users\\jjaavviieerroperro\\appdata\\local\\programs\\python\\python312\\lib\\site-packages (from python-dateutil>=2.7->matplotlib->stable-baselines3==2.1.0->kaggle-environments) (1.16.0)\n",
      "Downloading kaggle_environments-1.16.5-py2.py3-none-any.whl (1.4 MB)\n",
      "   ---------------------------------------- 0.0/1.4 MB ? eta -:--:--\n",
      "   ---------------------------------------- 1.4/1.4 MB 11.8 MB/s eta 0:00:00\n",
      "Downloading gymnasium-0.29.0-py3-none-any.whl (953 kB)\n",
      "   ---------------------------------------- 0.0/953.8 kB ? eta -:--:--\n",
      "   ---------------------------------------- 953.8/953.8 kB 7.4 MB/s eta 0:00:00\n",
      "Downloading pettingzoo-1.24.0-py3-none-any.whl (840 kB)\n",
      "   ---------------------------------------- 0.0/840.2 kB ? eta -:--:--\n",
      "   --------------------------------------- 840.2/840.2 kB 12.3 MB/s eta 0:00:00\n",
      "Downloading stable_baselines3-2.1.0-py3-none-any.whl (178 kB)\n",
      "Downloading flask-3.1.0-py3-none-any.whl (102 kB)\n",
      "Downloading Shimmy-1.3.0-py3-none-any.whl (37 kB)\n",
      "Downloading transformers-4.46.3-py3-none-any.whl (10.0 MB)\n",
      "   ---------------------------------------- 0.0/10.0 MB ? eta -:--:--\n",
      "   ----------- ---------------------------- 2.9/10.0 MB 12.9 MB/s eta 0:00:01\n",
      "   ------------------------- -------------- 6.3/10.0 MB 14.9 MB/s eta 0:00:01\n",
      "   ---------------------------------------- 10.0/10.0 MB 16.0 MB/s eta 0:00:00\n",
      "Downloading cloudpickle-3.1.0-py3-none-any.whl (22 kB)\n",
      "Downloading Farama_Notifications-0.0.4-py3-none-any.whl (2.5 kB)\n",
      "Downloading huggingface_hub-0.26.2-py3-none-any.whl (447 kB)\n",
      "Downloading itsdangerous-2.2.0-py3-none-any.whl (16 kB)\n",
      "Downloading regex-2024.11.6-cp312-cp312-win_amd64.whl (273 kB)\n",
      "Downloading safetensors-0.4.5-cp312-none-win_amd64.whl (286 kB)\n",
      "Downloading tokenizers-0.20.3-cp312-none-win_amd64.whl (2.4 MB)\n",
      "   ---------------------------------------- 0.0/2.4 MB ? eta -:--:--\n",
      "   ---------------------------------------- 2.4/2.4 MB 19.4 MB/s eta 0:00:00\n",
      "Downloading torch-2.5.1-cp312-cp312-win_amd64.whl (203.0 MB)\n",
      "   ---------------------------------------- 0.0/203.0 MB ? eta -:--:--\n",
      "   - -------------------------------------- 5.5/203.0 MB 27.9 MB/s eta 0:00:08\n",
      "   -- ------------------------------------- 11.3/203.0 MB 28.2 MB/s eta 0:00:07\n",
      "   --- ------------------------------------ 17.0/203.0 MB 27.5 MB/s eta 0:00:07\n",
      "   ---- ----------------------------------- 22.3/203.0 MB 27.6 MB/s eta 0:00:07\n",
      "   ----- ---------------------------------- 28.3/203.0 MB 27.6 MB/s eta 0:00:07\n",
      "   ------ --------------------------------- 33.3/203.0 MB 27.1 MB/s eta 0:00:07\n",
      "   ------- -------------------------------- 38.8/203.0 MB 26.8 MB/s eta 0:00:07\n",
      "   -------- ------------------------------- 44.6/203.0 MB 26.7 MB/s eta 0:00:06\n",
      "   --------- ------------------------------ 49.8/203.0 MB 26.6 MB/s eta 0:00:06\n",
      "   ---------- ----------------------------- 55.3/203.0 MB 26.7 MB/s eta 0:00:06\n",
      "   ----------- ---------------------------- 60.8/203.0 MB 26.5 MB/s eta 0:00:06\n",
      "   ------------- -------------------------- 66.3/203.0 MB 26.4 MB/s eta 0:00:06\n",
      "   -------------- ------------------------- 72.1/203.0 MB 26.6 MB/s eta 0:00:05\n",
      "   --------------- ------------------------ 78.1/203.0 MB 26.5 MB/s eta 0:00:05\n",
      "   ---------------- ----------------------- 82.8/203.0 MB 26.4 MB/s eta 0:00:05\n",
      "   ----------------- ---------------------- 88.9/203.0 MB 26.5 MB/s eta 0:00:05\n",
      "   ------------------ --------------------- 93.6/203.0 MB 26.3 MB/s eta 0:00:05\n",
      "   ------------------- -------------------- 99.9/203.0 MB 26.5 MB/s eta 0:00:04\n",
      "   -------------------- ------------------ 105.6/203.0 MB 26.6 MB/s eta 0:00:04\n",
      "   --------------------- ----------------- 110.9/203.0 MB 26.5 MB/s eta 0:00:04\n",
      "   ---------------------- ---------------- 117.4/203.0 MB 26.7 MB/s eta 0:00:04\n",
      "   ----------------------- --------------- 123.7/203.0 MB 26.8 MB/s eta 0:00:03\n",
      "   ------------------------ -------------- 129.8/203.0 MB 26.9 MB/s eta 0:00:03\n",
      "   -------------------------- ------------ 135.5/203.0 MB 26.9 MB/s eta 0:00:03\n",
      "   --------------------------- ----------- 141.6/203.0 MB 27.0 MB/s eta 0:00:03\n",
      "   ---------------------------- ---------- 146.8/203.0 MB 26.9 MB/s eta 0:00:03\n",
      "   ----------------------------- --------- 152.8/203.0 MB 27.0 MB/s eta 0:00:02\n",
      "   ------------------------------ -------- 158.6/203.0 MB 27.0 MB/s eta 0:00:02\n",
      "   ------------------------------- ------- 164.9/203.0 MB 27.1 MB/s eta 0:00:02\n",
      "   -------------------------------- ------ 170.1/203.0 MB 27.0 MB/s eta 0:00:02\n",
      "   --------------------------------- ----- 176.4/203.0 MB 27.0 MB/s eta 0:00:01\n",
      "   ---------------------------------- ---- 181.7/203.0 MB 27.0 MB/s eta 0:00:01\n",
      "   ----------------------------------- --- 186.9/203.0 MB 27.0 MB/s eta 0:00:01\n",
      "   ------------------------------------- - 194.0/203.0 MB 27.1 MB/s eta 0:00:01\n",
      "   --------------------------------------  200.3/203.0 MB 27.2 MB/s eta 0:00:01\n",
      "   --------------------------------------  202.9/203.0 MB 27.3 MB/s eta 0:00:01\n",
      "   --------------------------------------  202.9/203.0 MB 27.3 MB/s eta 0:00:01\n",
      "   --------------------------------------  202.9/203.0 MB 27.3 MB/s eta 0:00:01\n",
      "   --------------------------------------- 203.0/203.0 MB 25.2 MB/s eta 0:00:00\n",
      "Downloading sympy-1.13.1-py3-none-any.whl (6.2 MB)\n",
      "   ---------------------------------------- 0.0/6.2 MB ? eta -:--:--\n",
      "   ------------------------- -------------- 3.9/6.2 MB 21.3 MB/s eta 0:00:01\n",
      "   -------------------------------------- - 6.0/6.2 MB 18.5 MB/s eta 0:00:01\n",
      "   ---------------------------------------- 6.2/6.2 MB 9.7 MB/s eta 0:00:00\n",
      "Downloading filelock-3.16.1-py3-none-any.whl (16 kB)\n",
      "Downloading fsspec-2024.10.0-py3-none-any.whl (179 kB)\n",
      "Downloading mpmath-1.3.0-py3-none-any.whl (536 kB)\n",
      "   ---------------------------------------- 0.0/536.2 kB ? eta -:--:--\n",
      "   ---------------------------------------- 536.2/536.2 kB 4.4 MB/s eta 0:00:00\n",
      "Building wheels for collected packages: Chessnut\n",
      "  Building wheel for Chessnut (setup.py): started\n",
      "  Building wheel for Chessnut (setup.py): finished with status 'done'\n",
      "  Created wheel for Chessnut: filename=Chessnut-0.3.1-py3-none-any.whl size=10043 sha256=8215e8605127d5a5917a322df8b74ed7b9130ea0d0ede854e07296a4369dd267\n",
      "  Stored in directory: c:\\users\\jjaavviieerroperro\\appdata\\local\\pip\\cache\\wheels\\44\\e6\\58\\fb54eda7e810631c576677f20a2a46e5113f48e79dffdc9f8b\n",
      "Successfully built Chessnut\n",
      "Installing collected packages: mpmath, farama-notifications, Chessnut, sympy, safetensors, regex, itsdangerous, fsspec, filelock, cloudpickle, torch, huggingface-hub, gymnasium, Flask, tokenizers, stable-baselines3, shimmy, pettingzoo, transformers, kaggle-environments\n",
      "Successfully installed Chessnut-0.3.1 Flask-3.1.0 cloudpickle-3.1.0 farama-notifications-0.0.4 filelock-3.16.1 fsspec-2024.10.0 gymnasium-0.29.0 huggingface-hub-0.26.2 itsdangerous-2.2.0 kaggle-environments-1.16.5 mpmath-1.3.0 pettingzoo-1.24.0 regex-2024.11.6 safetensors-0.4.5 shimmy-1.3.0 stable-baselines3-2.1.0 sympy-1.13.1 tokenizers-0.20.3 torch-2.5.1 transformers-4.46.3\n"
     ]
    },
    {
     "name": "stderr",
     "output_type": "stream",
     "text": [
      "\n",
      "[notice] A new release of pip is available: 24.2 -> 24.3.1\n",
      "[notice] To update, run: python.exe -m pip install --upgrade pip\n"
     ]
    }
   ],
   "source": [
    "# !pip install --upgrade kaggle-environments"
   ]
  },
  {
   "cell_type": "markdown",
   "metadata": {},
   "source": [
    "# Enviroment de Kaggle de Chest"
   ]
  },
  {
   "cell_type": "code",
   "execution_count": 20,
   "metadata": {},
   "outputs": [],
   "source": [
    "from kaggle_environments import make\n",
    "env = make(\"chess\", debug=True)"
   ]
  },
  {
   "cell_type": "markdown",
   "metadata": {},
   "source": [
    "# Prueba Random"
   ]
  },
  {
   "cell_type": "code",
   "execution_count": 21,
   "metadata": {},
   "outputs": [
    {
     "ename": "UnicodeDecodeError",
     "evalue": "'charmap' codec can't decode byte 0x9d in position 30474: character maps to <undefined>",
     "output_type": "error",
     "traceback": [
      "\u001b[1;31m---------------------------------------------------------------------------\u001b[0m",
      "\u001b[1;31mUnicodeDecodeError\u001b[0m                        Traceback (most recent call last)",
      "Cell \u001b[1;32mIn[21], line 2\u001b[0m\n\u001b[0;32m      1\u001b[0m result \u001b[38;5;241m=\u001b[39m env\u001b[38;5;241m.\u001b[39mrun([\u001b[38;5;124m\"\u001b[39m\u001b[38;5;124mrandom\u001b[39m\u001b[38;5;124m\"\u001b[39m, \u001b[38;5;124m\"\u001b[39m\u001b[38;5;124mrandom\u001b[39m\u001b[38;5;124m\"\u001b[39m])\n\u001b[1;32m----> 2\u001b[0m \u001b[43menv\u001b[49m\u001b[38;5;241;43m.\u001b[39;49m\u001b[43mrender\u001b[49m\u001b[43m(\u001b[49m\u001b[43mmode\u001b[49m\u001b[38;5;241;43m=\u001b[39;49m\u001b[38;5;124;43m\"\u001b[39;49m\u001b[38;5;124;43mipython\u001b[39;49m\u001b[38;5;124;43m\"\u001b[39;49m\u001b[43m,\u001b[49m\u001b[43m \u001b[49m\u001b[43mwidth\u001b[49m\u001b[38;5;241;43m=\u001b[39;49m\u001b[38;5;241;43m1000\u001b[39;49m\u001b[43m,\u001b[49m\u001b[43m \u001b[49m\u001b[43mheight\u001b[49m\u001b[38;5;241;43m=\u001b[39;49m\u001b[38;5;241;43m1000\u001b[39;49m\u001b[43m)\u001b[49m\n",
      "File \u001b[1;32mc:\\Users\\Jjaavviieerroperro\\AppData\\Local\\Programs\\Python\\Python312\\Lib\\site-packages\\kaggle_environments\\core.py:336\u001b[0m, in \u001b[0;36mEnvironment.render\u001b[1;34m(self, **kwargs)\u001b[0m\n\u001b[0;32m    325\u001b[0m window_kaggle \u001b[38;5;241m=\u001b[39m {\n\u001b[0;32m    326\u001b[0m     \u001b[38;5;124m\"\u001b[39m\u001b[38;5;124mdebug\u001b[39m\u001b[38;5;124m\"\u001b[39m: get(kwargs, \u001b[38;5;28mbool\u001b[39m, \u001b[38;5;28mself\u001b[39m\u001b[38;5;241m.\u001b[39mdebug, path\u001b[38;5;241m=\u001b[39m[\u001b[38;5;124m\"\u001b[39m\u001b[38;5;124mdebug\u001b[39m\u001b[38;5;124m\"\u001b[39m]),\n\u001b[0;32m    327\u001b[0m     \u001b[38;5;124m\"\u001b[39m\u001b[38;5;124mplaying\u001b[39m\u001b[38;5;124m\"\u001b[39m: is_playing,\n\u001b[1;32m   (...)\u001b[0m\n\u001b[0;32m    332\u001b[0m     \u001b[38;5;241m*\u001b[39m\u001b[38;5;241m*\u001b[39mkwargs,\n\u001b[0;32m    333\u001b[0m }\n\u001b[0;32m    334\u001b[0m args \u001b[38;5;241m=\u001b[39m [\u001b[38;5;28mself\u001b[39m]\n\u001b[0;32m    335\u001b[0m player_html \u001b[38;5;241m=\u001b[39m get_player(window_kaggle,\n\u001b[1;32m--> 336\u001b[0m                          \u001b[38;5;28;43mself\u001b[39;49m\u001b[38;5;241;43m.\u001b[39;49m\u001b[43mhtml_renderer\u001b[49m\u001b[43m(\u001b[49m\u001b[38;5;241;43m*\u001b[39;49m\u001b[43margs\u001b[49m\u001b[43m[\u001b[49m\u001b[43m:\u001b[49m\u001b[38;5;28;43mself\u001b[39;49m\u001b[38;5;241;43m.\u001b[39;49m\u001b[43mhtml_renderer\u001b[49m\u001b[38;5;241;43m.\u001b[39;49m\u001b[38;5;18;43m__code__\u001b[39;49m\u001b[38;5;241;43m.\u001b[39;49m\u001b[43mco_argcount\u001b[49m\u001b[43m]\u001b[49m\u001b[43m)\u001b[49m)\n\u001b[0;32m    337\u001b[0m \u001b[38;5;28;01mif\u001b[39;00m mode \u001b[38;5;241m==\u001b[39m \u001b[38;5;124m\"\u001b[39m\u001b[38;5;124mhtml\u001b[39m\u001b[38;5;124m\"\u001b[39m:\n\u001b[0;32m    338\u001b[0m     \u001b[38;5;28;01mreturn\u001b[39;00m player_html\n",
      "File \u001b[1;32mc:\\Users\\Jjaavviieerroperro\\AppData\\Local\\Programs\\Python\\Python312\\Lib\\site-packages\\kaggle_environments\\envs\\chess\\chess.py:253\u001b[0m, in \u001b[0;36mhtml_renderer\u001b[1;34m()\u001b[0m\n\u001b[0;32m    251\u001b[0m jspath \u001b[38;5;241m=\u001b[39m path\u001b[38;5;241m.\u001b[39mabspath(path\u001b[38;5;241m.\u001b[39mjoin(path\u001b[38;5;241m.\u001b[39mdirname(\u001b[38;5;18m__file__\u001b[39m), \u001b[38;5;124m\"\u001b[39m\u001b[38;5;124mchess.js\u001b[39m\u001b[38;5;124m\"\u001b[39m))\n\u001b[0;32m    252\u001b[0m \u001b[38;5;28;01mwith\u001b[39;00m \u001b[38;5;28mopen\u001b[39m(jspath) \u001b[38;5;28;01mas\u001b[39;00m g:\n\u001b[1;32m--> 253\u001b[0m     \u001b[38;5;28;01mreturn\u001b[39;00m \u001b[43mg\u001b[49m\u001b[38;5;241;43m.\u001b[39;49m\u001b[43mread\u001b[49m\u001b[43m(\u001b[49m\u001b[43m)\u001b[49m\n",
      "File \u001b[1;32mc:\\Users\\Jjaavviieerroperro\\AppData\\Local\\Programs\\Python\\Python312\\Lib\\encodings\\cp1252.py:23\u001b[0m, in \u001b[0;36mIncrementalDecoder.decode\u001b[1;34m(self, input, final)\u001b[0m\n\u001b[0;32m     22\u001b[0m \u001b[38;5;28;01mdef\u001b[39;00m \u001b[38;5;21mdecode\u001b[39m(\u001b[38;5;28mself\u001b[39m, \u001b[38;5;28minput\u001b[39m, final\u001b[38;5;241m=\u001b[39m\u001b[38;5;28;01mFalse\u001b[39;00m):\n\u001b[1;32m---> 23\u001b[0m     \u001b[38;5;28;01mreturn\u001b[39;00m \u001b[43mcodecs\u001b[49m\u001b[38;5;241;43m.\u001b[39;49m\u001b[43mcharmap_decode\u001b[49m\u001b[43m(\u001b[49m\u001b[38;5;28;43minput\u001b[39;49m\u001b[43m,\u001b[49m\u001b[38;5;28;43mself\u001b[39;49m\u001b[38;5;241;43m.\u001b[39;49m\u001b[43merrors\u001b[49m\u001b[43m,\u001b[49m\u001b[43mdecoding_table\u001b[49m\u001b[43m)\u001b[49m[\u001b[38;5;241m0\u001b[39m]\n",
      "\u001b[1;31mUnicodeDecodeError\u001b[0m: 'charmap' codec can't decode byte 0x9d in position 30474: character maps to <undefined>"
     ]
    }
   ],
   "source": [
    "result = env.run([\"random\", \"random\"])\n",
    "env.render(mode=\"ipython\", width=1000, height=1000)"
   ]
  },
  {
   "cell_type": "code",
   "execution_count": 19,
   "metadata": {},
   "outputs": [
    {
     "name": "stdout",
     "output_type": "stream",
     "text": [
      "Overwriting main.py\n"
     ]
    }
   ],
   "source": [
    "%%writefile main.py\n",
    "from Chessnut import Game\n",
    "import random\n",
    "\n",
    "def heuristic_chess_bot(obs):\n",
    "    \"\"\"\n",
    "    A heuristic-based chess bot that prioritizes:\n",
    "    - Checkmates\n",
    "    - Captures\n",
    "    - Promotions\n",
    "    - Random moves\n",
    "    Args:\n",
    "        obs: Object with 'board' representing board state as FEN string\n",
    "    Returns:\n",
    "        Move in UCI notation\n",
    "    \"\"\"\n",
    "    game = Game(obs.board)\n",
    "    moves = list(game.get_moves())\n",
    "    random.shuffle(moves)  # Randomize moves to add variation\n",
    "\n",
    "    # Prioritize checkmates\n",
    "    for move in moves[:10]:\n",
    "        g = Game(obs.board)\n",
    "        g.apply_move(move)\n",
    "        if g.status == Game.CHECKMATE:\n",
    "            return move\n",
    "\n",
    "    # Check for captures\n",
    "    for move in moves:\n",
    "        if game.board.get_piece(Game.xy2i(move[2:4])) != ' ':\n",
    "            return move\n",
    "\n",
    "    # Check for promotions\n",
    "    for move in moves:\n",
    "        if \"q\" in move.lower():  # Queen promotion\n",
    "            return move\n",
    "\n",
    "    # Default to random move\n",
    "    return random.choice(moves)"
   ]
  },
  {
   "cell_type": "markdown",
   "metadata": {},
   "source": [
    "## Texting Agent:"
   ]
  },
  {
   "cell_type": "code",
   "execution_count": null,
   "metadata": {},
   "outputs": [
    {
     "ename": "TypeError",
     "evalue": "'<' not supported between instances of 'str' and 'int'",
     "output_type": "error",
     "traceback": [
      "\u001b[1;31m---------------------------------------------------------------------------\u001b[0m",
      "\u001b[1;31mTypeError\u001b[0m                                 Traceback (most recent call last)",
      "Cell \u001b[1;32mIn[22], line 1\u001b[0m\n\u001b[1;32m----> 1\u001b[0m result \u001b[38;5;241m=\u001b[39m \u001b[43menv\u001b[49m\u001b[38;5;241;43m.\u001b[39;49m\u001b[43mrun\u001b[49m\u001b[43m(\u001b[49m\u001b[43m[\u001b[49m\u001b[38;5;124;43m\"\u001b[39;49m\u001b[38;5;124;43minitial_agent.py\u001b[39;49m\u001b[38;5;124;43m\"\u001b[39;49m\u001b[43m,\u001b[49m\u001b[43m \u001b[49m\u001b[38;5;124;43m\"\u001b[39;49m\u001b[38;5;124;43mrandom\u001b[39;49m\u001b[38;5;124;43m\"\u001b[39;49m\u001b[43m]\u001b[49m\u001b[43m)\u001b[49m\n\u001b[0;32m      2\u001b[0m \u001b[38;5;28;01mfor\u001b[39;00m agent \u001b[38;5;129;01min\u001b[39;00m result[\u001b[38;5;241m-\u001b[39m\u001b[38;5;241m1\u001b[39m]:\n\u001b[0;32m      3\u001b[0m     \u001b[38;5;28mprint\u001b[39m(\u001b[38;5;124m\"\u001b[39m\u001b[38;5;124mStatus:\u001b[39m\u001b[38;5;124m\"\u001b[39m, agent\u001b[38;5;241m.\u001b[39mstatus, \u001b[38;5;124m\"\u001b[39m\u001b[38;5;124m/ Reward:\u001b[39m\u001b[38;5;124m\"\u001b[39m, agent\u001b[38;5;241m.\u001b[39mreward, \u001b[38;5;124m\"\u001b[39m\u001b[38;5;124m/ Time left:\u001b[39m\u001b[38;5;124m\"\u001b[39m, agent\u001b[38;5;241m.\u001b[39mobservation\u001b[38;5;241m.\u001b[39mremainingOverageTime)\n",
      "File \u001b[1;32mc:\\Users\\Jjaavviieerroperro\\AppData\\Local\\Programs\\Python\\Python312\\Lib\\site-packages\\kaggle_environments\\core.py:264\u001b[0m, in \u001b[0;36mEnvironment.run\u001b[1;34m(self, agents)\u001b[0m\n\u001b[0;32m    260\u001b[0m \u001b[38;5;28;01mif\u001b[39;00m \u001b[38;5;28mlen\u001b[39m(\u001b[38;5;28mself\u001b[39m\u001b[38;5;241m.\u001b[39mstate) \u001b[38;5;241m!=\u001b[39m \u001b[38;5;28mlen\u001b[39m(agents):\n\u001b[0;32m    261\u001b[0m     \u001b[38;5;28;01mraise\u001b[39;00m InvalidArgument(\n\u001b[0;32m    262\u001b[0m         \u001b[38;5;124mf\u001b[39m\u001b[38;5;124m\"\u001b[39m\u001b[38;5;132;01m{\u001b[39;00m\u001b[38;5;28mlen\u001b[39m(\u001b[38;5;28mself\u001b[39m\u001b[38;5;241m.\u001b[39mstate)\u001b[38;5;132;01m}\u001b[39;00m\u001b[38;5;124m agents were expected, but \u001b[39m\u001b[38;5;132;01m{\u001b[39;00m\u001b[38;5;28mlen\u001b[39m(agents)\u001b[38;5;132;01m}\u001b[39;00m\u001b[38;5;124m was given.\u001b[39m\u001b[38;5;124m\"\u001b[39m)\n\u001b[1;32m--> 264\u001b[0m runner \u001b[38;5;241m=\u001b[39m \u001b[38;5;28;43mself\u001b[39;49m\u001b[38;5;241;43m.\u001b[39;49m\u001b[43m__agent_runner\u001b[49m\u001b[43m(\u001b[49m\u001b[43magents\u001b[49m\u001b[43m)\u001b[49m\n\u001b[0;32m    265\u001b[0m start \u001b[38;5;241m=\u001b[39m perf_counter()\n\u001b[0;32m    266\u001b[0m \u001b[38;5;28;01mwhile\u001b[39;00m \u001b[38;5;129;01mnot\u001b[39;00m \u001b[38;5;28mself\u001b[39m\u001b[38;5;241m.\u001b[39mdone \u001b[38;5;129;01mand\u001b[39;00m perf_counter() \u001b[38;5;241m-\u001b[39m start \u001b[38;5;241m<\u001b[39m \u001b[38;5;28mself\u001b[39m\u001b[38;5;241m.\u001b[39mconfiguration\u001b[38;5;241m.\u001b[39mrunTimeout:\n",
      "File \u001b[1;32mc:\\Users\\Jjaavviieerroperro\\AppData\\Local\\Programs\\Python\\Python312\\Lib\\site-packages\\kaggle_environments\\core.py:671\u001b[0m, in \u001b[0;36mEnvironment.__agent_runner\u001b[1;34m(self, agents)\u001b[0m\n\u001b[0;32m    668\u001b[0m \u001b[38;5;28;01mdef\u001b[39;00m \u001b[38;5;21m__agent_runner\u001b[39m(\u001b[38;5;28mself\u001b[39m, agents):\n\u001b[0;32m    669\u001b[0m     \u001b[38;5;66;03m# Generate the agents.\u001b[39;00m\n\u001b[0;32m    670\u001b[0m     agents \u001b[38;5;241m=\u001b[39m [\n\u001b[1;32m--> 671\u001b[0m         \u001b[43mAgent\u001b[49m\u001b[43m(\u001b[49m\u001b[43magent\u001b[49m\u001b[43m,\u001b[49m\u001b[43m \u001b[49m\u001b[38;5;28;43mself\u001b[39;49m\u001b[43m)\u001b[49m\n\u001b[0;32m    672\u001b[0m         \u001b[38;5;28;01mif\u001b[39;00m agent \u001b[38;5;129;01mis\u001b[39;00m \u001b[38;5;129;01mnot\u001b[39;00m \u001b[38;5;28;01mNone\u001b[39;00m\n\u001b[0;32m    673\u001b[0m         \u001b[38;5;28;01melse\u001b[39;00m \u001b[38;5;28;01mNone\u001b[39;00m\n\u001b[0;32m    674\u001b[0m         \u001b[38;5;28;01mfor\u001b[39;00m agent \u001b[38;5;129;01min\u001b[39;00m agents\n\u001b[0;32m    675\u001b[0m     ]\n\u001b[0;32m    677\u001b[0m     \u001b[38;5;28;01mdef\u001b[39;00m \u001b[38;5;21mact\u001b[39m(none_action\u001b[38;5;241m=\u001b[39m\u001b[38;5;28;01mNone\u001b[39;00m):\n\u001b[0;32m    678\u001b[0m         \u001b[38;5;28;01mif\u001b[39;00m \u001b[38;5;28mlen\u001b[39m(agents) \u001b[38;5;241m!=\u001b[39m \u001b[38;5;28mlen\u001b[39m(\u001b[38;5;28mself\u001b[39m\u001b[38;5;241m.\u001b[39mstate):\n",
      "File \u001b[1;32mc:\\Users\\Jjaavviieerroperro\\AppData\\Local\\Programs\\Python\\Python312\\Lib\\site-packages\\kaggle_environments\\agent.py:153\u001b[0m, in \u001b[0;36mAgent.__init__\u001b[1;34m(self, raw, environment)\u001b[0m\n\u001b[0;32m    151\u001b[0m \u001b[38;5;28mself\u001b[39m\u001b[38;5;241m.\u001b[39menvironment_name \u001b[38;5;241m=\u001b[39m environment\u001b[38;5;241m.\u001b[39mname\n\u001b[0;32m    152\u001b[0m \u001b[38;5;28mself\u001b[39m\u001b[38;5;241m.\u001b[39mraw \u001b[38;5;241m=\u001b[39m raw\n\u001b[1;32m--> 153\u001b[0m \u001b[38;5;28mself\u001b[39m\u001b[38;5;241m.\u001b[39magent, \u001b[38;5;28mself\u001b[39m\u001b[38;5;241m.\u001b[39mis_parallelizable \u001b[38;5;241m=\u001b[39m \u001b[43mbuild_agent\u001b[49m\u001b[43m(\u001b[49m\u001b[38;5;28;43mself\u001b[39;49m\u001b[38;5;241;43m.\u001b[39;49m\u001b[43mraw\u001b[49m\u001b[43m,\u001b[49m\u001b[43m \u001b[49m\u001b[38;5;28;43mself\u001b[39;49m\u001b[38;5;241;43m.\u001b[39;49m\u001b[43mbuiltin_agents\u001b[49m\u001b[43m,\u001b[49m\u001b[43m \u001b[49m\u001b[38;5;28;43mself\u001b[39;49m\u001b[38;5;241;43m.\u001b[39;49m\u001b[43menvironment_name\u001b[49m\u001b[43m)\u001b[49m\n",
      "File \u001b[1;32mc:\\Users\\Jjaavviieerroperro\\AppData\\Local\\Programs\\Python\\Python312\\Lib\\site-packages\\kaggle_environments\\agent.py:126\u001b[0m, in \u001b[0;36mbuild_agent\u001b[1;34m(raw, builtin_agents, environment_name)\u001b[0m\n\u001b[0;32m    124\u001b[0m \u001b[38;5;28;01mif\u001b[39;00m os\u001b[38;5;241m.\u001b[39mpath\u001b[38;5;241m.\u001b[39mexists(raw):\n\u001b[0;32m    125\u001b[0m     raw_agent \u001b[38;5;241m=\u001b[39m read_file(raw, raw)\n\u001b[1;32m--> 126\u001b[0m \u001b[38;5;28;01melif\u001b[39;00m (\u001b[38;5;28mlen\u001b[39m(raw) \u001b[38;5;241m<\u001b[39m \u001b[38;5;241m100\u001b[39m \u001b[38;5;129;01mand\u001b[39;00m (\u001b[38;5;124m\"\u001b[39m\u001b[38;5;124m/\u001b[39m\u001b[38;5;124m\"\u001b[39m \u001b[38;5;129;01min\u001b[39;00m raw \u001b[38;5;129;01mor\u001b[39;00m \u001b[38;5;124m\"\u001b[39m\u001b[38;5;130;01m\\\\\u001b[39;00m\u001b[38;5;124m\"\u001b[39m \u001b[38;5;129;01min\u001b[39;00m raw)) \u001b[38;5;129;01mor\u001b[39;00m \u001b[43mraw\u001b[49m\u001b[43m \u001b[49m\u001b[38;5;241;43m<\u001b[39;49m\u001b[43m \u001b[49m\u001b[38;5;241;43m20\u001b[39;49m:\n\u001b[0;32m    127\u001b[0m     \u001b[38;5;28;01mraise\u001b[39;00m \u001b[38;5;167;01mFileNotFoundError\u001b[39;00m(\u001b[38;5;124m\"\u001b[39m\u001b[38;5;124mCould not find : \u001b[39m\u001b[38;5;124m\"\u001b[39m \u001b[38;5;241m+\u001b[39m raw)\n\u001b[0;32m    129\u001b[0m \u001b[38;5;66;03m# Attempt to execute the last callable or just return the string.\u001b[39;00m\n",
      "\u001b[1;31mTypeError\u001b[0m: '<' not supported between instances of 'str' and 'int'"
     ]
    }
   ],
   "source": [
    "result = env.run([\"initial_agent.py\", \"random\"])\n",
    "\n",
    "for agent in result[-1]:\n",
    "    print(\"Status:\", agent.status,\n",
    "           \"/ Reward:\", agent.reward,\n",
    "           \"/ Time left:\",\n",
    "           agent.observation.remainingOverageTime)\n",
    "    \n",
    "env.render(mode=\"ipython\", width=1000, height=1000)"
   ]
  }
 ],
 "metadata": {
  "kernelspec": {
   "display_name": "Python 3",
   "language": "python",
   "name": "python3"
  },
  "language_info": {
   "codemirror_mode": {
    "name": "ipython",
    "version": 3
   },
   "file_extension": ".py",
   "mimetype": "text/x-python",
   "name": "python",
   "nbconvert_exporter": "python",
   "pygments_lexer": "ipython3",
   "version": "3.12.5"
  }
 },
 "nbformat": 4,
 "nbformat_minor": 2
}
