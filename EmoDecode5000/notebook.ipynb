{
 "cells": [
  {
   "cell_type": "markdown",
   "metadata": {},
   "source": [
    "# Bibliotecas"
   ]
  },
  {
   "cell_type": "code",
   "execution_count": 53,
   "metadata": {},
   "outputs": [],
   "source": [
    "import pandas as pd\n",
    "import os\n",
    "from PIL import Image\n",
    "import matplotlib.pyplot as plt\n",
    "import seaborn as sns\n",
    "import cv2\n",
    "import numpy as np\n",
    "from sklearn.model_selection import train_test_split\n",
    "from tensorflow.keras.callbacks import EarlyStopping\n",
    "from sklearn.metrics import classification_report\n",
    "from sklearn.metrics import confusion_matrix"
   ]
  },
  {
   "cell_type": "markdown",
   "metadata": {},
   "source": [
    "# ¿Qué tenemos?"
   ]
  },
  {
   "cell_type": "code",
   "execution_count": 54,
   "metadata": {},
   "outputs": [
    {
     "data": {
      "text/html": [
       "<div>\n",
       "<style scoped>\n",
       "    .dataframe tbody tr th:only-of-type {\n",
       "        vertical-align: middle;\n",
       "    }\n",
       "\n",
       "    .dataframe tbody tr th {\n",
       "        vertical-align: top;\n",
       "    }\n",
       "\n",
       "    .dataframe thead th {\n",
       "        text-align: right;\n",
       "    }\n",
       "</style>\n",
       "<table border=\"1\" class=\"dataframe\">\n",
       "  <thead>\n",
       "    <tr style=\"text-align: right;\">\n",
       "      <th></th>\n",
       "      <th>id_img</th>\n",
       "      <th>path</th>\n",
       "      <th>label</th>\n",
       "    </tr>\n",
       "  </thead>\n",
       "  <tbody>\n",
       "    <tr>\n",
       "      <th>0</th>\n",
       "      <td>0</td>\n",
       "      <td>../data/images/train/angry\\0.jpg</td>\n",
       "      <td>angry</td>\n",
       "    </tr>\n",
       "    <tr>\n",
       "      <th>1</th>\n",
       "      <td>1</td>\n",
       "      <td>../data/images/train/angry\\1.jpg</td>\n",
       "      <td>angry</td>\n",
       "    </tr>\n",
       "    <tr>\n",
       "      <th>2</th>\n",
       "      <td>10</td>\n",
       "      <td>../data/images/train/angry\\10.jpg</td>\n",
       "      <td>angry</td>\n",
       "    </tr>\n",
       "    <tr>\n",
       "      <th>3</th>\n",
       "      <td>10002</td>\n",
       "      <td>../data/images/train/angry\\10002.jpg</td>\n",
       "      <td>angry</td>\n",
       "    </tr>\n",
       "    <tr>\n",
       "      <th>4</th>\n",
       "      <td>10016</td>\n",
       "      <td>../data/images/train/angry\\10016.jpg</td>\n",
       "      <td>angry</td>\n",
       "    </tr>\n",
       "  </tbody>\n",
       "</table>\n",
       "</div>"
      ],
      "text/plain": [
       "   id_img                                  path  label\n",
       "0       0      ../data/images/train/angry\\0.jpg  angry\n",
       "1       1      ../data/images/train/angry\\1.jpg  angry\n",
       "2      10     ../data/images/train/angry\\10.jpg  angry\n",
       "3   10002  ../data/images/train/angry\\10002.jpg  angry\n",
       "4   10016  ../data/images/train/angry\\10016.jpg  angry"
      ]
     },
     "execution_count": 54,
     "metadata": {},
     "output_type": "execute_result"
    }
   ],
   "source": [
    "#TestSet\n",
    "train_df = pd.read_csv(\"train_set.csv\")\n",
    "train_df.head()"
   ]
  },
  {
   "cell_type": "code",
   "execution_count": 55,
   "metadata": {},
   "outputs": [
    {
     "name": "stdout",
     "output_type": "stream",
     "text": [
      "<class 'pandas.core.frame.DataFrame'>\n",
      "RangeIndex: 28821 entries, 0 to 28820\n",
      "Data columns (total 3 columns):\n",
      " #   Column  Non-Null Count  Dtype \n",
      "---  ------  --------------  ----- \n",
      " 0   id_img  28821 non-null  int64 \n",
      " 1   path    28821 non-null  object\n",
      " 2   label   28821 non-null  object\n",
      "dtypes: int64(1), object(2)\n",
      "memory usage: 675.6+ KB\n"
     ]
    }
   ],
   "source": [
    "train_df.info()"
   ]
  },
  {
   "cell_type": "code",
   "execution_count": 56,
   "metadata": {},
   "outputs": [
    {
     "data": {
      "text/plain": [
       "0              ../data/images/train/angry\\0.jpg\n",
       "1              ../data/images/train/angry\\1.jpg\n",
       "2             ../data/images/train/angry\\10.jpg\n",
       "3          ../data/images/train/angry\\10002.jpg\n",
       "4          ../data/images/train/angry\\10016.jpg\n",
       "                          ...                  \n",
       "28816    ../data/images/train/surprise\\9969.jpg\n",
       "28817    ../data/images/train/surprise\\9985.jpg\n",
       "28818    ../data/images/train/surprise\\9990.jpg\n",
       "28819    ../data/images/train/surprise\\9992.jpg\n",
       "28820    ../data/images/train/surprise\\9996.jpg\n",
       "Name: path, Length: 28821, dtype: object"
      ]
     },
     "execution_count": 56,
     "metadata": {},
     "output_type": "execute_result"
    }
   ],
   "source": [
    "train_df[\"path\"]"
   ]
  },
  {
   "cell_type": "code",
   "execution_count": 57,
   "metadata": {},
   "outputs": [
    {
     "data": {
      "text/plain": [
       "label\n",
       "happy       7164\n",
       "neutral     4982\n",
       "sad         4938\n",
       "fear        4103\n",
       "angry       3993\n",
       "surprise    3205\n",
       "disgust      436\n",
       "Name: count, dtype: int64"
      ]
     },
     "execution_count": 57,
     "metadata": {},
     "output_type": "execute_result"
    }
   ],
   "source": [
    "train_df['label'].value_counts()"
   ]
  },
  {
   "cell_type": "markdown",
   "metadata": {},
   "source": [
    "### Si ya hay desbalance aquí puede que lo haya en train.csv pero primero..."
   ]
  },
  {
   "cell_type": "markdown",
   "metadata": {},
   "source": [
    "## ¿Relación entre test.csv/test_set.csv?"
   ]
  },
  {
   "cell_type": "code",
   "execution_count": 58,
   "metadata": {},
   "outputs": [
    {
     "name": "stdout",
     "output_type": "stream",
     "text": [
      "7066\n"
     ]
    }
   ],
   "source": [
    "test_set = pd.read_csv(\"test_set.csv\")\n",
    "print(len(test_set))"
   ]
  },
  {
   "cell_type": "code",
   "execution_count": 59,
   "metadata": {},
   "outputs": [
    {
     "name": "stdout",
     "output_type": "stream",
     "text": [
      "<class 'pandas.core.frame.DataFrame'>\n",
      "RangeIndex: 7066 entries, 0 to 7065\n",
      "Data columns (total 1 columns):\n",
      " #   Column  Non-Null Count  Dtype\n",
      "---  ------  --------------  -----\n",
      " 0   id_img  7066 non-null   int64\n",
      "dtypes: int64(1)\n",
      "memory usage: 55.3 KB\n"
     ]
    }
   ],
   "source": [
    "test_set.info()"
   ]
  },
  {
   "cell_type": "code",
   "execution_count": 60,
   "metadata": {},
   "outputs": [
    {
     "data": {
      "text/plain": [
       "7066"
      ]
     },
     "execution_count": 60,
     "metadata": {},
     "output_type": "execute_result"
    }
   ],
   "source": [
    "ejemplo_df = pd.read_csv(\"sample_submision.csv\")\n",
    "len(ejemplo_df)"
   ]
  },
  {
   "cell_type": "code",
   "execution_count": null,
   "metadata": {},
   "outputs": [],
   "source": [
    "def read_data_test(path, im_size):\n",
    "    X = []\n",
    "\n",
    "    #Surfeamos todos los archivos del directorio\n",
    "    for file in os.listdir(path):\n",
    "        image_path = os.path.join(path, file)\n",
    "\n",
    "        #Filtrar por extensión\n",
    "        if file.lower().endswith(('.png', '.jpg', '.jpeg', '.bmp', '.gif')):  #Apriori ya vimos que son .jpg\n",
    "            try:\n",
    "                #Cargar la imagen\n",
    "                img = Image.open(image_path).convert('L')  #Convertir a escala de grises (ayuda al modelo)\n",
    "                img = img.resize(im_size)  #Redimensionar la imagen\n",
    "                \n",
    "                #Convertir la imagen a un array\n",
    "                img_array = np.array(img)\n",
    "                X.append(img_array)\n",
    "\n",
    "            except Exception as e:\n",
    "                print(f\"Error al leer {image_path}: {e}\")\n",
    "\n",
    "    return np.array(X)"
   ]
  },
  {
   "cell_type": "code",
   "execution_count": 62,
   "metadata": {},
   "outputs": [],
   "source": [
    "IMAGE_SIZE = (48, 48)\n",
    "TEST_PATH = \"C:\\\\Users\\\\Jjaavviieerroperro\\\\Desktop\\\\Bootcamp DS\\\\RepositoriosGitHub\\\\CompeticionesKaggleML\\\\kgl_competitions\\\\EmoDecode5000\\\\data\\\\data\\\\images\\\\test\""
   ]
  },
  {
   "cell_type": "code",
   "execution_count": 63,
   "metadata": {},
   "outputs": [
    {
     "name": "stdout",
     "output_type": "stream",
     "text": [
      "Tamaño de X_test: (7066, 48, 48)\n"
     ]
    }
   ],
   "source": [
    "X_test_test = read_data_test(TEST_PATH, IMAGE_SIZE)\n",
    "print(f\"Tamaño de X_test: {X_test_test.shape}\")"
   ]
  },
  {
   "cell_type": "markdown",
   "metadata": {},
   "source": [
    "## Conclusión:"
   ]
  },
  {
   "cell_type": "markdown",
   "metadata": {},
   "source": [
    "Test_set sirve para darle indice a la predicción sobre test"
   ]
  },
  {
   "cell_type": "markdown",
   "metadata": {},
   "source": [
    "# Visualizar Imagenes"
   ]
  },
  {
   "cell_type": "code",
   "execution_count": 64,
   "metadata": {},
   "outputs": [],
   "source": [
    "#Lista de emociones\n",
    "class_names = ['happy', 'neutral', 'sad', 'fear', 'angry', 'surprise', 'disgust']\n",
    "class_names_label = {class_name:i for i, class_name in enumerate(class_names)}"
   ]
  },
  {
   "cell_type": "code",
   "execution_count": 65,
   "metadata": {},
   "outputs": [],
   "source": [
    "TRAIN_PATH = \"C:\\\\Users\\\\Jjaavviieerroperro\\\\Desktop\\\\Bootcamp DS\\\\RepositoriosGitHub\\\\CompeticionesKaggleML\\\\kgl_competitions\\\\EmoDecode5000\\\\data\\\\data\\\\images\\\\train\""
   ]
  },
  {
   "cell_type": "code",
   "execution_count": null,
   "metadata": {},
   "outputs": [],
   "source": [
    "#Función para recorrer los datos\n",
    "def read_data(path, im_size, class_names_label):\n",
    "\n",
    "    X = []\n",
    "    y = []\n",
    "\n",
    "    #Surfeamos las carpetas\n",
    "    for folder in os.listdir(path):\n",
    "        print(f\"Recorriendo la carpeta {folder}...\")\n",
    "\n",
    "        if folder not in class_names_label:\n",
    "            continue  \n",
    "        \n",
    "        label = class_names_label[folder]  #Asignamos la etiqueta a la emoción\n",
    "        folder_path = os.path.join(path, folder)\n",
    "        \n",
    "        #Surfeamos las imágenes\n",
    "        for file in os.listdir(folder_path):\n",
    "            image_path = os.path.join(folder_path, file)\n",
    "            \n",
    "            try:\n",
    "                #Cargamos la imagen\n",
    "                img = Image.open(image_path).convert('L')  #'L' --> convertir a escala de grises\n",
    "                img = img.resize(im_size)\n",
    "\n",
    "                img_array = np.array(img) #convertir a array\n",
    "\n",
    "                X.append(img_array)\n",
    "                y.append(label)\n",
    "\n",
    "            except Exception as e: \n",
    "                print(f\"Error al leer {image_path}: {e}\")\n",
    "\n",
    "    return np.array(X), np.array(y)\n"
   ]
  },
  {
   "cell_type": "code",
   "execution_count": null,
   "metadata": {},
   "outputs": [
    {
     "name": "stdout",
     "output_type": "stream",
     "text": [
      "Recorriendo la carpeta angry...\n",
      "Recorriendo la carpeta disgust...\n",
      "Recorriendo la carpeta fear...\n",
      "Recorriendo la carpeta happy...\n",
      "Recorriendo la carpeta neutral...\n",
      "Recorriendo la carpeta sad...\n",
      "Recorriendo la carpeta surprise...\n"
     ]
    }
   ],
   "source": [
    "X_train, y_train = read_data(TRAIN_PATH, IMAGE_SIZE, class_names_label)"
   ]
  },
  {
   "cell_type": "markdown",
   "metadata": {},
   "source": [
    "# Extra: se podría recorrer las carpetas usando un keras.utils (para otra ocasión)"
   ]
  },
  {
   "cell_type": "code",
   "execution_count": 68,
   "metadata": {},
   "outputs": [
    {
     "name": "stdout",
     "output_type": "stream",
     "text": [
      "Forma de X_train: (28821, 48, 48)\n",
      "Forma de y_train: (28821,)\n"
     ]
    }
   ],
   "source": [
    "print(f\"Forma de X_train: {X_train.shape}\")\n",
    "print(f\"Forma de y_train: {y_train.shape}\")\n"
   ]
  },
  {
   "cell_type": "code",
   "execution_count": 69,
   "metadata": {},
   "outputs": [
    {
     "data": {
      "text/plain": [
       "0    7164\n",
       "1    4982\n",
       "2    4938\n",
       "3    4103\n",
       "4    3993\n",
       "5    3205\n",
       "6     436\n",
       "Name: count, dtype: int64"
      ]
     },
     "execution_count": 69,
     "metadata": {},
     "output_type": "execute_result"
    }
   ],
   "source": [
    "pd.Series(y_train).value_counts()"
   ]
  },
  {
   "cell_type": "markdown",
   "metadata": {},
   "source": [
    "# Mostramos las imagenes"
   ]
  },
  {
   "cell_type": "code",
   "execution_count": 88,
   "metadata": {},
   "outputs": [
    {
     "data": {
      "image/png": "[encoded data removed]",
      "text/plain": [
       "<Figure size 1200x800 with 7 Axes>"
      ]
     },
     "metadata": {},
     "output_type": "display_data"
    }
   ],
   "source": [
    "plt.figure(figsize=(12, 8))\n",
    "\n",
    "for i, class_name in enumerate(class_names):\n",
    "\n",
    "    plt.subplot(2, 4, i + 1) #Subploteamos para cargarlas juntas\n",
    "\n",
    "    sample_img = X_train[y_train == class_names_label[class_name]][0]  #Cogemos la primera de cada emoción\n",
    "    plt.imshow(sample_img, cmap='gray') \n",
    "    plt.title(class_name)\n",
    "    plt.axis('off')\n",
    "\n",
    "plt.tight_layout();\n"
   ]
  },
  {
   "cell_type": "markdown",
   "metadata": {},
   "source": [
    "# Está balanceado?"
   ]
  },
  {
   "cell_type": "code",
   "execution_count": null,
   "metadata": {},
   "outputs": [
    {
     "name": "stdout",
     "output_type": "stream",
     "text": [
      "happy: 7164 imágenes\n",
      "neutral: 4982 imágenes\n",
      "sad: 4938 imágenes\n",
      "fear: 4103 imágenes\n",
      "angry: 3993 imágenes\n",
      "surprise: 3205 imágenes\n",
      "disgust: 436 imágenes\n"
     ]
    }
   ],
   "source": [
    "image_counts = {} #Lista vacía para el conteo\n",
    "\n",
    "#Recorremos las imágenes de cada carpeta de train\n",
    "for class_name in class_names:\n",
    "    class_folder_path = os.path.join(TRAIN_PATH, class_name)\n",
    "    \n",
    "    if os.path.isdir(class_folder_path):  \n",
    "        image_count = len(os.listdir(class_folder_path))  \n",
    "        image_counts[class_name] = image_count\n",
    "    else:\n",
    "        print(f\"Advertencia: La carpeta {class_name} no existe o está vacía.\")  #Evaluación errores siempre por si\n",
    "\n",
    "#Conteo\n",
    "for class_name, count in image_counts.items():\n",
    "    print(f\"{class_name}: {count} imágenes\")\n"
   ]
  },
  {
   "cell_type": "code",
   "execution_count": 72,
   "metadata": {},
   "outputs": [
    {
     "data": {
      "image/png": "[encoded data removed]",
      "text/plain": [
       "<Figure size 1000x600 with 1 Axes>"
      ]
     },
     "metadata": {},
     "output_type": "display_data"
    }
   ],
   "source": [
    "plt.figure(figsize=(10, 6))\n",
    "plt.bar(image_counts.keys(), image_counts.values(), color='skyblue')\n",
    "plt.title('Conteo');"
   ]
  },
  {
   "cell_type": "markdown",
   "metadata": {},
   "source": [
    "# Normalizamos las imagenes"
   ]
  },
  {
   "cell_type": "markdown",
   "metadata": {},
   "source": [
    "Para ayudar al modelo"
   ]
  },
  {
   "cell_type": "code",
   "execution_count": 73,
   "metadata": {},
   "outputs": [],
   "source": [
    "X_train = X_train.astype('float32') / 255.0"
   ]
  },
  {
   "cell_type": "code",
   "execution_count": 74,
   "metadata": {},
   "outputs": [
    {
     "name": "stdout",
     "output_type": "stream",
     "text": [
      "(28821, 48, 48)\n"
     ]
    }
   ],
   "source": [
    "print(X_train.shape)"
   ]
  },
  {
   "cell_type": "markdown",
   "metadata": {},
   "source": [
    "### Train/test del train"
   ]
  },
  {
   "cell_type": "code",
   "execution_count": 75,
   "metadata": {},
   "outputs": [],
   "source": [
    "X_train_train, X_test_train, y_train_train, y_test_train = train_test_split(X_train, y_train, test_size=0.2, random_state=42)"
   ]
  },
  {
   "cell_type": "code",
   "execution_count": 76,
   "metadata": {},
   "outputs": [
    {
     "name": "stdout",
     "output_type": "stream",
     "text": [
      "Forma de X_train_train: (23056, 48, 48)\n",
      "Forma de X_train_test: (5765, 48, 48)\n",
      "Forma de y_train_train: (23056,)\n",
      "Forma de y_test_test: (5765,)\n"
     ]
    }
   ],
   "source": [
    "print(f\"Forma de X_train_train: {X_train_train.shape}\")\n",
    "print(f\"Forma de X_train_test: {X_test_train.shape}\")\n",
    "print(f\"Forma de y_train_train: {y_train_train.shape}\")\n",
    "print(f\"Forma de y_test_test: {y_test_train.shape}\")"
   ]
  },
  {
   "cell_type": "markdown",
   "metadata": {},
   "source": [
    "# Primera Red Neuronal Convolucional tipica clasificacion de imágenes"
   ]
  },
  {
   "cell_type": "markdown",
   "metadata": {},
   "source": [
    "Sin tocar el desbalanceo"
   ]
  },
  {
   "cell_type": "code",
   "execution_count": 25,
   "metadata": {},
   "outputs": [],
   "source": [
    "import tensorflow as tf\n",
    "from tensorflow.keras import layers, models\n",
    "from tensorflow.keras.optimizers import Adam"
   ]
  },
  {
   "cell_type": "code",
   "execution_count": null,
   "metadata": {},
   "outputs": [],
   "source": [
    "model_tipico = models.Sequential([layers.Conv2D(32, (3, 3), activation='relu', input_shape=(48, 48, 1)),  #Más la capa inicial\n",
    "                                  layers.MaxPooling2D((2, 2)),\n",
    "\n",
    "                                  layers.Conv2D(64, (3, 3), activation='relu'),\n",
    "                                  layers.MaxPooling2D((2, 2)),\n",
    "\n",
    "                                  layers.Conv2D(64, (3, 3), activation='relu'),\n",
    "                                  layers.MaxPooling2D((2, 2)),\n",
    "\n",
    "                                  layers.Flatten(),\n",
    "\n",
    "                                  layers.Dense(64, activation='relu'),\n",
    "                                  layers.Dense(7, activation='softmax')])"
   ]
  },
  {
   "cell_type": "markdown",
   "metadata": {},
   "source": [
    "## Chuleta ( por capas )\n",
    "1. - **Conv2D (32 filtros, tamaño 3x3):**\n",
    "Detecta los patrones simples en la imagen (como bordes, líneas o texturas)   \n",
    "    - **Relu:** Ayuda a eliminar valores negativos\n",
    "    - **MaxPooling2D (2x2):**  Reduce el tamaño de la imagen a la mitad\n",
    "\n",
    "2. - **Conv2D (64 filtros, tamaño 3x3):**  Busca patrones más complejos  \n",
    "    - **MaxPooling2D (2x2):**  Reduce el tamaño de la imagen a la mitad\n",
    "\n",
    "3. - Volvemos a repetir la convolucional 2\n",
    "\n",
    "4. - **Flaten:** Aplana de tridimensional a vector(una sola dimensión)\n",
    "\n",
    "5. - **Dense:** capa densa 64 neuronas, busca las combinaciones útiles\n",
    "\n",
    "6. - **Dense:** capa salida de 7 neuronas, una por cada clase\n",
    "    - **Softmax:** Busca la categoría más probable"
   ]
  },
  {
   "cell_type": "code",
   "execution_count": null,
   "metadata": {},
   "outputs": [
    {
     "data": {
      "text/html": [
       "<pre style=\"white-space:pre;overflow-x:auto;line-height:normal;font-family:Menlo,'DejaVu Sans Mono',consolas,'Courier New',monospace\"><span style=\"font-weight: bold\">Model: \"sequential_11\"</span>\n",
       "</pre>\n"
      ],
      "text/plain": [
       "\u001b[1mModel: \"sequential_11\"\u001b[0m\n"
      ]
     },
     "metadata": {},
     "output_type": "display_data"
    },
    {
     "data": {
      "text/html": [
       "<pre style=\"white-space:pre;overflow-x:auto;line-height:normal;font-family:Menlo,'DejaVu Sans Mono',consolas,'Courier New',monospace\">┏━━━━━━━━━━━━━━━━━━━━━━━━━━━━━━━━━┳━━━━━━━━━━━━━━━━━━━━━━━━┳━━━━━━━━━━━━━━━┓\n",
       "┃<span style=\"font-weight: bold\"> Layer (type)                    </span>┃<span style=\"font-weight: bold\"> Output Shape           </span>┃<span style=\"font-weight: bold\">       Param # </span>┃\n",
       "┡━━━━━━━━━━━━━━━━━━━━━━━━━━━━━━━━━╇━━━━━━━━━━━━━━━━━━━━━━━━╇━━━━━━━━━━━━━━━┩\n",
       "│ conv2d_6 (<span style=\"color: #0087ff; text-decoration-color: #0087ff\">Conv2D</span>)               │ (<span style=\"color: #00d7ff; text-decoration-color: #00d7ff\">None</span>, <span style=\"color: #00af00; text-decoration-color: #00af00\">46</span>, <span style=\"color: #00af00; text-decoration-color: #00af00\">46</span>, <span style=\"color: #00af00; text-decoration-color: #00af00\">32</span>)     │           <span style=\"color: #00af00; text-decoration-color: #00af00\">320</span> │\n",
       "├─────────────────────────────────┼────────────────────────┼───────────────┤\n",
       "│ max_pooling2d_6 (<span style=\"color: #0087ff; text-decoration-color: #0087ff\">MaxPooling2D</span>)  │ (<span style=\"color: #00d7ff; text-decoration-color: #00d7ff\">None</span>, <span style=\"color: #00af00; text-decoration-color: #00af00\">23</span>, <span style=\"color: #00af00; text-decoration-color: #00af00\">23</span>, <span style=\"color: #00af00; text-decoration-color: #00af00\">32</span>)     │             <span style=\"color: #00af00; text-decoration-color: #00af00\">0</span> │\n",
       "├─────────────────────────────────┼────────────────────────┼───────────────┤\n",
       "│ conv2d_7 (<span style=\"color: #0087ff; text-decoration-color: #0087ff\">Conv2D</span>)               │ (<span style=\"color: #00d7ff; text-decoration-color: #00d7ff\">None</span>, <span style=\"color: #00af00; text-decoration-color: #00af00\">21</span>, <span style=\"color: #00af00; text-decoration-color: #00af00\">21</span>, <span style=\"color: #00af00; text-decoration-color: #00af00\">64</span>)     │        <span style=\"color: #00af00; text-decoration-color: #00af00\">18,496</span> │\n",
       "├─────────────────────────────────┼────────────────────────┼───────────────┤\n",
       "│ max_pooling2d_7 (<span style=\"color: #0087ff; text-decoration-color: #0087ff\">MaxPooling2D</span>)  │ (<span style=\"color: #00d7ff; text-decoration-color: #00d7ff\">None</span>, <span style=\"color: #00af00; text-decoration-color: #00af00\">10</span>, <span style=\"color: #00af00; text-decoration-color: #00af00\">10</span>, <span style=\"color: #00af00; text-decoration-color: #00af00\">64</span>)     │             <span style=\"color: #00af00; text-decoration-color: #00af00\">0</span> │\n",
       "├─────────────────────────────────┼────────────────────────┼───────────────┤\n",
       "│ conv2d_8 (<span style=\"color: #0087ff; text-decoration-color: #0087ff\">Conv2D</span>)               │ (<span style=\"color: #00d7ff; text-decoration-color: #00d7ff\">None</span>, <span style=\"color: #00af00; text-decoration-color: #00af00\">8</span>, <span style=\"color: #00af00; text-decoration-color: #00af00\">8</span>, <span style=\"color: #00af00; text-decoration-color: #00af00\">64</span>)       │        <span style=\"color: #00af00; text-decoration-color: #00af00\">36,928</span> │\n",
       "├─────────────────────────────────┼────────────────────────┼───────────────┤\n",
       "│ max_pooling2d_8 (<span style=\"color: #0087ff; text-decoration-color: #0087ff\">MaxPooling2D</span>)  │ (<span style=\"color: #00d7ff; text-decoration-color: #00d7ff\">None</span>, <span style=\"color: #00af00; text-decoration-color: #00af00\">4</span>, <span style=\"color: #00af00; text-decoration-color: #00af00\">4</span>, <span style=\"color: #00af00; text-decoration-color: #00af00\">64</span>)       │             <span style=\"color: #00af00; text-decoration-color: #00af00\">0</span> │\n",
       "├─────────────────────────────────┼────────────────────────┼───────────────┤\n",
       "│ flatten_8 (<span style=\"color: #0087ff; text-decoration-color: #0087ff\">Flatten</span>)             │ (<span style=\"color: #00d7ff; text-decoration-color: #00d7ff\">None</span>, <span style=\"color: #00af00; text-decoration-color: #00af00\">1024</span>)           │             <span style=\"color: #00af00; text-decoration-color: #00af00\">0</span> │\n",
       "├─────────────────────────────────┼────────────────────────┼───────────────┤\n",
       "│ dense_14 (<span style=\"color: #0087ff; text-decoration-color: #0087ff\">Dense</span>)                │ (<span style=\"color: #00d7ff; text-decoration-color: #00d7ff\">None</span>, <span style=\"color: #00af00; text-decoration-color: #00af00\">64</span>)             │        <span style=\"color: #00af00; text-decoration-color: #00af00\">65,600</span> │\n",
       "├─────────────────────────────────┼────────────────────────┼───────────────┤\n",
       "│ dense_15 (<span style=\"color: #0087ff; text-decoration-color: #0087ff\">Dense</span>)                │ (<span style=\"color: #00d7ff; text-decoration-color: #00d7ff\">None</span>, <span style=\"color: #00af00; text-decoration-color: #00af00\">7</span>)              │           <span style=\"color: #00af00; text-decoration-color: #00af00\">455</span> │\n",
       "└─────────────────────────────────┴────────────────────────┴───────────────┘\n",
       "</pre>\n"
      ],
      "text/plain": [
       "┏━━━━━━━━━━━━━━━━━━━━━━━━━━━━━━━━━┳━━━━━━━━━━━━━━━━━━━━━━━━┳━━━━━━━━━━━━━━━┓\n",
       "┃\u001b[1m \u001b[0m\u001b[1mLayer (type)                   \u001b[0m\u001b[1m \u001b[0m┃\u001b[1m \u001b[0m\u001b[1mOutput Shape          \u001b[0m\u001b[1m \u001b[0m┃\u001b[1m \u001b[0m\u001b[1m      Param #\u001b[0m\u001b[1m \u001b[0m┃\n",
       "┡━━━━━━━━━━━━━━━━━━━━━━━━━━━━━━━━━╇━━━━━━━━━━━━━━━━━━━━━━━━╇━━━━━━━━━━━━━━━┩\n",
       "│ conv2d_6 (\u001b[38;5;33mConv2D\u001b[0m)               │ (\u001b[38;5;45mNone\u001b[0m, \u001b[38;5;34m46\u001b[0m, \u001b[38;5;34m46\u001b[0m, \u001b[38;5;34m32\u001b[0m)     │           \u001b[38;5;34m320\u001b[0m │\n",
       "├─────────────────────────────────┼────────────────────────┼───────────────┤\n",
       "│ max_pooling2d_6 (\u001b[38;5;33mMaxPooling2D\u001b[0m)  │ (\u001b[38;5;45mNone\u001b[0m, \u001b[38;5;34m23\u001b[0m, \u001b[38;5;34m23\u001b[0m, \u001b[38;5;34m32\u001b[0m)     │             \u001b[38;5;34m0\u001b[0m │\n",
       "├─────────────────────────────────┼────────────────────────┼───────────────┤\n",
       "│ conv2d_7 (\u001b[38;5;33mConv2D\u001b[0m)               │ (\u001b[38;5;45mNone\u001b[0m, \u001b[38;5;34m21\u001b[0m, \u001b[38;5;34m21\u001b[0m, \u001b[38;5;34m64\u001b[0m)     │        \u001b[38;5;34m18,496\u001b[0m │\n",
       "├─────────────────────────────────┼────────────────────────┼───────────────┤\n",
       "│ max_pooling2d_7 (\u001b[38;5;33mMaxPooling2D\u001b[0m)  │ (\u001b[38;5;45mNone\u001b[0m, \u001b[38;5;34m10\u001b[0m, \u001b[38;5;34m10\u001b[0m, \u001b[38;5;34m64\u001b[0m)     │             \u001b[38;5;34m0\u001b[0m │\n",
       "├─────────────────────────────────┼────────────────────────┼───────────────┤\n",
       "│ conv2d_8 (\u001b[38;5;33mConv2D\u001b[0m)               │ (\u001b[38;5;45mNone\u001b[0m, \u001b[38;5;34m8\u001b[0m, \u001b[38;5;34m8\u001b[0m, \u001b[38;5;34m64\u001b[0m)       │        \u001b[38;5;34m36,928\u001b[0m │\n",
       "├─────────────────────────────────┼────────────────────────┼───────────────┤\n",
       "│ max_pooling2d_8 (\u001b[38;5;33mMaxPooling2D\u001b[0m)  │ (\u001b[38;5;45mNone\u001b[0m, \u001b[38;5;34m4\u001b[0m, \u001b[38;5;34m4\u001b[0m, \u001b[38;5;34m64\u001b[0m)       │             \u001b[38;5;34m0\u001b[0m │\n",
       "├─────────────────────────────────┼────────────────────────┼───────────────┤\n",
       "│ flatten_8 (\u001b[38;5;33mFlatten\u001b[0m)             │ (\u001b[38;5;45mNone\u001b[0m, \u001b[38;5;34m1024\u001b[0m)           │             \u001b[38;5;34m0\u001b[0m │\n",
       "├─────────────────────────────────┼────────────────────────┼───────────────┤\n",
       "│ dense_14 (\u001b[38;5;33mDense\u001b[0m)                │ (\u001b[38;5;45mNone\u001b[0m, \u001b[38;5;34m64\u001b[0m)             │        \u001b[38;5;34m65,600\u001b[0m │\n",
       "├─────────────────────────────────┼────────────────────────┼───────────────┤\n",
       "│ dense_15 (\u001b[38;5;33mDense\u001b[0m)                │ (\u001b[38;5;45mNone\u001b[0m, \u001b[38;5;34m7\u001b[0m)              │           \u001b[38;5;34m455\u001b[0m │\n",
       "└─────────────────────────────────┴────────────────────────┴───────────────┘\n"
      ]
     },
     "metadata": {},
     "output_type": "display_data"
    },
    {
     "data": {
      "text/html": [
       "<pre style=\"white-space:pre;overflow-x:auto;line-height:normal;font-family:Menlo,'DejaVu Sans Mono',consolas,'Courier New',monospace\"><span style=\"font-weight: bold\"> Total params: </span><span style=\"color: #00af00; text-decoration-color: #00af00\">121,799</span> (475.78 KB)\n",
       "</pre>\n"
      ],
      "text/plain": [
       "\u001b[1m Total params: \u001b[0m\u001b[38;5;34m121,799\u001b[0m (475.78 KB)\n"
      ]
     },
     "metadata": {},
     "output_type": "display_data"
    },
    {
     "data": {
      "text/html": [
       "<pre style=\"white-space:pre;overflow-x:auto;line-height:normal;font-family:Menlo,'DejaVu Sans Mono',consolas,'Courier New',monospace\"><span style=\"font-weight: bold\"> Trainable params: </span><span style=\"color: #00af00; text-decoration-color: #00af00\">121,799</span> (475.78 KB)\n",
       "</pre>\n"
      ],
      "text/plain": [
       "\u001b[1m Trainable params: \u001b[0m\u001b[38;5;34m121,799\u001b[0m (475.78 KB)\n"
      ]
     },
     "metadata": {},
     "output_type": "display_data"
    },
    {
     "data": {
      "text/html": [
       "<pre style=\"white-space:pre;overflow-x:auto;line-height:normal;font-family:Menlo,'DejaVu Sans Mono',consolas,'Courier New',monospace\"><span style=\"font-weight: bold\"> Non-trainable params: </span><span style=\"color: #00af00; text-decoration-color: #00af00\">0</span> (0.00 B)\n",
       "</pre>\n"
      ],
      "text/plain": [
       "\u001b[1m Non-trainable params: \u001b[0m\u001b[38;5;34m0\u001b[0m (0.00 B)\n"
      ]
     },
     "metadata": {},
     "output_type": "display_data"
    }
   ],
   "source": [
    "model_tipico.summary()"
   ]
  },
  {
   "cell_type": "code",
   "execution_count": null,
   "metadata": {},
   "outputs": [],
   "source": [
    "model_tipico.compile(optimizer=Adam(),\n",
    "                    loss='sparse_categorical_crossentropy',  #Usamos 'sparse_categorical_crossentropy' porque nuestras etiquetas están en formato entero\n",
    "                    metrics=['accuracy'])"
   ]
  },
  {
   "cell_type": "code",
   "execution_count": 37,
   "metadata": {},
   "outputs": [],
   "source": [
    "early_stopping = EarlyStopping(monitor='val_accuracy',  \n",
    "                               patience=5,           \n",
    "                               restore_best_weights=True)"
   ]
  },
  {
   "cell_type": "code",
   "execution_count": null,
   "metadata": {},
   "outputs": [
    {
     "name": "stdout",
     "output_type": "stream",
     "text": [
      "Epoch 1/20\n",
      "\u001b[1m721/721\u001b[0m \u001b[32m━━━━━━━━━━━━━━━━━━━━\u001b[0m\u001b[37m\u001b[0m \u001b[1m19s\u001b[0m 24ms/step - accuracy: 0.2561 - loss: 1.8037 - val_accuracy: 0.3868 - val_loss: 1.5803\n",
      "Epoch 2/20\n",
      "\u001b[1m721/721\u001b[0m \u001b[32m━━━━━━━━━━━━━━━━━━━━\u001b[0m\u001b[37m\u001b[0m \u001b[1m18s\u001b[0m 24ms/step - accuracy: 0.4170 - loss: 1.5159 - val_accuracy: 0.4574 - val_loss: 1.4226\n",
      "Epoch 3/20\n",
      "\u001b[1m721/721\u001b[0m \u001b[32m━━━━━━━━━━━━━━━━━━━━\u001b[0m\u001b[37m\u001b[0m \u001b[1m18s\u001b[0m 25ms/step - accuracy: 0.4744 - loss: 1.3797 - val_accuracy: 0.4840 - val_loss: 1.3601\n",
      "Epoch 4/20\n",
      "\u001b[1m721/721\u001b[0m \u001b[32m━━━━━━━━━━━━━━━━━━━━\u001b[0m\u001b[37m\u001b[0m \u001b[1m17s\u001b[0m 24ms/step - accuracy: 0.5128 - loss: 1.2915 - val_accuracy: 0.4926 - val_loss: 1.3149\n",
      "Epoch 5/20\n",
      "\u001b[1m721/721\u001b[0m \u001b[32m━━━━━━━━━━━━━━━━━━━━\u001b[0m\u001b[37m\u001b[0m \u001b[1m18s\u001b[0m 24ms/step - accuracy: 0.5362 - loss: 1.2267 - val_accuracy: 0.5003 - val_loss: 1.3107\n",
      "Epoch 6/20\n",
      "\u001b[1m721/721\u001b[0m \u001b[32m━━━━━━━━━━━━━━━━━━━━\u001b[0m\u001b[37m\u001b[0m \u001b[1m17s\u001b[0m 24ms/step - accuracy: 0.5557 - loss: 1.1726 - val_accuracy: 0.5252 - val_loss: 1.2577\n",
      "Epoch 7/20\n",
      "\u001b[1m721/721\u001b[0m \u001b[32m━━━━━━━━━━━━━━━━━━━━\u001b[0m\u001b[37m\u001b[0m \u001b[1m18s\u001b[0m 24ms/step - accuracy: 0.5717 - loss: 1.1341 - val_accuracy: 0.5212 - val_loss: 1.2551\n",
      "Epoch 8/20\n",
      "\u001b[1m721/721\u001b[0m \u001b[32m━━━━━━━━━━━━━━━━━━━━\u001b[0m\u001b[37m\u001b[0m \u001b[1m18s\u001b[0m 24ms/step - accuracy: 0.5867 - loss: 1.0911 - val_accuracy: 0.5212 - val_loss: 1.2629\n",
      "Epoch 9/20\n",
      "\u001b[1m721/721\u001b[0m \u001b[32m━━━━━━━━━━━━━━━━━━━━\u001b[0m\u001b[37m\u001b[0m \u001b[1m18s\u001b[0m 25ms/step - accuracy: 0.5988 - loss: 1.0654 - val_accuracy: 0.5245 - val_loss: 1.2563\n",
      "Epoch 10/20\n",
      "\u001b[1m721/721\u001b[0m \u001b[32m━━━━━━━━━━━━━━━━━━━━\u001b[0m\u001b[37m\u001b[0m \u001b[1m18s\u001b[0m 25ms/step - accuracy: 0.6171 - loss: 1.0193 - val_accuracy: 0.5308 - val_loss: 1.2557\n",
      "Epoch 11/20\n",
      "\u001b[1m721/721\u001b[0m \u001b[32m━━━━━━━━━━━━━━━━━━━━\u001b[0m\u001b[37m\u001b[0m \u001b[1m18s\u001b[0m 24ms/step - accuracy: 0.6313 - loss: 0.9871 - val_accuracy: 0.5372 - val_loss: 1.2559\n",
      "Epoch 12/20\n",
      "\u001b[1m721/721\u001b[0m \u001b[32m━━━━━━━━━━━━━━━━━━━━\u001b[0m\u001b[37m\u001b[0m \u001b[1m18s\u001b[0m 24ms/step - accuracy: 0.6422 - loss: 0.9579 - val_accuracy: 0.5421 - val_loss: 1.2759\n"
     ]
    }
   ],
   "source": [
    "# Entrenamos el modelo\n",
    "history = model_tipico.fit(X_train_train, y_train_train, \n",
    "                            epochs=20,  \n",
    "                            batch_size=32,  \n",
    "                            validation_data=(X_test_train, y_test_train),\n",
    "                            callbacks=[early_stopping])  \n",
    "\n"
   ]
  },
  {
   "cell_type": "code",
   "execution_count": null,
   "metadata": {},
   "outputs": [
    {
     "name": "stderr",
     "output_type": "stream",
     "text": [
      "WARNING:absl:You are saving your model as an HDF5 file via `model.save()` or `keras.saving.save_model(model)`. This file format is considered legacy. We recommend using instead the native Keras format, e.g. `model.save('my_model.keras')` or `keras.saving.save_model(model, 'my_model.keras')`. \n"
     ]
    }
   ],
   "source": [
    "#Guardar Modelo\n",
    "model_tipico.save('Modelos/modelo_tipico.h5')\n",
    "\n",
    "# Importarlo\n",
    "# from tensorflow.keras.models import load_model\n",
    "# model_cargado = load_model('Modelos/modelo_tipico.h5')"
   ]
  },
  {
   "cell_type": "code",
   "execution_count": null,
   "metadata": {},
   "outputs": [
    {
     "name": "stdout",
     "output_type": "stream",
     "text": [
      "\u001b[1m181/181\u001b[0m \u001b[32m━━━━━━━━━━━━━━━━━━━━\u001b[0m\u001b[37m\u001b[0m \u001b[1m1s\u001b[0m 7ms/step - accuracy: 0.5189 - loss: 1.2394\n",
      "Accuracy en el conjunto de prueba: 0.5212489366531372\n",
      "Pérdida en el conjunto de prueba: 1.255131721496582\n"
     ]
    }
   ],
   "source": [
    "test_loss, test_acc = model_tipico.evaluate(X_test_train, y_test_train)\n",
    "print(f\"Accuracy en el conjunto de prueba: {test_acc}\")\n",
    "print(f\"Pérdida en el conjunto de prueba: {test_loss}\")"
   ]
  },
  {
   "cell_type": "code",
   "execution_count": null,
   "metadata": {},
   "outputs": [
    {
     "data": {
      "text/plain": [
       "<matplotlib.legend.Legend at 0x1fb96fe0500>"
      ]
     },
     "execution_count": 367,
     "metadata": {},
     "output_type": "execute_result"
    },
    {
     "data": {
      "image/png": "[encoded data removed]",
      "text/plain": [
       "<Figure size 1200x600 with 1 Axes>"
      ]
     },
     "metadata": {},
     "output_type": "display_data"
    }
   ],
   "source": [
    "# Graficar la pérdida\n",
    "plt.figure(figsize=(12, 6))\n",
    "plt.subplot(1, 2, 1)\n",
    "plt.plot(history.history['loss'], label='Pérdida de entrenamiento')\n",
    "plt.plot(history.history['val_loss'], label='Pérdida de validación')\n",
    "plt.title('Pérdida durante el entrenamiento')\n",
    "plt.xlabel('Épocas')\n",
    "plt.ylabel('Pérdida')\n",
    "plt.legend()"
   ]
  },
  {
   "cell_type": "code",
   "execution_count": null,
   "metadata": {},
   "outputs": [
    {
     "data": {
      "image/png": "[encoded data removed]",
      "text/plain": [
       "<Figure size 640x480 with 1 Axes>"
      ]
     },
     "metadata": {},
     "output_type": "display_data"
    }
   ],
   "source": [
    "#Graficar la precisión\n",
    "plt.subplot(1, 2, 2)\n",
    "plt.plot(history.history['accuracy'], label='Precisión de entrenamiento')\n",
    "plt.plot(history.history['val_accuracy'], label='Precisión de validación')\n",
    "plt.title('Precisión durante el entrenamiento')\n",
    "plt.xlabel('Épocas')\n",
    "plt.ylabel('Precisión')\n",
    "plt.legend()\n",
    "\n",
    "plt.tight_layout();"
   ]
  },
  {
   "cell_type": "markdown",
   "metadata": {},
   "source": [
    "# Primero asociar Test y test_set como índice"
   ]
  },
  {
   "cell_type": "code",
   "execution_count": 77,
   "metadata": {},
   "outputs": [
    {
     "data": {
      "text/html": [
       "<div>\n",
       "<style scoped>\n",
       "    .dataframe tbody tr th:only-of-type {\n",
       "        vertical-align: middle;\n",
       "    }\n",
       "\n",
       "    .dataframe tbody tr th {\n",
       "        vertical-align: top;\n",
       "    }\n",
       "\n",
       "    .dataframe thead th {\n",
       "        text-align: right;\n",
       "    }\n",
       "</style>\n",
       "<table border=\"1\" class=\"dataframe\">\n",
       "  <thead>\n",
       "    <tr style=\"text-align: right;\">\n",
       "      <th></th>\n",
       "      <th>id_img</th>\n",
       "    </tr>\n",
       "  </thead>\n",
       "  <tbody>\n",
       "    <tr>\n",
       "      <th>0</th>\n",
       "      <td>10052</td>\n",
       "    </tr>\n",
       "    <tr>\n",
       "      <th>1</th>\n",
       "      <td>10065</td>\n",
       "    </tr>\n",
       "    <tr>\n",
       "      <th>2</th>\n",
       "      <td>10079</td>\n",
       "    </tr>\n",
       "    <tr>\n",
       "      <th>3</th>\n",
       "      <td>10095</td>\n",
       "    </tr>\n",
       "    <tr>\n",
       "      <th>4</th>\n",
       "      <td>10121</td>\n",
       "    </tr>\n",
       "  </tbody>\n",
       "</table>\n",
       "</div>"
      ],
      "text/plain": [
       "   id_img\n",
       "0   10052\n",
       "1   10065\n",
       "2   10079\n",
       "3   10095\n",
       "4   10121"
      ]
     },
     "execution_count": 77,
     "metadata": {},
     "output_type": "execute_result"
    }
   ],
   "source": [
    "test_set.head()"
   ]
  },
  {
   "cell_type": "code",
   "execution_count": null,
   "metadata": {},
   "outputs": [],
   "source": [
    "#Crear un diccionario con el mapeo de los índices y las etiquetas\n",
    "image_names = test_set['id_img'].tolist()"
   ]
  },
  {
   "cell_type": "code",
   "execution_count": 79,
   "metadata": {},
   "outputs": [
    {
     "data": {
      "text/plain": [
       "[10052,\n",
       " 10065,\n",
       " 10079,\n",
       " 10095,\n",
       " 10121,\n",
       " 10148,\n",
       " 10163,\n",
       " 10215,\n",
       " 1024,\n",
       " 10286,\n",
       " 10315,\n",
       " 10336,\n",
       " 10338,\n",
       " 10371,\n",
       " 10382,\n",
       " 10399,\n",
       " 10415,\n",
       " 10426,\n",
       " 10551,\n",
       " 10554,\n",
       " 10583,\n",
       " 10699,\n",
       " 10702,\n",
       " 1071,\n",
       " 10743,\n",
       " 10746,\n",
       " 10818,\n",
       " 10823,\n",
       " 10825,\n",
       " 10839,\n",
       " 10854,\n",
       " 10970,\n",
       " 11002,\n",
       " 11017,\n",
       " 11024,\n",
       " 11028,\n",
       " 1106,\n",
       " 11075,\n",
       " 11093,\n",
       " 11096,\n",
       " 11158,\n",
       " 11169,\n",
       " 11186,\n",
       " 11188,\n",
       " 11200,\n",
       " 1124,\n",
       " 11266,\n",
       " 1127,\n",
       " 11337,\n",
       " 11342,\n",
       " 11400,\n",
       " 11421,\n",
       " 11467,\n",
       " 11561,\n",
       " 11610,\n",
       " 11613,\n",
       " 11632,\n",
       " 11642,\n",
       " 11675,\n",
       " 11694,\n",
       " 1177,\n",
       " 11813,\n",
       " 11841,\n",
       " 11849,\n",
       " 11883,\n",
       " 11949,\n",
       " 11964,\n",
       " 11986,\n",
       " 12136,\n",
       " 12144,\n",
       " 1215,\n",
       " 12171,\n",
       " 12183,\n",
       " 12230,\n",
       " 12237,\n",
       " 12307,\n",
       " 1235,\n",
       " 12352,\n",
       " 12489,\n",
       " 12680,\n",
       " 12695,\n",
       " 12733,\n",
       " 12808,\n",
       " 12810,\n",
       " 12841,\n",
       " 12842,\n",
       " 12851,\n",
       " 12928,\n",
       " 12945,\n",
       " 13029,\n",
       " 13041,\n",
       " 13057,\n",
       " 13059,\n",
       " 13092,\n",
       " 13118,\n",
       " 13167,\n",
       " 13220,\n",
       " 13267,\n",
       " 13279,\n",
       " 13334,\n",
       " 13351,\n",
       " 13376,\n",
       " 13395,\n",
       " 1340,\n",
       " 13431,\n",
       " 1350,\n",
       " 13514,\n",
       " 13533,\n",
       " 13535,\n",
       " 1358,\n",
       " 13582,\n",
       " 13599,\n",
       " 13607,\n",
       " 13671,\n",
       " 13672,\n",
       " 13738,\n",
       " 13758,\n",
       " 1386,\n",
       " 13890,\n",
       " 13978,\n",
       " 14022,\n",
       " 14030,\n",
       " 14058,\n",
       " 14108,\n",
       " 14118,\n",
       " 14120,\n",
       " 14148,\n",
       " 14185,\n",
       " 14206,\n",
       " 1422,\n",
       " 14243,\n",
       " 14315,\n",
       " 14329,\n",
       " 14357,\n",
       " 14376,\n",
       " 1438,\n",
       " 14381,\n",
       " 14421,\n",
       " 14438,\n",
       " 14498,\n",
       " 14557,\n",
       " 1460,\n",
       " 14706,\n",
       " 1477,\n",
       " 14775,\n",
       " 14821,\n",
       " 14831,\n",
       " 14870,\n",
       " 14945,\n",
       " 15074,\n",
       " 1508,\n",
       " 15138,\n",
       " 15172,\n",
       " 15190,\n",
       " 15194,\n",
       " 15217,\n",
       " 15222,\n",
       " 15295,\n",
       " 15474,\n",
       " 15500,\n",
       " 15502,\n",
       " 1555,\n",
       " 15562,\n",
       " 15637,\n",
       " 15644,\n",
       " 15654,\n",
       " 15699,\n",
       " 157,\n",
       " 15709,\n",
       " 15712,\n",
       " 15715,\n",
       " 15725,\n",
       " 1575,\n",
       " 15771,\n",
       " 1582,\n",
       " 15820,\n",
       " 15821,\n",
       " 15835,\n",
       " 1584,\n",
       " 15848,\n",
       " 15897,\n",
       " 15919,\n",
       " 15941,\n",
       " 15954,\n",
       " 15979,\n",
       " 16033,\n",
       " 16102,\n",
       " 16169,\n",
       " 16222,\n",
       " 16233,\n",
       " 16287,\n",
       " 16292,\n",
       " 16380,\n",
       " 16406,\n",
       " 16410,\n",
       " 16413,\n",
       " 16428,\n",
       " 16506,\n",
       " 16510,\n",
       " 16557,\n",
       " 16565,\n",
       " 16643,\n",
       " 16659,\n",
       " 16681,\n",
       " 16711,\n",
       " 1672,\n",
       " 16764,\n",
       " 16768,\n",
       " 16783,\n",
       " 16792,\n",
       " 16875,\n",
       " 16999,\n",
       " 17024,\n",
       " 17053,\n",
       " 17085,\n",
       " 17099,\n",
       " 17167,\n",
       " 1717,\n",
       " 17170,\n",
       " 17186,\n",
       " 17209,\n",
       " 17211,\n",
       " 17228,\n",
       " 17259,\n",
       " 17316,\n",
       " 17344,\n",
       " 1736,\n",
       " 17371,\n",
       " 17413,\n",
       " 17428,\n",
       " 17445,\n",
       " 17452,\n",
       " 17502,\n",
       " 17536,\n",
       " 17647,\n",
       " 17700,\n",
       " 17705,\n",
       " 17731,\n",
       " 17735,\n",
       " 17736,\n",
       " 17752,\n",
       " 17787,\n",
       " 17910,\n",
       " 17939,\n",
       " 18001,\n",
       " 18050,\n",
       " 18140,\n",
       " 18142,\n",
       " 18161,\n",
       " 18166,\n",
       " 18183,\n",
       " 18200,\n",
       " 18247,\n",
       " 1825,\n",
       " 18254,\n",
       " 18284,\n",
       " 18376,\n",
       " 18380,\n",
       " 1841,\n",
       " 18415,\n",
       " 18445,\n",
       " 18459,\n",
       " 18466,\n",
       " 18492,\n",
       " 18534,\n",
       " 18565,\n",
       " 18566,\n",
       " 18588,\n",
       " 18593,\n",
       " 18602,\n",
       " 18617,\n",
       " 18633,\n",
       " 18695,\n",
       " 18715,\n",
       " 18779,\n",
       " 1880,\n",
       " 18810,\n",
       " 18837,\n",
       " 18882,\n",
       " 18903,\n",
       " 18949,\n",
       " 18983,\n",
       " 1899,\n",
       " 18994,\n",
       " 19014,\n",
       " 19060,\n",
       " 19067,\n",
       " 1908,\n",
       " 19093,\n",
       " 19108,\n",
       " 19114,\n",
       " 19115,\n",
       " 19140,\n",
       " 19152,\n",
       " 19268,\n",
       " 19292,\n",
       " 19309,\n",
       " 19392,\n",
       " 19476,\n",
       " 19477,\n",
       " 19485,\n",
       " 1966,\n",
       " 19664,\n",
       " 19732,\n",
       " 19811,\n",
       " 1983,\n",
       " 19832,\n",
       " 19877,\n",
       " 19906,\n",
       " 19923,\n",
       " 1994,\n",
       " 19950,\n",
       " 19961,\n",
       " 2006,\n",
       " 20222,\n",
       " 20227,\n",
       " 20287,\n",
       " 20290,\n",
       " 20298,\n",
       " 20303,\n",
       " 20312,\n",
       " 20328,\n",
       " 20353,\n",
       " 20374,\n",
       " 20451,\n",
       " 2050,\n",
       " 20505,\n",
       " 20532,\n",
       " 2055,\n",
       " 20629,\n",
       " 20630,\n",
       " 20635,\n",
       " 20640,\n",
       " 20653,\n",
       " 20673,\n",
       " 20686,\n",
       " 20736,\n",
       " 20739,\n",
       " 20796,\n",
       " 20817,\n",
       " 20849,\n",
       " 21068,\n",
       " 21099,\n",
       " 21111,\n",
       " 21131,\n",
       " 21135,\n",
       " 21161,\n",
       " 2117,\n",
       " 21173,\n",
       " 21284,\n",
       " 21371,\n",
       " 21374,\n",
       " 2142,\n",
       " 21447,\n",
       " 21472,\n",
       " 21511,\n",
       " 21512,\n",
       " 21520,\n",
       " 21541,\n",
       " 21573,\n",
       " 21670,\n",
       " 21703,\n",
       " 21723,\n",
       " 21782,\n",
       " 21836,\n",
       " 21865,\n",
       " 21916,\n",
       " 21921,\n",
       " 21922,\n",
       " 2194,\n",
       " 22089,\n",
       " 22183,\n",
       " 22184,\n",
       " 22198,\n",
       " 2225,\n",
       " 22309,\n",
       " 22334,\n",
       " 22375,\n",
       " 22516,\n",
       " 22695,\n",
       " 22733,\n",
       " 22739,\n",
       " 22789,\n",
       " 22807,\n",
       " 22810,\n",
       " 22832,\n",
       " 2290,\n",
       " 22990,\n",
       " 23,\n",
       " 23008,\n",
       " 23041,\n",
       " 23059,\n",
       " 23085,\n",
       " 23164,\n",
       " 23194,\n",
       " 23215,\n",
       " 23230,\n",
       " 23246,\n",
       " 23327,\n",
       " 23404,\n",
       " 23468,\n",
       " 23473,\n",
       " 23488,\n",
       " 23521,\n",
       " 23532,\n",
       " 23749,\n",
       " 23780,\n",
       " 23783,\n",
       " 23814,\n",
       " 23847,\n",
       " 23886,\n",
       " 24067,\n",
       " 2407,\n",
       " 24071,\n",
       " 24176,\n",
       " 24184,\n",
       " 24252,\n",
       " 24378,\n",
       " 24412,\n",
       " 24428,\n",
       " 24435,\n",
       " 24437,\n",
       " 24441,\n",
       " 24466,\n",
       " 24490,\n",
       " 245,\n",
       " 24501,\n",
       " 24542,\n",
       " 24660,\n",
       " 24678,\n",
       " 24711,\n",
       " 24789,\n",
       " 24797,\n",
       " 24819,\n",
       " 24821,\n",
       " 2484,\n",
       " 2486,\n",
       " 2487,\n",
       " 24886,\n",
       " 249,\n",
       " 24959,\n",
       " 24967,\n",
       " 2498,\n",
       " 24992,\n",
       " 25082,\n",
       " 25088,\n",
       " 251,\n",
       " 25101,\n",
       " 2511,\n",
       " 25131,\n",
       " 25144,\n",
       " 25209,\n",
       " 25255,\n",
       " 25343,\n",
       " 25360,\n",
       " 25435,\n",
       " 25528,\n",
       " 25542,\n",
       " 2557,\n",
       " 2558,\n",
       " 25612,\n",
       " 25681,\n",
       " 25688,\n",
       " 25778,\n",
       " 25795,\n",
       " 2581,\n",
       " 25811,\n",
       " 25813,\n",
       " 25844,\n",
       " 25874,\n",
       " 25876,\n",
       " 25886,\n",
       " 25891,\n",
       " 259,\n",
       " 25944,\n",
       " 25973,\n",
       " 26025,\n",
       " 26038,\n",
       " 26059,\n",
       " 26121,\n",
       " 26124,\n",
       " 26137,\n",
       " 26163,\n",
       " 26175,\n",
       " 26177,\n",
       " 26181,\n",
       " 26185,\n",
       " 26248,\n",
       " 26264,\n",
       " 26267,\n",
       " 26337,\n",
       " 26344,\n",
       " 26437,\n",
       " 26446,\n",
       " 26462,\n",
       " 26572,\n",
       " 26597,\n",
       " 26618,\n",
       " 26620,\n",
       " 2668,\n",
       " 26725,\n",
       " 26789,\n",
       " 26845,\n",
       " 26860,\n",
       " 26886,\n",
       " 26899,\n",
       " 26900,\n",
       " 26919,\n",
       " 26928,\n",
       " 26956,\n",
       " 27016,\n",
       " 27022,\n",
       " 27054,\n",
       " 2709,\n",
       " 2712,\n",
       " 27284,\n",
       " 27296,\n",
       " 27385,\n",
       " 27413,\n",
       " 27464,\n",
       " 27483,\n",
       " 27544,\n",
       " 2762,\n",
       " 27652,\n",
       " 2770,\n",
       " 27704,\n",
       " 27715,\n",
       " 27726,\n",
       " 27744,\n",
       " 27770,\n",
       " 27777,\n",
       " 27798,\n",
       " 27828,\n",
       " 2791,\n",
       " 27967,\n",
       " 27982,\n",
       " 28015,\n",
       " 28058,\n",
       " 28062,\n",
       " 28120,\n",
       " 28144,\n",
       " 28148,\n",
       " 28149,\n",
       " 28207,\n",
       " 28248,\n",
       " 28288,\n",
       " 28300,\n",
       " 28401,\n",
       " 28438,\n",
       " 28498,\n",
       " 28509,\n",
       " 28543,\n",
       " 28547,\n",
       " 28560,\n",
       " 28585,\n",
       " 28614,\n",
       " 28618,\n",
       " 28620,\n",
       " 28660,\n",
       " 28707,\n",
       " 28720,\n",
       " 28731,\n",
       " 28737,\n",
       " 28743,\n",
       " 28749,\n",
       " 28800,\n",
       " 28840,\n",
       " 28867,\n",
       " 28884,\n",
       " 2890,\n",
       " 28932,\n",
       " 28952,\n",
       " 29085,\n",
       " 29119,\n",
       " 29132,\n",
       " 29202,\n",
       " 29266,\n",
       " 29319,\n",
       " 2933,\n",
       " 29414,\n",
       " 29471,\n",
       " 29477,\n",
       " 29493,\n",
       " 29523,\n",
       " 29527,\n",
       " 29554,\n",
       " 29571,\n",
       " 29581,\n",
       " 29588,\n",
       " 29614,\n",
       " 29669,\n",
       " 29685,\n",
       " 29730,\n",
       " 298,\n",
       " 29818,\n",
       " 29866,\n",
       " 29929,\n",
       " 29931,\n",
       " 29947,\n",
       " 29977,\n",
       " 29980,\n",
       " 30002,\n",
       " 30004,\n",
       " 30015,\n",
       " 30024,\n",
       " 30058,\n",
       " 30059,\n",
       " 30082,\n",
       " 30085,\n",
       " 30171,\n",
       " 3021,\n",
       " 30260,\n",
       " 30273,\n",
       " 30290,\n",
       " 30305,\n",
       " 30320,\n",
       " 30325,\n",
       " 30394,\n",
       " 30415,\n",
       " 30420,\n",
       " 30456,\n",
       " 30458,\n",
       " 30460,\n",
       " 30490,\n",
       " 30509,\n",
       " 30535,\n",
       " 30563,\n",
       " 30584,\n",
       " 30619,\n",
       " 30901,\n",
       " 30933,\n",
       " 30944,\n",
       " 3099,\n",
       " 31033,\n",
       " 31042,\n",
       " 31081,\n",
       " 31083,\n",
       " 31138,\n",
       " 31142,\n",
       " 31203,\n",
       " 3121,\n",
       " 3137,\n",
       " 31491,\n",
       " 31529,\n",
       " 31544,\n",
       " 31609,\n",
       " 31635,\n",
       " 31693,\n",
       " 31703,\n",
       " 3176,\n",
       " 31849,\n",
       " 3186,\n",
       " 31873,\n",
       " 3188,\n",
       " 31928,\n",
       " 32023,\n",
       " 32024,\n",
       " 32153,\n",
       " 32161,\n",
       " 32223,\n",
       " 32231,\n",
       " 3226,\n",
       " 32278,\n",
       " 32281,\n",
       " 32298,\n",
       " 32336,\n",
       " 32352,\n",
       " 32367,\n",
       " 32454,\n",
       " 32464,\n",
       " 32473,\n",
       " 3248,\n",
       " 32481,\n",
       " 32506,\n",
       " 32512,\n",
       " 32575,\n",
       " 32584,\n",
       " 32617,\n",
       " 32662,\n",
       " 32755,\n",
       " 32777,\n",
       " 33015,\n",
       " 3303,\n",
       " 33105,\n",
       " 33131,\n",
       " 33221,\n",
       " 3327,\n",
       " 33301,\n",
       " 33308,\n",
       " 3334,\n",
       " 33352,\n",
       " 33444,\n",
       " 33450,\n",
       " 33459,\n",
       " 33494,\n",
       " 33560,\n",
       " 33573,\n",
       " 33633,\n",
       " 33666,\n",
       " 3370,\n",
       " 33729,\n",
       " 3377,\n",
       " 338,\n",
       " 33809,\n",
       " 33829,\n",
       " 33890,\n",
       " 33924,\n",
       " 33926,\n",
       " 3393,\n",
       " 33935,\n",
       " 33977,\n",
       " 33987,\n",
       " 33998,\n",
       " 34036,\n",
       " 34040,\n",
       " 3412,\n",
       " 34138,\n",
       " 34151,\n",
       " 34175,\n",
       " 34178,\n",
       " 34184,\n",
       " 34238,\n",
       " 34259,\n",
       " 34352,\n",
       " 34359,\n",
       " 34363,\n",
       " 34448,\n",
       " 34474,\n",
       " 3449,\n",
       " 34507,\n",
       " 34581,\n",
       " 34592,\n",
       " 34596,\n",
       " 34620,\n",
       " 3467,\n",
       " 34714,\n",
       " 34778,\n",
       " 34879,\n",
       " 35009,\n",
       " 35010,\n",
       " 35028,\n",
       " 35041,\n",
       " 35059,\n",
       " 35145,\n",
       " 35149,\n",
       " 35162,\n",
       " 35210,\n",
       " 3522,\n",
       " 35261,\n",
       " 35298,\n",
       " 35407,\n",
       " 35425,\n",
       " 35439,\n",
       " 35447,\n",
       " 35514,\n",
       " 3558,\n",
       " 3564,\n",
       " 35669,\n",
       " 35681,\n",
       " 35682,\n",
       " 35731,\n",
       " 35753,\n",
       " 35805,\n",
       " 35809,\n",
       " 35820,\n",
       " 35828,\n",
       " 35881,\n",
       " 35884,\n",
       " 3599,\n",
       " 3632,\n",
       " 377,\n",
       " 38,\n",
       " 3802,\n",
       " 3819,\n",
       " 3839,\n",
       " 3862,\n",
       " 3870,\n",
       " 3913,\n",
       " 4015,\n",
       " 404,\n",
       " 4060,\n",
       " 4077,\n",
       " 4100,\n",
       " 4196,\n",
       " 4229,\n",
       " 4306,\n",
       " 4317,\n",
       " 4324,\n",
       " 4349,\n",
       " 4384,\n",
       " 4396,\n",
       " 4397,\n",
       " 4459,\n",
       " 4468,\n",
       " 4502,\n",
       " 4579,\n",
       " 4616,\n",
       " 4637,\n",
       " 4660,\n",
       " 4665,\n",
       " 4670,\n",
       " 4700,\n",
       " 4751,\n",
       " 4807,\n",
       " 4878,\n",
       " 4937,\n",
       " 5010,\n",
       " 5060,\n",
       " 5064,\n",
       " 521,\n",
       " 5220,\n",
       " 5233,\n",
       " 5244,\n",
       " 5259,\n",
       " 5312,\n",
       " 5317,\n",
       " 5400,\n",
       " 5422,\n",
       " 5432,\n",
       " 5434,\n",
       " 5459,\n",
       " 5519,\n",
       " 5564,\n",
       " 5570,\n",
       " 5582,\n",
       " 5607,\n",
       " 5610,\n",
       " 5637,\n",
       " 5732,\n",
       " 5739,\n",
       " 5780,\n",
       " 5810,\n",
       " 5822,\n",
       " 5859,\n",
       " 5883,\n",
       " 5888,\n",
       " 589,\n",
       " 5902,\n",
       " 5962,\n",
       " 6009,\n",
       " 6017,\n",
       " 6075,\n",
       " 608,\n",
       " 6088,\n",
       " 6119,\n",
       " 6129,\n",
       " 6155,\n",
       " 6225,\n",
       " 6232,\n",
       " 624,\n",
       " 6274,\n",
       " 6278,\n",
       " 6283,\n",
       " 6321,\n",
       " 633,\n",
       " 6347,\n",
       " 6364,\n",
       " 6365,\n",
       " 6375,\n",
       " 6390,\n",
       " 6420,\n",
       " 6426,\n",
       " 6471,\n",
       " 6484,\n",
       " 65,\n",
       " 654,\n",
       " 6547,\n",
       " 6555,\n",
       " 6561,\n",
       " 6566,\n",
       " 6580,\n",
       " 6581,\n",
       " 6584,\n",
       " 6618,\n",
       " 6621,\n",
       " 665,\n",
       " 6652,\n",
       " 6726,\n",
       " 6739,\n",
       " 6745,\n",
       " 676,\n",
       " 6766,\n",
       " 6809,\n",
       " 6890,\n",
       " 6923,\n",
       " 6955,\n",
       " 6965,\n",
       " 7015,\n",
       " 7056,\n",
       " 7103,\n",
       " 7136,\n",
       " 7174,\n",
       " 7219,\n",
       " 7257,\n",
       " 7261,\n",
       " 727,\n",
       " 7284,\n",
       " 7291,\n",
       " 7409,\n",
       " 7492,\n",
       " 7550,\n",
       " 7559,\n",
       " 7589,\n",
       " 764,\n",
       " 7655,\n",
       " 7668,\n",
       " 7729,\n",
       " 7777,\n",
       " 7793,\n",
       " 7811,\n",
       " 7886,\n",
       " 7919,\n",
       " 7937,\n",
       " 7979,\n",
       " 8000,\n",
       " 8001,\n",
       " 8052,\n",
       " 8096,\n",
       " 8103,\n",
       " 8130,\n",
       " 8151,\n",
       " 816,\n",
       " 8267,\n",
       " 8275,\n",
       " 8299,\n",
       " 8402,\n",
       " 842,\n",
       " 854,\n",
       " 8555,\n",
       " 8581,\n",
       " 8593,\n",
       " 861,\n",
       " 8661,\n",
       " 8685,\n",
       " 8719,\n",
       " 8734,\n",
       " 8902,\n",
       " 8916,\n",
       " 8969,\n",
       " 9012,\n",
       " 9059,\n",
       " 9100,\n",
       " 9156,\n",
       " 9266,\n",
       " 9293,\n",
       " 9331,\n",
       " 9400,\n",
       " 9567,\n",
       " 9615,\n",
       " 966,\n",
       " 9691,\n",
       " 9698,\n",
       " 9715,\n",
       " 9748,\n",
       " 9785,\n",
       " 9802,\n",
       " 9811,\n",
       " 9862,\n",
       " 9884,\n",
       " 9931,\n",
       " 10053,\n",
       " 10435,\n",
       " 10532,\n",
       " 1115,\n",
       " 11222,\n",
       " 11529,\n",
       " 11639,\n",
       " 12417,\n",
       " 12753,\n",
       " 13372,\n",
       " 13597,\n",
       " 13652,\n",
       " 13847,\n",
       " 14041,\n",
       " 14869,\n",
       " 14954,\n",
       " 14958,\n",
       " 15110,\n",
       " 16021,\n",
       " 16054,\n",
       " 16121,\n",
       " 16264,\n",
       " 16718,\n",
       " 17260,\n",
       " 18077,\n",
       " 1843,\n",
       " 18464,\n",
       " 18716,\n",
       " 19649,\n",
       " 19734,\n",
       " 19770,\n",
       " 19801,\n",
       " 19831,\n",
       " 20761,\n",
       " 21744,\n",
       " 21765,\n",
       " 21851,\n",
       " 22320,\n",
       " 2275,\n",
       " 23141,\n",
       " ...]"
      ]
     },
     "execution_count": 79,
     "metadata": {},
     "output_type": "execute_result"
    }
   ],
   "source": [
    "image_names"
   ]
  },
  {
   "cell_type": "code",
   "execution_count": null,
   "metadata": {},
   "outputs": [],
   "source": [
    "def load_and_preprocess_images(test_path, image_names, im_size):\n",
    "    X_test = []\n",
    "    \n",
    "    # Recorrer la lista de nombres de imágenes\n",
    "    for image_name in image_names:\n",
    "\n",
    "        image_name = str(image_name) + '.jpg'  #Ajusta la extensión de la imagen si es necesario\n",
    "        \n",
    "\n",
    "        image_path = os.path.join(test_path, image_name)\n",
    "        \n",
    "        try:\n",
    "\n",
    "            img = Image.open(image_path).convert('L')  #Convertir a escala de grises\n",
    "            img = img.resize(im_size) \n",
    "            \n",
    "            img_array = np.array(img) / 255.0  #Normalizamos también el test\n",
    "            X_test.append(img_array)\n",
    "            \n",
    "        except Exception as e:\n",
    "            print(f\"Error al cargar la imagen {image_name}: {e}\") #Evaluación de errores\n",
    "    \n",
    "    return np.array(X_test)\n",
    "\n"
   ]
  },
  {
   "cell_type": "code",
   "execution_count": 81,
   "metadata": {},
   "outputs": [
    {
     "name": "stdout",
     "output_type": "stream",
     "text": [
      "Forma de X_test: (7066, 48, 48)\n"
     ]
    }
   ],
   "source": [
    "X_test = load_and_preprocess_images(TEST_PATH, image_names, IMAGE_SIZE)\n",
    "print(f\"Forma de X_test: {X_test.shape}\")  #(7066, 48, 48)\n"
   ]
  },
  {
   "cell_type": "code",
   "execution_count": 82,
   "metadata": {},
   "outputs": [],
   "source": [
    "X_test = X_test.reshape(-1, IMAGE_SIZE[0], IMAGE_SIZE[1], 1)  #(N, 48, 48, 1)"
   ]
  },
  {
   "cell_type": "code",
   "execution_count": 83,
   "metadata": {},
   "outputs": [
    {
     "data": {
      "text/plain": [
       "array([[[[0.22745098],\n",
       "         [0.25882353],\n",
       "         [0.2745098 ],\n",
       "         ...,\n",
       "         [0.2       ],\n",
       "         [0.18431373],\n",
       "         [0.1372549 ]],\n",
       "\n",
       "        [[0.24313725],\n",
       "         [0.25098039],\n",
       "         [0.28627451],\n",
       "         ...,\n",
       "         [0.23137255],\n",
       "         [0.2       ],\n",
       "         [0.16470588]],\n",
       "\n",
       "        [[0.25882353],\n",
       "         [0.27058824],\n",
       "         [0.34117647],\n",
       "         ...,\n",
       "         [0.22745098],\n",
       "         [0.21176471],\n",
       "         [0.20784314]],\n",
       "\n",
       "        ...,\n",
       "\n",
       "        [[0.03137255],\n",
       "         [0.05882353],\n",
       "         [0.0745098 ],\n",
       "         ...,\n",
       "         [0.01960784],\n",
       "         [0.02745098],\n",
       "         [0.03137255]],\n",
       "\n",
       "        [[0.02352941],\n",
       "         [0.05490196],\n",
       "         [0.06666667],\n",
       "         ...,\n",
       "         [0.01568627],\n",
       "         [0.02745098],\n",
       "         [0.03921569]],\n",
       "\n",
       "        [[0.03137255],\n",
       "         [0.05882353],\n",
       "         [0.07843137],\n",
       "         ...,\n",
       "         [0.01960784],\n",
       "         [0.02745098],\n",
       "         [0.03529412]]],\n",
       "\n",
       "\n",
       "       [[[0.09019608],\n",
       "         [0.10196078],\n",
       "         [0.08235294],\n",
       "         ...,\n",
       "         [0.85098039],\n",
       "         [0.8627451 ],\n",
       "         [0.85490196]],\n",
       "\n",
       "        [[0.09803922],\n",
       "         [0.14117647],\n",
       "         [0.0627451 ],\n",
       "         ...,\n",
       "         [0.81960784],\n",
       "         [0.79607843],\n",
       "         [0.81568627]],\n",
       "\n",
       "        [[0.11764706],\n",
       "         [0.10980392],\n",
       "         [0.04313725],\n",
       "         ...,\n",
       "         [0.70196078],\n",
       "         [0.83921569],\n",
       "         [0.96078431]],\n",
       "\n",
       "        ...,\n",
       "\n",
       "        [[0.18823529],\n",
       "         [0.16862745],\n",
       "         [0.21568627],\n",
       "         ...,\n",
       "         [0.8745098 ],\n",
       "         [0.87058824],\n",
       "         [0.87058824]],\n",
       "\n",
       "        [[0.14117647],\n",
       "         [0.07843137],\n",
       "         [0.25098039],\n",
       "         ...,\n",
       "         [0.98823529],\n",
       "         [1.        ],\n",
       "         [1.        ]],\n",
       "\n",
       "        [[0.23137255],\n",
       "         [0.21960784],\n",
       "         [0.18039216],\n",
       "         ...,\n",
       "         [0.98823529],\n",
       "         [0.98823529],\n",
       "         [0.99215686]]],\n",
       "\n",
       "\n",
       "       [[[0.78823529],\n",
       "         [0.71372549],\n",
       "         [0.71372549],\n",
       "         ...,\n",
       "         [0.80392157],\n",
       "         [0.94117647],\n",
       "         [0.9372549 ]],\n",
       "\n",
       "        [[0.79215686],\n",
       "         [0.72156863],\n",
       "         [0.70980392],\n",
       "         ...,\n",
       "         [0.83529412],\n",
       "         [0.94509804],\n",
       "         [0.92941176]],\n",
       "\n",
       "        [[0.80392157],\n",
       "         [0.74509804],\n",
       "         [0.71764706],\n",
       "         ...,\n",
       "         [0.85882353],\n",
       "         [0.9372549 ],\n",
       "         [0.9372549 ]],\n",
       "\n",
       "        ...,\n",
       "\n",
       "        [[0.61960784],\n",
       "         [0.69803922],\n",
       "         [0.76862745],\n",
       "         ...,\n",
       "         [0.79607843],\n",
       "         [0.85882353],\n",
       "         [0.83921569]],\n",
       "\n",
       "        [[0.61176471],\n",
       "         [0.65882353],\n",
       "         [0.78039216],\n",
       "         ...,\n",
       "         [0.78823529],\n",
       "         [0.83529412],\n",
       "         [0.76078431]],\n",
       "\n",
       "        [[0.68235294],\n",
       "         [0.54901961],\n",
       "         [0.72156863],\n",
       "         ...,\n",
       "         [0.74509804],\n",
       "         [0.78039216],\n",
       "         [0.81176471]]],\n",
       "\n",
       "\n",
       "       ...,\n",
       "\n",
       "\n",
       "       [[[0.98039216],\n",
       "         [0.99215686],\n",
       "         [0.99215686],\n",
       "         ...,\n",
       "         [0.91764706],\n",
       "         [0.90588235],\n",
       "         [0.91764706]],\n",
       "\n",
       "        [[0.98431373],\n",
       "         [0.98039216],\n",
       "         [0.98039216],\n",
       "         ...,\n",
       "         [0.91764706],\n",
       "         [0.90980392],\n",
       "         [0.92156863]],\n",
       "\n",
       "        [[0.98039216],\n",
       "         [0.97254902],\n",
       "         [0.98039216],\n",
       "         ...,\n",
       "         [0.91764706],\n",
       "         [0.90980392],\n",
       "         [0.91372549]],\n",
       "\n",
       "        ...,\n",
       "\n",
       "        [[0.7372549 ],\n",
       "         [0.49411765],\n",
       "         [0.16078431],\n",
       "         ...,\n",
       "         [0.19607843],\n",
       "         [0.24705882],\n",
       "         [0.35294118]],\n",
       "\n",
       "        [[0.42745098],\n",
       "         [0.30588235],\n",
       "         [0.10588235],\n",
       "         ...,\n",
       "         [0.45098039],\n",
       "         [0.47058824],\n",
       "         [0.62352941]],\n",
       "\n",
       "        [[0.47843137],\n",
       "         [0.29019608],\n",
       "         [0.09803922],\n",
       "         ...,\n",
       "         [0.4627451 ],\n",
       "         [0.33333333],\n",
       "         [0.39607843]]],\n",
       "\n",
       "\n",
       "       [[[0.89411765],\n",
       "         [0.87843137],\n",
       "         [0.89019608],\n",
       "         ...,\n",
       "         [0.51372549],\n",
       "         [0.64705882],\n",
       "         [0.2627451 ]],\n",
       "\n",
       "        [[0.83921569],\n",
       "         [0.82352941],\n",
       "         [0.85490196],\n",
       "         ...,\n",
       "         [0.4       ],\n",
       "         [0.57254902],\n",
       "         [0.23921569]],\n",
       "\n",
       "        [[0.81960784],\n",
       "         [0.77647059],\n",
       "         [0.81960784],\n",
       "         ...,\n",
       "         [0.37254902],\n",
       "         [0.42745098],\n",
       "         [0.16078431]],\n",
       "\n",
       "        ...,\n",
       "\n",
       "        [[0.97254902],\n",
       "         [0.96862745],\n",
       "         [0.96862745],\n",
       "         ...,\n",
       "         [0.25490196],\n",
       "         [0.68235294],\n",
       "         [0.95686275]],\n",
       "\n",
       "        [[0.98039216],\n",
       "         [0.97647059],\n",
       "         [0.97647059],\n",
       "         ...,\n",
       "         [0.21176471],\n",
       "         [0.69803922],\n",
       "         [0.91372549]],\n",
       "\n",
       "        [[0.98039216],\n",
       "         [0.97647059],\n",
       "         [0.97254902],\n",
       "         ...,\n",
       "         [0.2       ],\n",
       "         [0.7254902 ],\n",
       "         [0.89803922]]],\n",
       "\n",
       "\n",
       "       [[[0.30588235],\n",
       "         [0.45490196],\n",
       "         [0.38431373],\n",
       "         ...,\n",
       "         [0.28627451],\n",
       "         [0.29019608],\n",
       "         [0.16078431]],\n",
       "\n",
       "        [[0.44313725],\n",
       "         [0.4745098 ],\n",
       "         [0.34117647],\n",
       "         ...,\n",
       "         [0.21568627],\n",
       "         [0.15686275],\n",
       "         [0.23529412]],\n",
       "\n",
       "        [[0.45490196],\n",
       "         [0.32941176],\n",
       "         [0.47843137],\n",
       "         ...,\n",
       "         [0.14901961],\n",
       "         [0.17254902],\n",
       "         [0.14509804]],\n",
       "\n",
       "        ...,\n",
       "\n",
       "        [[0.96862745],\n",
       "         [0.95686275],\n",
       "         [0.96470588],\n",
       "         ...,\n",
       "         [0.85098039],\n",
       "         [0.85098039],\n",
       "         [0.8627451 ]],\n",
       "\n",
       "        [[0.95294118],\n",
       "         [0.96078431],\n",
       "         [0.96078431],\n",
       "         ...,\n",
       "         [0.74901961],\n",
       "         [0.88627451],\n",
       "         [0.84313725]],\n",
       "\n",
       "        [[0.93333333],\n",
       "         [0.96862745],\n",
       "         [0.94509804],\n",
       "         ...,\n",
       "         [0.57647059],\n",
       "         [0.82352941],\n",
       "         [0.88235294]]]])"
      ]
     },
     "execution_count": 83,
     "metadata": {},
     "output_type": "execute_result"
    }
   ],
   "source": [
    "X_test"
   ]
  },
  {
   "cell_type": "markdown",
   "metadata": {},
   "source": [
    "# Hacemos la Predicción"
   ]
  },
  {
   "cell_type": "code",
   "execution_count": null,
   "metadata": {},
   "outputs": [
    {
     "name": "stdout",
     "output_type": "stream",
     "text": [
      "\u001b[1m221/221\u001b[0m \u001b[32m━━━━━━━━━━━━━━━━━━━━\u001b[0m\u001b[37m\u001b[0m \u001b[1m2s\u001b[0m 8ms/step\n"
     ]
    }
   ],
   "source": [
    "predictions = model_tipico.predict(X_test)"
   ]
  },
  {
   "cell_type": "code",
   "execution_count": null,
   "metadata": {},
   "outputs": [
    {
     "data": {
      "text/html": [
       "<div>\n",
       "<style scoped>\n",
       "    .dataframe tbody tr th:only-of-type {\n",
       "        vertical-align: middle;\n",
       "    }\n",
       "\n",
       "    .dataframe tbody tr th {\n",
       "        vertical-align: top;\n",
       "    }\n",
       "\n",
       "    .dataframe thead th {\n",
       "        text-align: right;\n",
       "    }\n",
       "</style>\n",
       "<table border=\"1\" class=\"dataframe\">\n",
       "  <thead>\n",
       "    <tr style=\"text-align: right;\">\n",
       "      <th></th>\n",
       "      <th>id_img</th>\n",
       "      <th>label</th>\n",
       "    </tr>\n",
       "  </thead>\n",
       "  <tbody>\n",
       "    <tr>\n",
       "      <th>0</th>\n",
       "      <td>10052</td>\n",
       "      <td>neutral</td>\n",
       "    </tr>\n",
       "    <tr>\n",
       "      <th>1</th>\n",
       "      <td>10065</td>\n",
       "      <td>fear</td>\n",
       "    </tr>\n",
       "    <tr>\n",
       "      <th>2</th>\n",
       "      <td>10079</td>\n",
       "      <td>sad</td>\n",
       "    </tr>\n",
       "    <tr>\n",
       "      <th>3</th>\n",
       "      <td>10095</td>\n",
       "      <td>angry</td>\n",
       "    </tr>\n",
       "    <tr>\n",
       "      <th>4</th>\n",
       "      <td>10121</td>\n",
       "      <td>angry</td>\n",
       "    </tr>\n",
       "  </tbody>\n",
       "</table>\n",
       "</div>"
      ],
      "text/plain": [
       "   id_img    label\n",
       "0   10052  neutral\n",
       "1   10065     fear\n",
       "2   10079      sad\n",
       "3   10095    angry\n",
       "4   10121    angry"
      ]
     },
     "execution_count": 365,
     "metadata": {},
     "output_type": "execute_result"
    }
   ],
   "source": [
    "predicted_labels = [class_names[np.argmax(pred)] for pred in predictions]\n",
    "\n",
    "predicted_df = pd.DataFrame({'id_img': image_names,\n",
    "                             'label': predicted_labels})\n",
    "\n",
    "predicted_df.head()\n"
   ]
  },
  {
   "cell_type": "code",
   "execution_count": null,
   "metadata": {},
   "outputs": [],
   "source": [
    "predicted_df.to_csv('Pruebas/prueba_1.csv', index=False)"
   ]
  },
  {
   "cell_type": "markdown",
   "metadata": {},
   "source": [
    "# Modelo 2 (Usando balanceo de classe \"class_weights\")"
   ]
  },
  {
   "cell_type": "code",
   "execution_count": null,
   "metadata": {},
   "outputs": [],
   "source": [
    "from sklearn.utils import class_weight"
   ]
  },
  {
   "cell_type": "code",
   "execution_count": null,
   "metadata": {},
   "outputs": [
    {
     "name": "stderr",
     "output_type": "stream",
     "text": [
      "c:\\Users\\Jjaavviieerroperro\\AppData\\Local\\Programs\\Python\\Python312\\Lib\\site-packages\\keras\\src\\layers\\convolutional\\base_conv.py:107: UserWarning: Do not pass an `input_shape`/`input_dim` argument to a layer. When using Sequential models, prefer using an `Input(shape)` object as the first layer in the model instead.\n",
      "  super().__init__(activity_regularizer=activity_regularizer, **kwargs)\n"
     ]
    }
   ],
   "source": [
    "model_2 = models.Sequential([layers.Conv2D(32, (3, 3), activation='relu', input_shape=(48, 48, 1)),\n",
    "                            layers.MaxPooling2D((2, 2)),\n",
    "\n",
    "                            layers.Conv2D(64, (3, 3), activation='relu'),\n",
    "                            layers.MaxPooling2D((2, 2)),\n",
    "\n",
    "                            layers.Conv2D(64, (3, 3), activation='relu'),\n",
    "                            layers.MaxPooling2D((2, 2)),\n",
    "\n",
    "                            layers.Flatten(),\n",
    "\n",
    "                            layers.Dense(64, activation='relu'),\n",
    "                            layers.Dense(7, activation='softmax')])"
   ]
  },
  {
   "cell_type": "code",
   "execution_count": null,
   "metadata": {},
   "outputs": [],
   "source": [
    "model_2.compile(optimizer=Adam(),\n",
    "                loss='sparse_categorical_crossentropy',  \n",
    "                metrics=['accuracy'])"
   ]
  },
  {
   "cell_type": "markdown",
   "metadata": {},
   "source": [
    "### Aquí:"
   ]
  },
  {
   "cell_type": "code",
   "execution_count": null,
   "metadata": {},
   "outputs": [],
   "source": [
    "class_weights = class_weight.compute_class_weight('balanced', classes=np.unique(y_train_train), y=y_train_train)"
   ]
  },
  {
   "cell_type": "code",
   "execution_count": null,
   "metadata": {},
   "outputs": [
    {
     "name": "stdout",
     "output_type": "stream",
     "text": [
      "Pesos de clases:  {0: np.float64(0.5822369251748781), 1: np.float64(0.8256992443505354), 2: np.float64(0.8269430795165166), 3: np.float64(1.0041811846689896), 4: np.float64(1.02162353775257), 5: np.float64(1.2766334440753044), 6: np.float64(9.602665556018326)}\n"
     ]
    }
   ],
   "source": [
    "class_weight_dict = dict(enumerate(class_weights))\n",
    "print(\"Pesos de clases: \", class_weight_dict)\n",
    "\n",
    "#Darle el peso que merece a cada clase"
   ]
  },
  {
   "cell_type": "code",
   "execution_count": null,
   "metadata": {},
   "outputs": [
    {
     "name": "stdout",
     "output_type": "stream",
     "text": [
      "Epoch 1/20\n",
      "\u001b[1m721/721\u001b[0m \u001b[32m━━━━━━━━━━━━━━━━━━━━\u001b[0m\u001b[37m\u001b[0m \u001b[1m18s\u001b[0m 24ms/step - accuracy: 0.1831 - loss: 1.9201 - val_accuracy: 0.2989 - val_loss: 1.8023\n",
      "Epoch 2/20\n",
      "\u001b[1m721/721\u001b[0m \u001b[32m━━━━━━━━━━━━━━━━━━━━\u001b[0m\u001b[37m\u001b[0m \u001b[1m17s\u001b[0m 23ms/step - accuracy: 0.3131 - loss: 1.7408 - val_accuracy: 0.3369 - val_loss: 1.6847\n",
      "Epoch 3/20\n",
      "\u001b[1m721/721\u001b[0m \u001b[32m━━━━━━━━━━━━━━━━━━━━\u001b[0m\u001b[37m\u001b[0m \u001b[1m18s\u001b[0m 26ms/step - accuracy: 0.4005 - loss: 1.5598 - val_accuracy: 0.4389 - val_loss: 1.4771\n",
      "Epoch 4/20\n",
      "\u001b[1m721/721\u001b[0m \u001b[32m━━━━━━━━━━━━━━━━━━━━\u001b[0m\u001b[37m\u001b[0m \u001b[1m20s\u001b[0m 28ms/step - accuracy: 0.4424 - loss: 1.4551 - val_accuracy: 0.4517 - val_loss: 1.4328\n",
      "Epoch 5/20\n",
      "\u001b[1m721/721\u001b[0m \u001b[32m━━━━━━━━━━━━━━━━━━━━\u001b[0m\u001b[37m\u001b[0m \u001b[1m22s\u001b[0m 30ms/step - accuracy: 0.4719 - loss: 1.3461 - val_accuracy: 0.4458 - val_loss: 1.4236\n"
     ]
    }
   ],
   "source": [
    "history = model_2.fit(X_train_train, y_train_train, \n",
    "                            epochs=20,  \n",
    "                            batch_size=32,  \n",
    "                            validation_data=(X_test_train, y_test_train),\n",
    "                            class_weight=class_weight_dict,                  #Aplicamos los pesos de clase\n",
    "                            callbacks=[early_stopping])"
   ]
  },
  {
   "cell_type": "code",
   "execution_count": null,
   "metadata": {},
   "outputs": [
    {
     "name": "stderr",
     "output_type": "stream",
     "text": [
      "WARNING:absl:You are saving your model as an HDF5 file via `model.save()` or `keras.saving.save_model(model)`. This file format is considered legacy. We recommend using instead the native Keras format, e.g. `model.save('my_model.keras')` or `keras.saving.save_model(model, 'my_model.keras')`. \n"
     ]
    }
   ],
   "source": [
    "model_2.save('Modelos/modelo_2.h5')"
   ]
  },
  {
   "cell_type": "code",
   "execution_count": null,
   "metadata": {},
   "outputs": [
    {
     "data": {
      "image/png": "[encoded data removed]",
      "text/plain": [
       "<Figure size 1200x600 with 2 Axes>"
      ]
     },
     "metadata": {},
     "output_type": "display_data"
    }
   ],
   "source": [
    "\n",
    "plt.figure(figsize=(12, 6))\n",
    "\n",
    "# Precisión\n",
    "plt.subplot(1, 2, 1)\n",
    "plt.plot(history.history['accuracy'], label='Precisión de entrenamiento')\n",
    "plt.plot(history.history['val_accuracy'], label='Precisión de validación')\n",
    "plt.title('Precisión durante el entrenamiento')\n",
    "plt.xlabel('Épocas')\n",
    "plt.ylabel('Precisión')\n",
    "plt.legend()\n",
    "\n",
    "# Pérdida\n",
    "plt.subplot(1, 2, 2)\n",
    "plt.plot(history.history['loss'], label='Pérdida de entrenamiento')\n",
    "plt.plot(history.history['val_loss'], label='Pérdida de validación')\n",
    "plt.title('Pérdida durante el entrenamiento')\n",
    "plt.xlabel('Épocas')\n",
    "plt.ylabel('Pérdida')\n",
    "plt.legend()\n",
    "\n",
    "plt.tight_layout()\n",
    "plt.show()\n"
   ]
  },
  {
   "cell_type": "code",
   "execution_count": null,
   "metadata": {},
   "outputs": [
    {
     "name": "stdout",
     "output_type": "stream",
     "text": [
      "\u001b[1m221/221\u001b[0m \u001b[32m━━━━━━━━━━━━━━━━━━━━\u001b[0m\u001b[37m\u001b[0m \u001b[1m2s\u001b[0m 8ms/step\n"
     ]
    },
    {
     "data": {
      "text/html": [
       "<div>\n",
       "<style scoped>\n",
       "    .dataframe tbody tr th:only-of-type {\n",
       "        vertical-align: middle;\n",
       "    }\n",
       "\n",
       "    .dataframe tbody tr th {\n",
       "        vertical-align: top;\n",
       "    }\n",
       "\n",
       "    .dataframe thead th {\n",
       "        text-align: right;\n",
       "    }\n",
       "</style>\n",
       "<table border=\"1\" class=\"dataframe\">\n",
       "  <thead>\n",
       "    <tr style=\"text-align: right;\">\n",
       "      <th></th>\n",
       "      <th>id_img</th>\n",
       "      <th>label</th>\n",
       "    </tr>\n",
       "  </thead>\n",
       "  <tbody>\n",
       "    <tr>\n",
       "      <th>0</th>\n",
       "      <td>10052</td>\n",
       "      <td>angry</td>\n",
       "    </tr>\n",
       "    <tr>\n",
       "      <th>1</th>\n",
       "      <td>10065</td>\n",
       "      <td>fear</td>\n",
       "    </tr>\n",
       "    <tr>\n",
       "      <th>2</th>\n",
       "      <td>10079</td>\n",
       "      <td>disgust</td>\n",
       "    </tr>\n",
       "    <tr>\n",
       "      <th>3</th>\n",
       "      <td>10095</td>\n",
       "      <td>angry</td>\n",
       "    </tr>\n",
       "    <tr>\n",
       "      <th>4</th>\n",
       "      <td>10121</td>\n",
       "      <td>angry</td>\n",
       "    </tr>\n",
       "  </tbody>\n",
       "</table>\n",
       "</div>"
      ],
      "text/plain": [
       "   id_img    label\n",
       "0   10052    angry\n",
       "1   10065     fear\n",
       "2   10079  disgust\n",
       "3   10095    angry\n",
       "4   10121    angry"
      ]
     },
     "execution_count": 392,
     "metadata": {},
     "output_type": "execute_result"
    }
   ],
   "source": [
    "predictions = model_tipico.predict(X_test)\n",
    "\n",
    "predicted_labels = [class_names[np.argmax(pred)] for pred in predictions]\n",
    "\n",
    "predicted_df = pd.DataFrame({'id_img': image_names,\n",
    "                             'label': predicted_labels})\n",
    "\n",
    "predicted_df.head()"
   ]
  },
  {
   "cell_type": "code",
   "execution_count": null,
   "metadata": {},
   "outputs": [],
   "source": [
    "predicted_df.to_csv('Pruebas/prueba_2.csv', index=False)"
   ]
  },
  {
   "cell_type": "markdown",
   "metadata": {},
   "source": [
    "# Modelo Miguel clasificación paisajes adaptado"
   ]
  },
  {
   "cell_type": "markdown",
   "metadata": {},
   "source": [
    "### Basicamente tiene más capa y hay mas reducciones por pixeles, con capa de dropout"
   ]
  },
  {
   "cell_type": "code",
   "execution_count": null,
   "metadata": {},
   "outputs": [
    {
     "name": "stderr",
     "output_type": "stream",
     "text": [
      "c:\\Users\\Jjaavviieerroperro\\AppData\\Local\\Programs\\Python\\Python312\\Lib\\site-packages\\keras\\src\\layers\\convolutional\\base_conv.py:107: UserWarning: Do not pass an `input_shape`/`input_dim` argument to a layer. When using Sequential models, prefer using an `Input(shape)` object as the first layer in the model instead.\n",
      "  super().__init__(activity_regularizer=activity_regularizer, **kwargs)\n"
     ]
    },
    {
     "data": {
      "text/html": [
       "<pre style=\"white-space:pre;overflow-x:auto;line-height:normal;font-family:Menlo,'DejaVu Sans Mono',consolas,'Courier New',monospace\"><span style=\"font-weight: bold\">Model: \"sequential_13\"</span>\n",
       "</pre>\n"
      ],
      "text/plain": [
       "\u001b[1mModel: \"sequential_13\"\u001b[0m\n"
      ]
     },
     "metadata": {},
     "output_type": "display_data"
    },
    {
     "data": {
      "text/html": [
       "<pre style=\"white-space:pre;overflow-x:auto;line-height:normal;font-family:Menlo,'DejaVu Sans Mono',consolas,'Courier New',monospace\">┏━━━━━━━━━━━━━━━━━━━━━━━━━━━━━━━━━┳━━━━━━━━━━━━━━━━━━━━━━━━┳━━━━━━━━━━━━━━━┓\n",
       "┃<span style=\"font-weight: bold\"> Layer (type)                    </span>┃<span style=\"font-weight: bold\"> Output Shape           </span>┃<span style=\"font-weight: bold\">       Param # </span>┃\n",
       "┡━━━━━━━━━━━━━━━━━━━━━━━━━━━━━━━━━╇━━━━━━━━━━━━━━━━━━━━━━━━╇━━━━━━━━━━━━━━━┩\n",
       "│ conv2d_12 (<span style=\"color: #0087ff; text-decoration-color: #0087ff\">Conv2D</span>)              │ (<span style=\"color: #00d7ff; text-decoration-color: #00d7ff\">None</span>, <span style=\"color: #00af00; text-decoration-color: #00af00\">46</span>, <span style=\"color: #00af00; text-decoration-color: #00af00\">46</span>, <span style=\"color: #00af00; text-decoration-color: #00af00\">64</span>)     │           <span style=\"color: #00af00; text-decoration-color: #00af00\">640</span> │\n",
       "├─────────────────────────────────┼────────────────────────┼───────────────┤\n",
       "│ max_pooling2d_12 (<span style=\"color: #0087ff; text-decoration-color: #0087ff\">MaxPooling2D</span>) │ (<span style=\"color: #00d7ff; text-decoration-color: #00d7ff\">None</span>, <span style=\"color: #00af00; text-decoration-color: #00af00\">23</span>, <span style=\"color: #00af00; text-decoration-color: #00af00\">23</span>, <span style=\"color: #00af00; text-decoration-color: #00af00\">64</span>)     │             <span style=\"color: #00af00; text-decoration-color: #00af00\">0</span> │\n",
       "├─────────────────────────────────┼────────────────────────┼───────────────┤\n",
       "│ conv2d_13 (<span style=\"color: #0087ff; text-decoration-color: #0087ff\">Conv2D</span>)              │ (<span style=\"color: #00d7ff; text-decoration-color: #00d7ff\">None</span>, <span style=\"color: #00af00; text-decoration-color: #00af00\">21</span>, <span style=\"color: #00af00; text-decoration-color: #00af00\">21</span>, <span style=\"color: #00af00; text-decoration-color: #00af00\">32</span>)     │        <span style=\"color: #00af00; text-decoration-color: #00af00\">18,464</span> │\n",
       "├─────────────────────────────────┼────────────────────────┼───────────────┤\n",
       "│ max_pooling2d_13 (<span style=\"color: #0087ff; text-decoration-color: #0087ff\">MaxPooling2D</span>) │ (<span style=\"color: #00d7ff; text-decoration-color: #00d7ff\">None</span>, <span style=\"color: #00af00; text-decoration-color: #00af00\">10</span>, <span style=\"color: #00af00; text-decoration-color: #00af00\">10</span>, <span style=\"color: #00af00; text-decoration-color: #00af00\">32</span>)     │             <span style=\"color: #00af00; text-decoration-color: #00af00\">0</span> │\n",
       "├─────────────────────────────────┼────────────────────────┼───────────────┤\n",
       "│ conv2d_14 (<span style=\"color: #0087ff; text-decoration-color: #0087ff\">Conv2D</span>)              │ (<span style=\"color: #00d7ff; text-decoration-color: #00d7ff\">None</span>, <span style=\"color: #00af00; text-decoration-color: #00af00\">8</span>, <span style=\"color: #00af00; text-decoration-color: #00af00\">8</span>, <span style=\"color: #00af00; text-decoration-color: #00af00\">32</span>)       │         <span style=\"color: #00af00; text-decoration-color: #00af00\">9,248</span> │\n",
       "├─────────────────────────────────┼────────────────────────┼───────────────┤\n",
       "│ max_pooling2d_14 (<span style=\"color: #0087ff; text-decoration-color: #0087ff\">MaxPooling2D</span>) │ (<span style=\"color: #00d7ff; text-decoration-color: #00d7ff\">None</span>, <span style=\"color: #00af00; text-decoration-color: #00af00\">4</span>, <span style=\"color: #00af00; text-decoration-color: #00af00\">4</span>, <span style=\"color: #00af00; text-decoration-color: #00af00\">32</span>)       │             <span style=\"color: #00af00; text-decoration-color: #00af00\">0</span> │\n",
       "├─────────────────────────────────┼────────────────────────┼───────────────┤\n",
       "│ flatten_10 (<span style=\"color: #0087ff; text-decoration-color: #0087ff\">Flatten</span>)            │ (<span style=\"color: #00d7ff; text-decoration-color: #00d7ff\">None</span>, <span style=\"color: #00af00; text-decoration-color: #00af00\">512</span>)            │             <span style=\"color: #00af00; text-decoration-color: #00af00\">0</span> │\n",
       "├─────────────────────────────────┼────────────────────────┼───────────────┤\n",
       "│ dense_18 (<span style=\"color: #0087ff; text-decoration-color: #0087ff\">Dense</span>)                │ (<span style=\"color: #00d7ff; text-decoration-color: #00d7ff\">None</span>, <span style=\"color: #00af00; text-decoration-color: #00af00\">64</span>)             │        <span style=\"color: #00af00; text-decoration-color: #00af00\">32,832</span> │\n",
       "├─────────────────────────────────┼────────────────────────┼───────────────┤\n",
       "│ dropout (<span style=\"color: #0087ff; text-decoration-color: #0087ff\">Dropout</span>)               │ (<span style=\"color: #00d7ff; text-decoration-color: #00d7ff\">None</span>, <span style=\"color: #00af00; text-decoration-color: #00af00\">64</span>)             │             <span style=\"color: #00af00; text-decoration-color: #00af00\">0</span> │\n",
       "├─────────────────────────────────┼────────────────────────┼───────────────┤\n",
       "│ dense_19 (<span style=\"color: #0087ff; text-decoration-color: #0087ff\">Dense</span>)                │ (<span style=\"color: #00d7ff; text-decoration-color: #00d7ff\">None</span>, <span style=\"color: #00af00; text-decoration-color: #00af00\">32</span>)             │         <span style=\"color: #00af00; text-decoration-color: #00af00\">2,080</span> │\n",
       "├─────────────────────────────────┼────────────────────────┼───────────────┤\n",
       "│ dropout_1 (<span style=\"color: #0087ff; text-decoration-color: #0087ff\">Dropout</span>)             │ (<span style=\"color: #00d7ff; text-decoration-color: #00d7ff\">None</span>, <span style=\"color: #00af00; text-decoration-color: #00af00\">32</span>)             │             <span style=\"color: #00af00; text-decoration-color: #00af00\">0</span> │\n",
       "├─────────────────────────────────┼────────────────────────┼───────────────┤\n",
       "│ dense_20 (<span style=\"color: #0087ff; text-decoration-color: #0087ff\">Dense</span>)                │ (<span style=\"color: #00d7ff; text-decoration-color: #00d7ff\">None</span>, <span style=\"color: #00af00; text-decoration-color: #00af00\">7</span>)              │           <span style=\"color: #00af00; text-decoration-color: #00af00\">231</span> │\n",
       "└─────────────────────────────────┴────────────────────────┴───────────────┘\n",
       "</pre>\n"
      ],
      "text/plain": [
       "┏━━━━━━━━━━━━━━━━━━━━━━━━━━━━━━━━━┳━━━━━━━━━━━━━━━━━━━━━━━━┳━━━━━━━━━━━━━━━┓\n",
       "┃\u001b[1m \u001b[0m\u001b[1mLayer (type)                   \u001b[0m\u001b[1m \u001b[0m┃\u001b[1m \u001b[0m\u001b[1mOutput Shape          \u001b[0m\u001b[1m \u001b[0m┃\u001b[1m \u001b[0m\u001b[1m      Param #\u001b[0m\u001b[1m \u001b[0m┃\n",
       "┡━━━━━━━━━━━━━━━━━━━━━━━━━━━━━━━━━╇━━━━━━━━━━━━━━━━━━━━━━━━╇━━━━━━━━━━━━━━━┩\n",
       "│ conv2d_12 (\u001b[38;5;33mConv2D\u001b[0m)              │ (\u001b[38;5;45mNone\u001b[0m, \u001b[38;5;34m46\u001b[0m, \u001b[38;5;34m46\u001b[0m, \u001b[38;5;34m64\u001b[0m)     │           \u001b[38;5;34m640\u001b[0m │\n",
       "├─────────────────────────────────┼────────────────────────┼───────────────┤\n",
       "│ max_pooling2d_12 (\u001b[38;5;33mMaxPooling2D\u001b[0m) │ (\u001b[38;5;45mNone\u001b[0m, \u001b[38;5;34m23\u001b[0m, \u001b[38;5;34m23\u001b[0m, \u001b[38;5;34m64\u001b[0m)     │             \u001b[38;5;34m0\u001b[0m │\n",
       "├─────────────────────────────────┼────────────────────────┼───────────────┤\n",
       "│ conv2d_13 (\u001b[38;5;33mConv2D\u001b[0m)              │ (\u001b[38;5;45mNone\u001b[0m, \u001b[38;5;34m21\u001b[0m, \u001b[38;5;34m21\u001b[0m, \u001b[38;5;34m32\u001b[0m)     │        \u001b[38;5;34m18,464\u001b[0m │\n",
       "├─────────────────────────────────┼────────────────────────┼───────────────┤\n",
       "│ max_pooling2d_13 (\u001b[38;5;33mMaxPooling2D\u001b[0m) │ (\u001b[38;5;45mNone\u001b[0m, \u001b[38;5;34m10\u001b[0m, \u001b[38;5;34m10\u001b[0m, \u001b[38;5;34m32\u001b[0m)     │             \u001b[38;5;34m0\u001b[0m │\n",
       "├─────────────────────────────────┼────────────────────────┼───────────────┤\n",
       "│ conv2d_14 (\u001b[38;5;33mConv2D\u001b[0m)              │ (\u001b[38;5;45mNone\u001b[0m, \u001b[38;5;34m8\u001b[0m, \u001b[38;5;34m8\u001b[0m, \u001b[38;5;34m32\u001b[0m)       │         \u001b[38;5;34m9,248\u001b[0m │\n",
       "├─────────────────────────────────┼────────────────────────┼───────────────┤\n",
       "│ max_pooling2d_14 (\u001b[38;5;33mMaxPooling2D\u001b[0m) │ (\u001b[38;5;45mNone\u001b[0m, \u001b[38;5;34m4\u001b[0m, \u001b[38;5;34m4\u001b[0m, \u001b[38;5;34m32\u001b[0m)       │             \u001b[38;5;34m0\u001b[0m │\n",
       "├─────────────────────────────────┼────────────────────────┼───────────────┤\n",
       "│ flatten_10 (\u001b[38;5;33mFlatten\u001b[0m)            │ (\u001b[38;5;45mNone\u001b[0m, \u001b[38;5;34m512\u001b[0m)            │             \u001b[38;5;34m0\u001b[0m │\n",
       "├─────────────────────────────────┼────────────────────────┼───────────────┤\n",
       "│ dense_18 (\u001b[38;5;33mDense\u001b[0m)                │ (\u001b[38;5;45mNone\u001b[0m, \u001b[38;5;34m64\u001b[0m)             │        \u001b[38;5;34m32,832\u001b[0m │\n",
       "├─────────────────────────────────┼────────────────────────┼───────────────┤\n",
       "│ dropout (\u001b[38;5;33mDropout\u001b[0m)               │ (\u001b[38;5;45mNone\u001b[0m, \u001b[38;5;34m64\u001b[0m)             │             \u001b[38;5;34m0\u001b[0m │\n",
       "├─────────────────────────────────┼────────────────────────┼───────────────┤\n",
       "│ dense_19 (\u001b[38;5;33mDense\u001b[0m)                │ (\u001b[38;5;45mNone\u001b[0m, \u001b[38;5;34m32\u001b[0m)             │         \u001b[38;5;34m2,080\u001b[0m │\n",
       "├─────────────────────────────────┼────────────────────────┼───────────────┤\n",
       "│ dropout_1 (\u001b[38;5;33mDropout\u001b[0m)             │ (\u001b[38;5;45mNone\u001b[0m, \u001b[38;5;34m32\u001b[0m)             │             \u001b[38;5;34m0\u001b[0m │\n",
       "├─────────────────────────────────┼────────────────────────┼───────────────┤\n",
       "│ dense_20 (\u001b[38;5;33mDense\u001b[0m)                │ (\u001b[38;5;45mNone\u001b[0m, \u001b[38;5;34m7\u001b[0m)              │           \u001b[38;5;34m231\u001b[0m │\n",
       "└─────────────────────────────────┴────────────────────────┴───────────────┘\n"
      ]
     },
     "metadata": {},
     "output_type": "display_data"
    },
    {
     "data": {
      "text/html": [
       "<pre style=\"white-space:pre;overflow-x:auto;line-height:normal;font-family:Menlo,'DejaVu Sans Mono',consolas,'Courier New',monospace\"><span style=\"font-weight: bold\"> Total params: </span><span style=\"color: #00af00; text-decoration-color: #00af00\">63,495</span> (248.03 KB)\n",
       "</pre>\n"
      ],
      "text/plain": [
       "\u001b[1m Total params: \u001b[0m\u001b[38;5;34m63,495\u001b[0m (248.03 KB)\n"
      ]
     },
     "metadata": {},
     "output_type": "display_data"
    },
    {
     "data": {
      "text/html": [
       "<pre style=\"white-space:pre;overflow-x:auto;line-height:normal;font-family:Menlo,'DejaVu Sans Mono',consolas,'Courier New',monospace\"><span style=\"font-weight: bold\"> Trainable params: </span><span style=\"color: #00af00; text-decoration-color: #00af00\">63,495</span> (248.03 KB)\n",
       "</pre>\n"
      ],
      "text/plain": [
       "\u001b[1m Trainable params: \u001b[0m\u001b[38;5;34m63,495\u001b[0m (248.03 KB)\n"
      ]
     },
     "metadata": {},
     "output_type": "display_data"
    },
    {
     "data": {
      "text/html": [
       "<pre style=\"white-space:pre;overflow-x:auto;line-height:normal;font-family:Menlo,'DejaVu Sans Mono',consolas,'Courier New',monospace\"><span style=\"font-weight: bold\"> Non-trainable params: </span><span style=\"color: #00af00; text-decoration-color: #00af00\">0</span> (0.00 B)\n",
       "</pre>\n"
      ],
      "text/plain": [
       "\u001b[1m Non-trainable params: \u001b[0m\u001b[38;5;34m0\u001b[0m (0.00 B)\n"
      ]
     },
     "metadata": {},
     "output_type": "display_data"
    },
    {
     "name": "stdout",
     "output_type": "stream",
     "text": [
      "Epoch 1/20\n",
      "\u001b[1m203/203\u001b[0m \u001b[32m━━━━━━━━━━━━━━━━━━━━\u001b[0m\u001b[37m\u001b[0m \u001b[1m29s\u001b[0m 136ms/step - accuracy: 0.2173 - loss: 1.8222 - val_accuracy: 0.0000e+00 - val_loss: 3.7369\n",
      "Epoch 2/20\n",
      "\u001b[1m203/203\u001b[0m \u001b[32m━━━━━━━━━━━━━━━━━━━━\u001b[0m\u001b[37m\u001b[0m \u001b[1m24s\u001b[0m 118ms/step - accuracy: 0.2717 - loss: 1.6970 - val_accuracy: 0.0000e+00 - val_loss: 3.6223\n",
      "Epoch 3/20\n",
      "\u001b[1m203/203\u001b[0m \u001b[32m━━━━━━━━━━━━━━━━━━━━\u001b[0m\u001b[37m\u001b[0m \u001b[1m24s\u001b[0m 117ms/step - accuracy: 0.3358 - loss: 1.6064 - val_accuracy: 0.0000e+00 - val_loss: 3.8600\n",
      "Epoch 4/20\n",
      "\u001b[1m203/203\u001b[0m \u001b[32m━━━━━━━━━━━━━━━━━━━━\u001b[0m\u001b[37m\u001b[0m \u001b[1m24s\u001b[0m 116ms/step - accuracy: 0.3986 - loss: 1.5100 - val_accuracy: 0.0000e+00 - val_loss: 3.7915\n",
      "Epoch 5/20\n",
      "\u001b[1m203/203\u001b[0m \u001b[32m━━━━━━━━━━━━━━━━━━━━\u001b[0m\u001b[37m\u001b[0m \u001b[1m23s\u001b[0m 115ms/step - accuracy: 0.4217 - loss: 1.4435 - val_accuracy: 0.0000e+00 - val_loss: 3.5571\n",
      "Epoch 6/20\n",
      "\u001b[1m203/203\u001b[0m \u001b[32m━━━━━━━━━━━━━━━━━━━━\u001b[0m\u001b[37m\u001b[0m \u001b[1m24s\u001b[0m 116ms/step - accuracy: 0.4407 - loss: 1.4076 - val_accuracy: 0.0000e+00 - val_loss: 3.8540\n",
      "Epoch 7/20\n",
      "\u001b[1m203/203\u001b[0m \u001b[32m━━━━━━━━━━━━━━━━━━━━\u001b[0m\u001b[37m\u001b[0m \u001b[1m24s\u001b[0m 117ms/step - accuracy: 0.4608 - loss: 1.3681 - val_accuracy: 0.0000e+00 - val_loss: 3.4067\n",
      "Epoch 8/20\n",
      "\u001b[1m203/203\u001b[0m \u001b[32m━━━━━━━━━━━━━━━━━━━━\u001b[0m\u001b[37m\u001b[0m \u001b[1m23s\u001b[0m 115ms/step - accuracy: 0.4815 - loss: 1.3244 - val_accuracy: 0.0000e+00 - val_loss: 3.3104\n",
      "Epoch 9/20\n",
      "\u001b[1m203/203\u001b[0m \u001b[32m━━━━━━━━━━━━━━━━━━━━\u001b[0m\u001b[37m\u001b[0m \u001b[1m23s\u001b[0m 115ms/step - accuracy: 0.4874 - loss: 1.3169 - val_accuracy: 0.0000e+00 - val_loss: 3.6700\n",
      "Epoch 10/20\n",
      "\u001b[1m203/203\u001b[0m \u001b[32m━━━━━━━━━━━━━━━━━━━━\u001b[0m\u001b[37m\u001b[0m \u001b[1m24s\u001b[0m 118ms/step - accuracy: 0.5044 - loss: 1.2804 - val_accuracy: 0.0000e+00 - val_loss: 3.7140\n",
      "Epoch 11/20\n",
      "\u001b[1m203/203\u001b[0m \u001b[32m━━━━━━━━━━━━━━━━━━━━\u001b[0m\u001b[37m\u001b[0m \u001b[1m24s\u001b[0m 116ms/step - accuracy: 0.5066 - loss: 1.2670 - val_accuracy: 0.0000e+00 - val_loss: 3.6143\n",
      "Epoch 12/20\n",
      "\u001b[1m203/203\u001b[0m \u001b[32m━━━━━━━━━━━━━━━━━━━━\u001b[0m\u001b[37m\u001b[0m \u001b[1m24s\u001b[0m 118ms/step - accuracy: 0.5172 - loss: 1.2417 - val_accuracy: 0.0000e+00 - val_loss: 3.3412\n",
      "Epoch 13/20\n",
      "\u001b[1m203/203\u001b[0m \u001b[32m━━━━━━━━━━━━━━━━━━━━\u001b[0m\u001b[37m\u001b[0m \u001b[1m24s\u001b[0m 118ms/step - accuracy: 0.5290 - loss: 1.2218 - val_accuracy: 0.0000e+00 - val_loss: 3.3526\n"
     ]
    }
   ],
   "source": [
    "model_miguel = models.Sequential([layers.Conv2D(64, (3, 3), input_shape=(48, 48, 1), activation='relu'),  \n",
    "                                layers.MaxPooling2D(2, 2),\n",
    "                                \n",
    "                                layers.Conv2D(32, (3, 3), activation='relu'),\n",
    "                                layers.MaxPooling2D(2, 2),\n",
    "                                \n",
    "                                layers.Conv2D(32, (3, 3), activation='relu'),\n",
    "                                layers.MaxPooling2D(2, 2),\n",
    "                                \n",
    "                                layers.Flatten(),\n",
    "\n",
    "                                layers.Dense(64, activation='relu'),\n",
    "                                layers.Dropout(0.2),                      #Regularización con dropout (evitar el overfitting)\n",
    "                                \n",
    "                                layers.Dense(32, activation='relu'),\n",
    "                                layers.Dropout(0.2),                      #Un rango entre 0.1 y 0.3 para no afectar al modelo\n",
    "\n",
    "                                layers.Dense(7, activation=\"softmax\")])\n",
    "\n",
    "model_miguel.compile(optimizer='adam', \n",
    "                    loss='sparse_categorical_crossentropy', \n",
    "                    metrics=['accuracy'])\n",
    "\n",
    "model_miguel.summary()\n",
    "\n",
    "\n",
    "early_stopping = EarlyStopping(monitor='val_loss',  \n",
    "                               patience=5,  \n",
    "                               restore_best_weights=True)\n",
    "\n",
    "history = model_miguel.fit(X_train,\n",
    "                    y_train,\n",
    "                    batch_size=128,\n",
    "                    epochs=20,\n",
    "                    validation_split=0.1,   #Usando validation/split\n",
    "                    callbacks=[early_stopping])\n"
   ]
  },
  {
   "cell_type": "code",
   "execution_count": null,
   "metadata": {},
   "outputs": [
    {
     "name": "stderr",
     "output_type": "stream",
     "text": [
      "WARNING:absl:You are saving your model as an HDF5 file via `model.save()` or `keras.saving.save_model(model)`. This file format is considered legacy. We recommend using instead the native Keras format, e.g. `model.save('my_model.keras')` or `keras.saving.save_model(model, 'my_model.keras')`. \n"
     ]
    }
   ],
   "source": [
    "model_miguel.save('Modelos/modelo_miguel.h5')"
   ]
  },
  {
   "cell_type": "code",
   "execution_count": null,
   "metadata": {},
   "outputs": [
    {
     "name": "stdout",
     "output_type": "stream",
     "text": [
      "\u001b[1m221/221\u001b[0m \u001b[32m━━━━━━━━━━━━━━━━━━━━\u001b[0m\u001b[37m\u001b[0m \u001b[1m2s\u001b[0m 10ms/step\n"
     ]
    },
    {
     "data": {
      "text/html": [
       "<div>\n",
       "<style scoped>\n",
       "    .dataframe tbody tr th:only-of-type {\n",
       "        vertical-align: middle;\n",
       "    }\n",
       "\n",
       "    .dataframe tbody tr th {\n",
       "        vertical-align: top;\n",
       "    }\n",
       "\n",
       "    .dataframe thead th {\n",
       "        text-align: right;\n",
       "    }\n",
       "</style>\n",
       "<table border=\"1\" class=\"dataframe\">\n",
       "  <thead>\n",
       "    <tr style=\"text-align: right;\">\n",
       "      <th></th>\n",
       "      <th>id_img</th>\n",
       "      <th>label</th>\n",
       "    </tr>\n",
       "  </thead>\n",
       "  <tbody>\n",
       "    <tr>\n",
       "      <th>0</th>\n",
       "      <td>10052</td>\n",
       "      <td>happy</td>\n",
       "    </tr>\n",
       "    <tr>\n",
       "      <th>1</th>\n",
       "      <td>10065</td>\n",
       "      <td>fear</td>\n",
       "    </tr>\n",
       "    <tr>\n",
       "      <th>2</th>\n",
       "      <td>10079</td>\n",
       "      <td>angry</td>\n",
       "    </tr>\n",
       "    <tr>\n",
       "      <th>3</th>\n",
       "      <td>10095</td>\n",
       "      <td>sad</td>\n",
       "    </tr>\n",
       "    <tr>\n",
       "      <th>4</th>\n",
       "      <td>10121</td>\n",
       "      <td>angry</td>\n",
       "    </tr>\n",
       "  </tbody>\n",
       "</table>\n",
       "</div>"
      ],
      "text/plain": [
       "   id_img  label\n",
       "0   10052  happy\n",
       "1   10065   fear\n",
       "2   10079  angry\n",
       "3   10095    sad\n",
       "4   10121  angry"
      ]
     },
     "execution_count": 396,
     "metadata": {},
     "output_type": "execute_result"
    }
   ],
   "source": [
    "predictions = model_miguel.predict(X_test)\n",
    "\n",
    "predicted_labels = [class_names[np.argmax(pred)] for pred in predictions]\n",
    "\n",
    "predicted_df = pd.DataFrame({'id_img': image_names,\n",
    "                             'label': predicted_labels})\n",
    "\n",
    "predicted_df.head()"
   ]
  },
  {
   "cell_type": "code",
   "execution_count": null,
   "metadata": {},
   "outputs": [],
   "source": [
    "predicted_df.to_csv('Pruebas/prueba_3.csv', index=False)"
   ]
  },
  {
   "cell_type": "markdown",
   "metadata": {},
   "source": [
    "# Modelo con Dropout (evitar overfitting)"
   ]
  },
  {
   "cell_type": "code",
   "execution_count": null,
   "metadata": {},
   "outputs": [
    {
     "name": "stderr",
     "output_type": "stream",
     "text": [
      "c:\\Users\\Jjaavviieerroperro\\AppData\\Local\\Programs\\Python\\Python312\\Lib\\site-packages\\keras\\src\\layers\\convolutional\\base_conv.py:107: UserWarning: Do not pass an `input_shape`/`input_dim` argument to a layer. When using Sequential models, prefer using an `Input(shape)` object as the first layer in the model instead.\n",
      "  super().__init__(activity_regularizer=activity_regularizer, **kwargs)\n"
     ]
    }
   ],
   "source": [
    "model_drop = models.Sequential([layers.Conv2D(32, (3, 3), activation='relu', input_shape=(48, 48, 1)),\n",
    "                                layers.MaxPooling2D((2, 2)),\n",
    "                                layers.Dropout(0.2),               #DropOut\n",
    "\n",
    "                                layers.Conv2D(64, (3, 3), activation='relu'),\n",
    "                                layers.MaxPooling2D((2, 2)),\n",
    "                                layers.Dropout(0.3),               #DropOut\n",
    "\n",
    "                                layers.Conv2D(64, (3, 3), activation='relu'),\n",
    "                                layers.MaxPooling2D((2, 2)),\n",
    "                                layers.Dropout(0.4),               #DropOut\n",
    "\n",
    "\n",
    "                                layers.Flatten(),\n",
    "\n",
    "                                layers.Dense(64, activation='relu'),\n",
    "                                layers.Dropout(0.5),               #DropOut\n",
    "\n",
    "                                layers.Dense(7, activation='softmax')])\n"
   ]
  },
  {
   "cell_type": "code",
   "execution_count": null,
   "metadata": {},
   "outputs": [
    {
     "data": {
      "text/html": [
       "<pre style=\"white-space:pre;overflow-x:auto;line-height:normal;font-family:Menlo,'DejaVu Sans Mono',consolas,'Courier New',monospace\"><span style=\"font-weight: bold\">Model: \"sequential\"</span>\n",
       "</pre>\n"
      ],
      "text/plain": [
       "\u001b[1mModel: \"sequential\"\u001b[0m\n"
      ]
     },
     "metadata": {},
     "output_type": "display_data"
    },
    {
     "data": {
      "text/html": [
       "<pre style=\"white-space:pre;overflow-x:auto;line-height:normal;font-family:Menlo,'DejaVu Sans Mono',consolas,'Courier New',monospace\">┏━━━━━━━━━━━━━━━━━━━━━━━━━━━━━━━━━┳━━━━━━━━━━━━━━━━━━━━━━━━┳━━━━━━━━━━━━━━━┓\n",
       "┃<span style=\"font-weight: bold\"> Layer (type)                    </span>┃<span style=\"font-weight: bold\"> Output Shape           </span>┃<span style=\"font-weight: bold\">       Param # </span>┃\n",
       "┡━━━━━━━━━━━━━━━━━━━━━━━━━━━━━━━━━╇━━━━━━━━━━━━━━━━━━━━━━━━╇━━━━━━━━━━━━━━━┩\n",
       "│ conv2d (<span style=\"color: #0087ff; text-decoration-color: #0087ff\">Conv2D</span>)                 │ (<span style=\"color: #00d7ff; text-decoration-color: #00d7ff\">None</span>, <span style=\"color: #00af00; text-decoration-color: #00af00\">46</span>, <span style=\"color: #00af00; text-decoration-color: #00af00\">46</span>, <span style=\"color: #00af00; text-decoration-color: #00af00\">32</span>)     │           <span style=\"color: #00af00; text-decoration-color: #00af00\">320</span> │\n",
       "├─────────────────────────────────┼────────────────────────┼───────────────┤\n",
       "│ max_pooling2d (<span style=\"color: #0087ff; text-decoration-color: #0087ff\">MaxPooling2D</span>)    │ (<span style=\"color: #00d7ff; text-decoration-color: #00d7ff\">None</span>, <span style=\"color: #00af00; text-decoration-color: #00af00\">23</span>, <span style=\"color: #00af00; text-decoration-color: #00af00\">23</span>, <span style=\"color: #00af00; text-decoration-color: #00af00\">32</span>)     │             <span style=\"color: #00af00; text-decoration-color: #00af00\">0</span> │\n",
       "├─────────────────────────────────┼────────────────────────┼───────────────┤\n",
       "│ dropout (<span style=\"color: #0087ff; text-decoration-color: #0087ff\">Dropout</span>)               │ (<span style=\"color: #00d7ff; text-decoration-color: #00d7ff\">None</span>, <span style=\"color: #00af00; text-decoration-color: #00af00\">23</span>, <span style=\"color: #00af00; text-decoration-color: #00af00\">23</span>, <span style=\"color: #00af00; text-decoration-color: #00af00\">32</span>)     │             <span style=\"color: #00af00; text-decoration-color: #00af00\">0</span> │\n",
       "├─────────────────────────────────┼────────────────────────┼───────────────┤\n",
       "│ conv2d_1 (<span style=\"color: #0087ff; text-decoration-color: #0087ff\">Conv2D</span>)               │ (<span style=\"color: #00d7ff; text-decoration-color: #00d7ff\">None</span>, <span style=\"color: #00af00; text-decoration-color: #00af00\">21</span>, <span style=\"color: #00af00; text-decoration-color: #00af00\">21</span>, <span style=\"color: #00af00; text-decoration-color: #00af00\">64</span>)     │        <span style=\"color: #00af00; text-decoration-color: #00af00\">18,496</span> │\n",
       "├─────────────────────────────────┼────────────────────────┼───────────────┤\n",
       "│ max_pooling2d_1 (<span style=\"color: #0087ff; text-decoration-color: #0087ff\">MaxPooling2D</span>)  │ (<span style=\"color: #00d7ff; text-decoration-color: #00d7ff\">None</span>, <span style=\"color: #00af00; text-decoration-color: #00af00\">10</span>, <span style=\"color: #00af00; text-decoration-color: #00af00\">10</span>, <span style=\"color: #00af00; text-decoration-color: #00af00\">64</span>)     │             <span style=\"color: #00af00; text-decoration-color: #00af00\">0</span> │\n",
       "├─────────────────────────────────┼────────────────────────┼───────────────┤\n",
       "│ dropout_1 (<span style=\"color: #0087ff; text-decoration-color: #0087ff\">Dropout</span>)             │ (<span style=\"color: #00d7ff; text-decoration-color: #00d7ff\">None</span>, <span style=\"color: #00af00; text-decoration-color: #00af00\">10</span>, <span style=\"color: #00af00; text-decoration-color: #00af00\">10</span>, <span style=\"color: #00af00; text-decoration-color: #00af00\">64</span>)     │             <span style=\"color: #00af00; text-decoration-color: #00af00\">0</span> │\n",
       "├─────────────────────────────────┼────────────────────────┼───────────────┤\n",
       "│ conv2d_2 (<span style=\"color: #0087ff; text-decoration-color: #0087ff\">Conv2D</span>)               │ (<span style=\"color: #00d7ff; text-decoration-color: #00d7ff\">None</span>, <span style=\"color: #00af00; text-decoration-color: #00af00\">8</span>, <span style=\"color: #00af00; text-decoration-color: #00af00\">8</span>, <span style=\"color: #00af00; text-decoration-color: #00af00\">64</span>)       │        <span style=\"color: #00af00; text-decoration-color: #00af00\">36,928</span> │\n",
       "├─────────────────────────────────┼────────────────────────┼───────────────┤\n",
       "│ max_pooling2d_2 (<span style=\"color: #0087ff; text-decoration-color: #0087ff\">MaxPooling2D</span>)  │ (<span style=\"color: #00d7ff; text-decoration-color: #00d7ff\">None</span>, <span style=\"color: #00af00; text-decoration-color: #00af00\">4</span>, <span style=\"color: #00af00; text-decoration-color: #00af00\">4</span>, <span style=\"color: #00af00; text-decoration-color: #00af00\">64</span>)       │             <span style=\"color: #00af00; text-decoration-color: #00af00\">0</span> │\n",
       "├─────────────────────────────────┼────────────────────────┼───────────────┤\n",
       "│ dropout_2 (<span style=\"color: #0087ff; text-decoration-color: #0087ff\">Dropout</span>)             │ (<span style=\"color: #00d7ff; text-decoration-color: #00d7ff\">None</span>, <span style=\"color: #00af00; text-decoration-color: #00af00\">4</span>, <span style=\"color: #00af00; text-decoration-color: #00af00\">4</span>, <span style=\"color: #00af00; text-decoration-color: #00af00\">64</span>)       │             <span style=\"color: #00af00; text-decoration-color: #00af00\">0</span> │\n",
       "├─────────────────────────────────┼────────────────────────┼───────────────┤\n",
       "│ flatten (<span style=\"color: #0087ff; text-decoration-color: #0087ff\">Flatten</span>)               │ (<span style=\"color: #00d7ff; text-decoration-color: #00d7ff\">None</span>, <span style=\"color: #00af00; text-decoration-color: #00af00\">1024</span>)           │             <span style=\"color: #00af00; text-decoration-color: #00af00\">0</span> │\n",
       "├─────────────────────────────────┼────────────────────────┼───────────────┤\n",
       "│ dense (<span style=\"color: #0087ff; text-decoration-color: #0087ff\">Dense</span>)                   │ (<span style=\"color: #00d7ff; text-decoration-color: #00d7ff\">None</span>, <span style=\"color: #00af00; text-decoration-color: #00af00\">64</span>)             │        <span style=\"color: #00af00; text-decoration-color: #00af00\">65,600</span> │\n",
       "├─────────────────────────────────┼────────────────────────┼───────────────┤\n",
       "│ dropout_3 (<span style=\"color: #0087ff; text-decoration-color: #0087ff\">Dropout</span>)             │ (<span style=\"color: #00d7ff; text-decoration-color: #00d7ff\">None</span>, <span style=\"color: #00af00; text-decoration-color: #00af00\">64</span>)             │             <span style=\"color: #00af00; text-decoration-color: #00af00\">0</span> │\n",
       "├─────────────────────────────────┼────────────────────────┼───────────────┤\n",
       "│ dense_1 (<span style=\"color: #0087ff; text-decoration-color: #0087ff\">Dense</span>)                 │ (<span style=\"color: #00d7ff; text-decoration-color: #00d7ff\">None</span>, <span style=\"color: #00af00; text-decoration-color: #00af00\">7</span>)              │           <span style=\"color: #00af00; text-decoration-color: #00af00\">455</span> │\n",
       "└─────────────────────────────────┴────────────────────────┴───────────────┘\n",
       "</pre>\n"
      ],
      "text/plain": [
       "┏━━━━━━━━━━━━━━━━━━━━━━━━━━━━━━━━━┳━━━━━━━━━━━━━━━━━━━━━━━━┳━━━━━━━━━━━━━━━┓\n",
       "┃\u001b[1m \u001b[0m\u001b[1mLayer (type)                   \u001b[0m\u001b[1m \u001b[0m┃\u001b[1m \u001b[0m\u001b[1mOutput Shape          \u001b[0m\u001b[1m \u001b[0m┃\u001b[1m \u001b[0m\u001b[1m      Param #\u001b[0m\u001b[1m \u001b[0m┃\n",
       "┡━━━━━━━━━━━━━━━━━━━━━━━━━━━━━━━━━╇━━━━━━━━━━━━━━━━━━━━━━━━╇━━━━━━━━━━━━━━━┩\n",
       "│ conv2d (\u001b[38;5;33mConv2D\u001b[0m)                 │ (\u001b[38;5;45mNone\u001b[0m, \u001b[38;5;34m46\u001b[0m, \u001b[38;5;34m46\u001b[0m, \u001b[38;5;34m32\u001b[0m)     │           \u001b[38;5;34m320\u001b[0m │\n",
       "├─────────────────────────────────┼────────────────────────┼───────────────┤\n",
       "│ max_pooling2d (\u001b[38;5;33mMaxPooling2D\u001b[0m)    │ (\u001b[38;5;45mNone\u001b[0m, \u001b[38;5;34m23\u001b[0m, \u001b[38;5;34m23\u001b[0m, \u001b[38;5;34m32\u001b[0m)     │             \u001b[38;5;34m0\u001b[0m │\n",
       "├─────────────────────────────────┼────────────────────────┼───────────────┤\n",
       "│ dropout (\u001b[38;5;33mDropout\u001b[0m)               │ (\u001b[38;5;45mNone\u001b[0m, \u001b[38;5;34m23\u001b[0m, \u001b[38;5;34m23\u001b[0m, \u001b[38;5;34m32\u001b[0m)     │             \u001b[38;5;34m0\u001b[0m │\n",
       "├─────────────────────────────────┼────────────────────────┼───────────────┤\n",
       "│ conv2d_1 (\u001b[38;5;33mConv2D\u001b[0m)               │ (\u001b[38;5;45mNone\u001b[0m, \u001b[38;5;34m21\u001b[0m, \u001b[38;5;34m21\u001b[0m, \u001b[38;5;34m64\u001b[0m)     │        \u001b[38;5;34m18,496\u001b[0m │\n",
       "├─────────────────────────────────┼────────────────────────┼───────────────┤\n",
       "│ max_pooling2d_1 (\u001b[38;5;33mMaxPooling2D\u001b[0m)  │ (\u001b[38;5;45mNone\u001b[0m, \u001b[38;5;34m10\u001b[0m, \u001b[38;5;34m10\u001b[0m, \u001b[38;5;34m64\u001b[0m)     │             \u001b[38;5;34m0\u001b[0m │\n",
       "├─────────────────────────────────┼────────────────────────┼───────────────┤\n",
       "│ dropout_1 (\u001b[38;5;33mDropout\u001b[0m)             │ (\u001b[38;5;45mNone\u001b[0m, \u001b[38;5;34m10\u001b[0m, \u001b[38;5;34m10\u001b[0m, \u001b[38;5;34m64\u001b[0m)     │             \u001b[38;5;34m0\u001b[0m │\n",
       "├─────────────────────────────────┼────────────────────────┼───────────────┤\n",
       "│ conv2d_2 (\u001b[38;5;33mConv2D\u001b[0m)               │ (\u001b[38;5;45mNone\u001b[0m, \u001b[38;5;34m8\u001b[0m, \u001b[38;5;34m8\u001b[0m, \u001b[38;5;34m64\u001b[0m)       │        \u001b[38;5;34m36,928\u001b[0m │\n",
       "├─────────────────────────────────┼────────────────────────┼───────────────┤\n",
       "│ max_pooling2d_2 (\u001b[38;5;33mMaxPooling2D\u001b[0m)  │ (\u001b[38;5;45mNone\u001b[0m, \u001b[38;5;34m4\u001b[0m, \u001b[38;5;34m4\u001b[0m, \u001b[38;5;34m64\u001b[0m)       │             \u001b[38;5;34m0\u001b[0m │\n",
       "├─────────────────────────────────┼────────────────────────┼───────────────┤\n",
       "│ dropout_2 (\u001b[38;5;33mDropout\u001b[0m)             │ (\u001b[38;5;45mNone\u001b[0m, \u001b[38;5;34m4\u001b[0m, \u001b[38;5;34m4\u001b[0m, \u001b[38;5;34m64\u001b[0m)       │             \u001b[38;5;34m0\u001b[0m │\n",
       "├─────────────────────────────────┼────────────────────────┼───────────────┤\n",
       "│ flatten (\u001b[38;5;33mFlatten\u001b[0m)               │ (\u001b[38;5;45mNone\u001b[0m, \u001b[38;5;34m1024\u001b[0m)           │             \u001b[38;5;34m0\u001b[0m │\n",
       "├─────────────────────────────────┼────────────────────────┼───────────────┤\n",
       "│ dense (\u001b[38;5;33mDense\u001b[0m)                   │ (\u001b[38;5;45mNone\u001b[0m, \u001b[38;5;34m64\u001b[0m)             │        \u001b[38;5;34m65,600\u001b[0m │\n",
       "├─────────────────────────────────┼────────────────────────┼───────────────┤\n",
       "│ dropout_3 (\u001b[38;5;33mDropout\u001b[0m)             │ (\u001b[38;5;45mNone\u001b[0m, \u001b[38;5;34m64\u001b[0m)             │             \u001b[38;5;34m0\u001b[0m │\n",
       "├─────────────────────────────────┼────────────────────────┼───────────────┤\n",
       "│ dense_1 (\u001b[38;5;33mDense\u001b[0m)                 │ (\u001b[38;5;45mNone\u001b[0m, \u001b[38;5;34m7\u001b[0m)              │           \u001b[38;5;34m455\u001b[0m │\n",
       "└─────────────────────────────────┴────────────────────────┴───────────────┘\n"
      ]
     },
     "metadata": {},
     "output_type": "display_data"
    },
    {
     "data": {
      "text/html": [
       "<pre style=\"white-space:pre;overflow-x:auto;line-height:normal;font-family:Menlo,'DejaVu Sans Mono',consolas,'Courier New',monospace\"><span style=\"font-weight: bold\"> Total params: </span><span style=\"color: #00af00; text-decoration-color: #00af00\">121,799</span> (475.78 KB)\n",
       "</pre>\n"
      ],
      "text/plain": [
       "\u001b[1m Total params: \u001b[0m\u001b[38;5;34m121,799\u001b[0m (475.78 KB)\n"
      ]
     },
     "metadata": {},
     "output_type": "display_data"
    },
    {
     "data": {
      "text/html": [
       "<pre style=\"white-space:pre;overflow-x:auto;line-height:normal;font-family:Menlo,'DejaVu Sans Mono',consolas,'Courier New',monospace\"><span style=\"font-weight: bold\"> Trainable params: </span><span style=\"color: #00af00; text-decoration-color: #00af00\">121,799</span> (475.78 KB)\n",
       "</pre>\n"
      ],
      "text/plain": [
       "\u001b[1m Trainable params: \u001b[0m\u001b[38;5;34m121,799\u001b[0m (475.78 KB)\n"
      ]
     },
     "metadata": {},
     "output_type": "display_data"
    },
    {
     "data": {
      "text/html": [
       "<pre style=\"white-space:pre;overflow-x:auto;line-height:normal;font-family:Menlo,'DejaVu Sans Mono',consolas,'Courier New',monospace\"><span style=\"font-weight: bold\"> Non-trainable params: </span><span style=\"color: #00af00; text-decoration-color: #00af00\">0</span> (0.00 B)\n",
       "</pre>\n"
      ],
      "text/plain": [
       "\u001b[1m Non-trainable params: \u001b[0m\u001b[38;5;34m0\u001b[0m (0.00 B)\n"
      ]
     },
     "metadata": {},
     "output_type": "display_data"
    }
   ],
   "source": [
    "model_drop.summary()"
   ]
  },
  {
   "cell_type": "code",
   "execution_count": null,
   "metadata": {},
   "outputs": [],
   "source": [
    "model_drop.compile(optimizer='adam',\n",
    "                     loss='sparse_categorical_crossentropy',\n",
    "                     metrics=['accuracy'])"
   ]
  },
  {
   "cell_type": "code",
   "execution_count": null,
   "metadata": {},
   "outputs": [
    {
     "name": "stdout",
     "output_type": "stream",
     "text": [
      "Epoch 1/20\n",
      "\u001b[1m721/721\u001b[0m \u001b[32m━━━━━━━━━━━━━━━━━━━━\u001b[0m\u001b[37m\u001b[0m \u001b[1m21s\u001b[0m 26ms/step - accuracy: 0.2140 - loss: 1.8569 - val_accuracy: 0.3330 - val_loss: 1.6745\n",
      "Epoch 2/20\n",
      "\u001b[1m721/721\u001b[0m \u001b[32m━━━━━━━━━━━━━━━━━━━━\u001b[0m\u001b[37m\u001b[0m \u001b[1m21s\u001b[0m 30ms/step - accuracy: 0.3149 - loss: 1.7011 - val_accuracy: 0.3936 - val_loss: 1.5764\n",
      "Epoch 3/20\n",
      "\u001b[1m721/721\u001b[0m \u001b[32m━━━━━━━━━━━━━━━━━━━━\u001b[0m\u001b[37m\u001b[0m \u001b[1m23s\u001b[0m 31ms/step - accuracy: 0.3735 - loss: 1.6065 - val_accuracy: 0.4345 - val_loss: 1.4634\n",
      "Epoch 4/20\n",
      "\u001b[1m721/721\u001b[0m \u001b[32m━━━━━━━━━━━━━━━━━━━━\u001b[0m\u001b[37m\u001b[0m \u001b[1m21s\u001b[0m 29ms/step - accuracy: 0.4028 - loss: 1.5363 - val_accuracy: 0.4529 - val_loss: 1.4107\n",
      "Epoch 5/20\n",
      "\u001b[1m721/721\u001b[0m \u001b[32m━━━━━━━━━━━━━━━━━━━━\u001b[0m\u001b[37m\u001b[0m \u001b[1m21s\u001b[0m 30ms/step - accuracy: 0.4205 - loss: 1.4817 - val_accuracy: 0.4703 - val_loss: 1.3693\n",
      "Epoch 6/20\n",
      "\u001b[1m721/721\u001b[0m \u001b[32m━━━━━━━━━━━━━━━━━━━━\u001b[0m\u001b[37m\u001b[0m \u001b[1m21s\u001b[0m 29ms/step - accuracy: 0.4411 - loss: 1.4572 - val_accuracy: 0.4791 - val_loss: 1.3554\n",
      "Epoch 7/20\n",
      "\u001b[1m721/721\u001b[0m \u001b[32m━━━━━━━━━━━━━━━━━━━━\u001b[0m\u001b[37m\u001b[0m \u001b[1m21s\u001b[0m 29ms/step - accuracy: 0.4538 - loss: 1.4235 - val_accuracy: 0.4905 - val_loss: 1.3249\n",
      "Epoch 8/20\n",
      "\u001b[1m721/721\u001b[0m \u001b[32m━━━━━━━━━━━━━━━━━━━━\u001b[0m\u001b[37m\u001b[0m \u001b[1m21s\u001b[0m 30ms/step - accuracy: 0.4586 - loss: 1.4070 - val_accuracy: 0.4931 - val_loss: 1.3298\n",
      "Epoch 9/20\n",
      "\u001b[1m721/721\u001b[0m \u001b[32m━━━━━━━━━━━━━━━━━━━━\u001b[0m\u001b[37m\u001b[0m \u001b[1m21s\u001b[0m 30ms/step - accuracy: 0.4611 - loss: 1.4034 - val_accuracy: 0.5046 - val_loss: 1.2903\n",
      "Epoch 10/20\n",
      "\u001b[1m721/721\u001b[0m \u001b[32m━━━━━━━━━━━━━━━━━━━━\u001b[0m\u001b[37m\u001b[0m \u001b[1m21s\u001b[0m 30ms/step - accuracy: 0.4731 - loss: 1.3806 - val_accuracy: 0.5027 - val_loss: 1.2941\n",
      "Epoch 11/20\n",
      "\u001b[1m721/721\u001b[0m \u001b[32m━━━━━━━━━━━━━━━━━━━━\u001b[0m\u001b[37m\u001b[0m \u001b[1m22s\u001b[0m 30ms/step - accuracy: 0.4772 - loss: 1.3654 - val_accuracy: 0.5004 - val_loss: 1.2968\n",
      "Epoch 12/20\n",
      "\u001b[1m721/721\u001b[0m \u001b[32m━━━━━━━━━━━━━━━━━━━━\u001b[0m\u001b[37m\u001b[0m \u001b[1m23s\u001b[0m 31ms/step - accuracy: 0.4773 - loss: 1.3676 - val_accuracy: 0.5180 - val_loss: 1.2708\n",
      "Epoch 13/20\n",
      "\u001b[1m721/721\u001b[0m \u001b[32m━━━━━━━━━━━━━━━━━━━━\u001b[0m\u001b[37m\u001b[0m \u001b[1m22s\u001b[0m 30ms/step - accuracy: 0.4808 - loss: 1.3490 - val_accuracy: 0.5148 - val_loss: 1.2585\n",
      "Epoch 14/20\n",
      "\u001b[1m721/721\u001b[0m \u001b[32m━━━━━━━━━━━━━━━━━━━━\u001b[0m\u001b[37m\u001b[0m \u001b[1m23s\u001b[0m 32ms/step - accuracy: 0.4871 - loss: 1.3362 - val_accuracy: 0.5159 - val_loss: 1.2532\n",
      "Epoch 15/20\n",
      "\u001b[1m721/721\u001b[0m \u001b[32m━━━━━━━━━━━━━━━━━━━━\u001b[0m\u001b[37m\u001b[0m \u001b[1m24s\u001b[0m 33ms/step - accuracy: 0.4921 - loss: 1.3345 - val_accuracy: 0.5244 - val_loss: 1.2535\n",
      "Epoch 16/20\n",
      "\u001b[1m721/721\u001b[0m \u001b[32m━━━━━━━━━━━━━━━━━━━━\u001b[0m\u001b[37m\u001b[0m \u001b[1m22s\u001b[0m 31ms/step - accuracy: 0.4924 - loss: 1.3253 - val_accuracy: 0.5164 - val_loss: 1.2533\n",
      "Epoch 17/20\n",
      "\u001b[1m721/721\u001b[0m \u001b[32m━━━━━━━━━━━━━━━━━━━━\u001b[0m\u001b[37m\u001b[0m \u001b[1m22s\u001b[0m 31ms/step - accuracy: 0.4905 - loss: 1.3248 - val_accuracy: 0.5325 - val_loss: 1.2190\n",
      "Epoch 18/20\n",
      "\u001b[1m721/721\u001b[0m \u001b[32m━━━━━━━━━━━━━━━━━━━━\u001b[0m\u001b[37m\u001b[0m \u001b[1m21s\u001b[0m 29ms/step - accuracy: 0.5121 - loss: 1.2945 - val_accuracy: 0.5263 - val_loss: 1.2378\n",
      "Epoch 19/20\n",
      "\u001b[1m721/721\u001b[0m \u001b[32m━━━━━━━━━━━━━━━━━━━━\u001b[0m\u001b[37m\u001b[0m \u001b[1m22s\u001b[0m 30ms/step - accuracy: 0.5047 - loss: 1.2985 - val_accuracy: 0.5343 - val_loss: 1.2175\n",
      "Epoch 20/20\n",
      "\u001b[1m721/721\u001b[0m \u001b[32m━━━━━━━━━━━━━━━━━━━━\u001b[0m\u001b[37m\u001b[0m \u001b[1m24s\u001b[0m 33ms/step - accuracy: 0.4969 - loss: 1.3062 - val_accuracy: 0.5384 - val_loss: 1.2114\n"
     ]
    }
   ],
   "source": [
    "history = model_drop.fit(X_train_train,\n",
    "                           y_train_train,\n",
    "                           epochs=20,\n",
    "                           batch_size=32,\n",
    "                           validation_data=(X_test_train, y_test_train),\n",
    "                           callbacks=[early_stopping])\n"
   ]
  },
  {
   "cell_type": "code",
   "execution_count": null,
   "metadata": {},
   "outputs": [
    {
     "name": "stdout",
     "output_type": "stream",
     "text": [
      "\u001b[1m181/181\u001b[0m \u001b[32m━━━━━━━━━━━━━━━━━━━━\u001b[0m\u001b[37m\u001b[0m \u001b[1m1s\u001b[0m 7ms/step - accuracy: 0.5441 - loss: 1.1989\n",
      "Accuracy en el conjunto de prueba: 0.5384215116500854\n",
      "Pérdida en el conjunto de prueba: 1.2113513946533203\n"
     ]
    }
   ],
   "source": [
    "test_loss, test_acc = model_drop.evaluate(X_test_train, y_test_train)\n",
    "print(f\"Accuracy en el conjunto de prueba: {test_acc}\")\n",
    "print(f\"Pérdida en el conjunto de prueba: {test_loss}\")"
   ]
  },
  {
   "cell_type": "code",
   "execution_count": null,
   "metadata": {},
   "outputs": [
    {
     "name": "stderr",
     "output_type": "stream",
     "text": [
      "WARNING:absl:You are saving your model as an HDF5 file via `model.save()` or `keras.saving.save_model(model)`. This file format is considered legacy. We recommend using instead the native Keras format, e.g. `model.save('my_model.keras')` or `keras.saving.save_model(model, 'my_model.keras')`. \n"
     ]
    }
   ],
   "source": [
    "model_drop.save('Modelos/modelo_drop.h5')"
   ]
  },
  {
   "cell_type": "code",
   "execution_count": null,
   "metadata": {},
   "outputs": [
    {
     "data": {
      "text/plain": [
       "<matplotlib.legend.Legend at 0x1affcbe2480>"
      ]
     },
     "execution_count": 35,
     "metadata": {},
     "output_type": "execute_result"
    },
    {
     "data": {
      "image/png": "[encoded data removed]",
      "text/plain": [
       "<Figure size 1200x600 with 1 Axes>"
      ]
     },
     "metadata": {},
     "output_type": "display_data"
    }
   ],
   "source": [
    "# Graficar la pérdida\n",
    "plt.figure(figsize=(12, 6))\n",
    "plt.subplot(1, 2, 1)\n",
    "plt.plot(history.history['loss'], label='Pérdida de entrenamiento')\n",
    "plt.plot(history.history['val_loss'], label='Pérdida de validación')\n",
    "plt.title('Pérdida durante el entrenamiento')\n",
    "plt.xlabel('Épocas')\n",
    "plt.ylabel('Pérdida')\n",
    "plt.legend()"
   ]
  },
  {
   "cell_type": "code",
   "execution_count": null,
   "metadata": {},
   "outputs": [
    {
     "data": {
      "image/png": "[encoded data removed]",
      "text/plain": [
       "<Figure size 640x480 with 1 Axes>"
      ]
     },
     "metadata": {},
     "output_type": "display_data"
    }
   ],
   "source": [
    "# Graficar la precisión\n",
    "plt.subplot(1, 2, 2)\n",
    "plt.plot(history.history['accuracy'], label='Precisión de entrenamiento')\n",
    "plt.plot(history.history['val_accuracy'], label='Precisión de validación')\n",
    "plt.title('Precisión durante el entrenamiento')\n",
    "plt.xlabel('Épocas')\n",
    "plt.ylabel('Precisión')\n",
    "plt.legend()\n",
    "\n",
    "plt.tight_layout()\n",
    "plt.show()"
   ]
  },
  {
   "cell_type": "code",
   "execution_count": null,
   "metadata": {},
   "outputs": [
    {
     "name": "stdout",
     "output_type": "stream",
     "text": [
      "\u001b[1m221/221\u001b[0m \u001b[32m━━━━━━━━━━━━━━━━━━━━\u001b[0m\u001b[37m\u001b[0m \u001b[1m2s\u001b[0m 8ms/step\n"
     ]
    },
    {
     "data": {
      "text/html": [
       "<div>\n",
       "<style scoped>\n",
       "    .dataframe tbody tr th:only-of-type {\n",
       "        vertical-align: middle;\n",
       "    }\n",
       "\n",
       "    .dataframe tbody tr th {\n",
       "        vertical-align: top;\n",
       "    }\n",
       "\n",
       "    .dataframe thead th {\n",
       "        text-align: right;\n",
       "    }\n",
       "</style>\n",
       "<table border=\"1\" class=\"dataframe\">\n",
       "  <thead>\n",
       "    <tr style=\"text-align: right;\">\n",
       "      <th></th>\n",
       "      <th>id_img</th>\n",
       "      <th>label</th>\n",
       "    </tr>\n",
       "  </thead>\n",
       "  <tbody>\n",
       "    <tr>\n",
       "      <th>0</th>\n",
       "      <td>10052</td>\n",
       "      <td>happy</td>\n",
       "    </tr>\n",
       "    <tr>\n",
       "      <th>1</th>\n",
       "      <td>10065</td>\n",
       "      <td>sad</td>\n",
       "    </tr>\n",
       "    <tr>\n",
       "      <th>2</th>\n",
       "      <td>10079</td>\n",
       "      <td>angry</td>\n",
       "    </tr>\n",
       "    <tr>\n",
       "      <th>3</th>\n",
       "      <td>10095</td>\n",
       "      <td>angry</td>\n",
       "    </tr>\n",
       "    <tr>\n",
       "      <th>4</th>\n",
       "      <td>10121</td>\n",
       "      <td>angry</td>\n",
       "    </tr>\n",
       "  </tbody>\n",
       "</table>\n",
       "</div>"
      ],
      "text/plain": [
       "   id_img  label\n",
       "0   10052  happy\n",
       "1   10065    sad\n",
       "2   10079  angry\n",
       "3   10095  angry\n",
       "4   10121  angry"
      ]
     },
     "execution_count": 43,
     "metadata": {},
     "output_type": "execute_result"
    }
   ],
   "source": [
    "predictions = model_drop.predict(X_test)\n",
    "\n",
    "predicted_labels = [class_names[np.argmax(pred)] for pred in predictions]\n",
    "\n",
    "predicted_df = pd.DataFrame({'id_img': image_names,\n",
    "                             'label': predicted_labels})\n",
    "\n",
    "predicted_df.head()"
   ]
  },
  {
   "cell_type": "code",
   "execution_count": null,
   "metadata": {},
   "outputs": [],
   "source": [
    "predicted_df.to_csv('Pruebas/prueba_4.csv', index=False)"
   ]
  },
  {
   "cell_type": "markdown",
   "metadata": {},
   "source": [
    "# Modelo 5: Batch Normalization y Dropout en capa densa"
   ]
  },
  {
   "cell_type": "code",
   "execution_count": null,
   "metadata": {},
   "outputs": [
    {
     "name": "stdout",
     "output_type": "stream",
     "text": [
      "Epoch 1/20\n",
      "\u001b[1m361/361\u001b[0m \u001b[32m━━━━━━━━━━━━━━━━━━━━\u001b[0m\u001b[37m\u001b[0m \u001b[1m56s\u001b[0m 146ms/step - accuracy: 0.3200 - loss: 1.9065 - val_accuracy: 0.2533 - val_loss: 1.8900\n",
      "Epoch 2/20\n",
      "\u001b[1m361/361\u001b[0m \u001b[32m━━━━━━━━━━━━━━━━━━━━\u001b[0m\u001b[37m\u001b[0m \u001b[1m56s\u001b[0m 155ms/step - accuracy: 0.4608 - loss: 1.3909 - val_accuracy: 0.4628 - val_loss: 1.3902\n",
      "Epoch 3/20\n",
      "\u001b[1m361/361\u001b[0m \u001b[32m━━━━━━━━━━━━━━━━━━━━\u001b[0m\u001b[37m\u001b[0m \u001b[1m57s\u001b[0m 158ms/step - accuracy: 0.5303 - loss: 1.2283 - val_accuracy: 0.5004 - val_loss: 1.3052\n",
      "Epoch 4/20\n",
      "\u001b[1m361/361\u001b[0m \u001b[32m━━━━━━━━━━━━━━━━━━━━\u001b[0m\u001b[37m\u001b[0m \u001b[1m50s\u001b[0m 137ms/step - accuracy: 0.5805 - loss: 1.1042 - val_accuracy: 0.4519 - val_loss: 1.4426\n",
      "Epoch 5/20\n",
      "\u001b[1m361/361\u001b[0m \u001b[32m━━━━━━━━━━━━━━━━━━━━\u001b[0m\u001b[37m\u001b[0m \u001b[1m50s\u001b[0m 138ms/step - accuracy: 0.6239 - loss: 1.0043 - val_accuracy: 0.5280 - val_loss: 1.2518\n",
      "Epoch 6/20\n",
      "\u001b[1m361/361\u001b[0m \u001b[32m━━━━━━━━━━━━━━━━━━━━\u001b[0m\u001b[37m\u001b[0m \u001b[1m50s\u001b[0m 139ms/step - accuracy: 0.6634 - loss: 0.8938 - val_accuracy: 0.5393 - val_loss: 1.2752\n",
      "Epoch 7/20\n",
      "\u001b[1m361/361\u001b[0m \u001b[32m━━━━━━━━━━━━━━━━━━━━\u001b[0m\u001b[37m\u001b[0m \u001b[1m53s\u001b[0m 147ms/step - accuracy: 0.7180 - loss: 0.7545 - val_accuracy: 0.5230 - val_loss: 1.3703\n",
      "Epoch 8/20\n",
      "\u001b[1m361/361\u001b[0m \u001b[32m━━━━━━━━━━━━━━━━━━━━\u001b[0m\u001b[37m\u001b[0m \u001b[1m51s\u001b[0m 143ms/step - accuracy: 0.7657 - loss: 0.6368 - val_accuracy: 0.5311 - val_loss: 1.4004\n",
      "Epoch 9/20\n",
      "\u001b[1m361/361\u001b[0m \u001b[32m━━━━━━━━━━━━━━━━━━━━\u001b[0m\u001b[37m\u001b[0m \u001b[1m52s\u001b[0m 145ms/step - accuracy: 0.8086 - loss: 0.5219 - val_accuracy: 0.5343 - val_loss: 1.5556\n",
      "Epoch 10/20\n",
      "\u001b[1m361/361\u001b[0m \u001b[32m━━━━━━━━━━━━━━━━━━━━\u001b[0m\u001b[37m\u001b[0m \u001b[1m56s\u001b[0m 155ms/step - accuracy: 0.8477 - loss: 0.4238 - val_accuracy: 0.5459 - val_loss: 1.5512\n",
      "\u001b[1m181/181\u001b[0m \u001b[32m━━━━━━━━━━━━━━━━━━━━\u001b[0m\u001b[37m\u001b[0m \u001b[1m2s\u001b[0m 11ms/step - accuracy: 0.5390 - loss: 1.2414\n"
     ]
    },
    {
     "name": "stderr",
     "output_type": "stream",
     "text": [
      "WARNING:absl:You are saving your model as an HDF5 file via `model.save()` or `keras.saving.save_model(model)`. This file format is considered legacy. We recommend using instead the native Keras format, e.g. `model.save('my_model.keras')` or `keras.saving.save_model(model, 'my_model.keras')`. \n"
     ]
    },
    {
     "name": "stdout",
     "output_type": "stream",
     "text": [
      "Accuracy en el conjunto de prueba: 0.5280138850212097\n",
      "Pérdida en el conjunto de prueba: 1.2517712116241455\n",
      "\u001b[1m221/221\u001b[0m \u001b[32m━━━━━━━━━━━━━━━━━━━━\u001b[0m\u001b[37m\u001b[0m \u001b[1m3s\u001b[0m 12ms/step\n"
     ]
    }
   ],
   "source": [
    "model_batch = models.Sequential([layers.Conv2D(32, (3, 3), activation='relu', input_shape=(48, 48, 1)),\n",
    "                                layers.BatchNormalization(),  #Batch Normalization para estabilizar\n",
    "                                layers.MaxPooling2D((2, 2)),\n",
    "\n",
    "                                layers.Conv2D(64, (3, 3), activation='relu'),\n",
    "                                layers.BatchNormalization(),  #Batch Normalization para estabilizar\n",
    "                                layers.MaxPooling2D((2, 2)),\n",
    "\n",
    "                                layers.Conv2D(128, (3, 3), activation='relu'),\n",
    "                                layers.BatchNormalization(),  #Batch Normalization para estabilizar\n",
    "                                layers.MaxPooling2D((2, 2)),\n",
    "\n",
    "                                layers.Flatten(),\n",
    "\n",
    "                                layers.Dense(128, activation='relu'),\n",
    "                                layers.Dropout(0.1),  #Dropout reducido y solo en la capa densa\n",
    "\n",
    "                                layers.Dense(7, activation='softmax')])\n",
    "\n",
    "\n",
    "model_batch.compile(optimizer='adam',\n",
    "                     loss='sparse_categorical_crossentropy',\n",
    "                     metrics=['accuracy'])\n",
    "\n",
    "history = model_batch.fit(X_train_train,\n",
    "                           y_train_train,\n",
    "                           epochs=20,\n",
    "                           batch_size=64,\n",
    "                           validation_data=(X_test_train, y_test_train),\n",
    "                           callbacks=[early_stopping])\n",
    "\n",
    "\n",
    "test_loss, test_acc = model_batch.evaluate(X_test_train, y_test_train)\n",
    "print(f\"Accuracy en el conjunto de prueba: {test_acc}\")\n",
    "print(f\"Pérdida en el conjunto de prueba: {test_loss}\")\n",
    "\n",
    "\n",
    "model_batch.save('Modelos/modelo_bacth.h5')\n",
    "\n",
    "predictions = model_batch.predict(X_test)\n",
    "\n",
    "predicted_labels = [class_names[np.argmax(pred)] for pred in predictions]\n",
    "\n",
    "predicted_df = pd.DataFrame({'id_img': image_names,\n",
    "                             'label': predicted_labels})\n",
    "\n",
    "predicted_df.to_csv('Pruebas/prueba_5.csv', index=False)\n"
   ]
  },
  {
   "cell_type": "code",
   "execution_count": 36,
   "metadata": {},
   "outputs": [
    {
     "data": {
      "text/plain": [
       "<bound method DataFrame.value_counts of       id_img     label\n",
       "0      10052     angry\n",
       "1      10065      fear\n",
       "2      10079     angry\n",
       "3      10095     angry\n",
       "4      10121     angry\n",
       "...      ...       ...\n",
       "7061    9806  surprise\n",
       "7062    9830     happy\n",
       "7063    9853  surprise\n",
       "7064    9878     happy\n",
       "7065     993  surprise\n",
       "\n",
       "[7066 rows x 2 columns]>"
      ]
     },
     "execution_count": 36,
     "metadata": {},
     "output_type": "execute_result"
    }
   ],
   "source": [
    "predicted_df.value_counts"
   ]
  },
  {
   "cell_type": "markdown",
   "metadata": {},
   "source": [
    "# Modelo 6: Resnet con transfer learning"
   ]
  },
  {
   "cell_type": "code",
   "execution_count": 48,
   "metadata": {},
   "outputs": [],
   "source": [
    "from tensorflow.keras.applications import ResNet50\n",
    "from tensorflow.keras.layers import GlobalAveragePooling2D\n"
   ]
  },
  {
   "cell_type": "code",
   "execution_count": null,
   "metadata": {},
   "outputs": [
    {
     "name": "stdout",
     "output_type": "stream",
     "text": [
      "Downloading data from https://storage.googleapis.com/tensorflow/keras-applications/resnet/resnet50_weights_tf_dim_ordering_tf_kernels_notop.h5\n",
      "\u001b[1m94765736/94765736\u001b[0m \u001b[32m━━━━━━━━━━━━━━━━━━━━\u001b[0m\u001b[37m\u001b[0m \u001b[1m114s\u001b[0m 1us/step\n"
     ]
    }
   ],
   "source": [
    "#Cargar ResNet50 preentrenado, excluyendo la última capa\n",
    "base_model = ResNet50(weights='imagenet', include_top=False, input_shape=(48, 48, 3))"
   ]
  },
  {
   "cell_type": "code",
   "execution_count": 49,
   "metadata": {},
   "outputs": [],
   "source": [
    "for layer in base_model.layers:\n",
    "    layer.trainable = False"
   ]
  },
  {
   "cell_type": "code",
   "execution_count": null,
   "metadata": {},
   "outputs": [],
   "source": [
    "model_trans = models.Sequential([ base_model, \n",
    "                                GlobalAveragePooling2D(),  \n",
    "                                layers.Dense(128, activation='relu'),  \n",
    "                                layers.Dropout(0.5),  \n",
    "                                layers.Dense(7, activation='softmax')])"
   ]
  },
  {
   "cell_type": "code",
   "execution_count": null,
   "metadata": {},
   "outputs": [],
   "source": [
    "model_trans.compile(optimizer=Adam(learning_rate=0.0001),  #Tasa de aprendizaje baja para fine-tuning\n",
    "                    loss='sparse_categorical_crossentropy',  \n",
    "                    metrics=['accuracy'])"
   ]
  },
  {
   "cell_type": "code",
   "execution_count": null,
   "metadata": {},
   "outputs": [],
   "source": [
    "history = model_trans.fit(X_train_train, y_train_train,\n",
    "                            epochs=20,\n",
    "                            batch_size=128,\n",
    "                            validation_data=(X_test_train, y_test_train),\n",
    "                            callbacks=[early_stopping])"
   ]
  },
  {
   "cell_type": "markdown",
   "metadata": {},
   "source": [
    "# Probar ImageDataGenerator, para aumentar la cantida muestra y hacer volteos y zooms (recomencación de un amigo)"
   ]
  },
  {
   "cell_type": "code",
   "execution_count": 87,
   "metadata": {},
   "outputs": [],
   "source": [
    "from tensorflow.keras.preprocessing.image import ImageDataGenerator"
   ]
  },
  {
   "cell_type": "code",
   "execution_count": null,
   "metadata": {},
   "outputs": [],
   "source": [
    "X_train_train_train = np.expand_dims(X_train_train, axis=-1)   #Pasar a 4 dimensiones (num_samples, height, width, channels)\n",
    "X_test_train_train = np.expand_dims(X_test_train, axis=-1)\n",
    "\n",
    "datagen = ImageDataGenerator(\n",
    "    rotation_range=30,\n",
    "    width_shift_range=0.2,\n",
    "    height_shift_range=0.2,\n",
    "    shear_range=0.2,\n",
    "    zoom_range=0.2,\n",
    "    horizontal_flip=True,\n",
    "    fill_mode=\"nearest\"\n",
    ")\n",
    "\n",
    "datagen.fit(X_train_train)  # Ajustar al conjunto de entrenamiento\n",
    "\n",
    "history = model_batch.fit(datagen.flow(X_train_train_train,\n",
    "                                        y_train_train,\n",
    "                                        batch_size=128),\n",
    "                                        epochs=20,\n",
    "                                        validation_data=(X_test_train_train, y_test_train),\n",
    "                                        callbacks=[early_stopping])"
   ]
  }
 ],
 "metadata": {
  "kernelspec": {
   "display_name": "Python 3",
   "language": "python",
   "name": "python3"
  },
  "language_info": {
   "codemirror_mode": {
    "name": "ipython",
    "version": 3
   },
   "file_extension": ".py",
   "mimetype": "text/x-python",
   "name": "python",
   "nbconvert_exporter": "python",
   "pygments_lexer": "ipython3",
   "version": "3.12.5"
  }
 },
 "nbformat": 4,
 "nbformat_minor": 2
}
